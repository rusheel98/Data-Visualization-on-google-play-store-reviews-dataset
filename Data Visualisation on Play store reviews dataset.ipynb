{
 "cells": [
  {
   "cell_type": "markdown",
   "metadata": {},
   "source": [
    "# Google Playstore Case Study"
   ]
  },
  {
   "cell_type": "markdown",
   "metadata": {},
   "source": [
    "In this module you’ll be learning data visualisation with the help of a case study. This will enable you to understand how visualisation aids you in solving business problems. "
   ]
  },
  {
   "cell_type": "markdown",
   "metadata": {},
   "source": [
    "**Problem Statement**\n",
    "\n",
    "The team at Google Play Store wants to develop a feature that would enable them to boost visibility for the most promising apps. Now, this analysis would require a preliminary understanding of the features that define a well-performing app. You can ask questions like:\n",
    "- Does a higher size or price necessarily mean that an app would perform better than the other apps? \n",
    "- Or does a higher number of installs give a clear picture of which app would have a better rating than others?\n"
   ]
  },
  {
   "cell_type": "markdown",
   "metadata": {},
   "source": [
    "\n",
    "\n",
    "### Session 1 - Introduction to Data Visualisation"
   ]
  },
  {
   "cell_type": "code",
   "execution_count": 1,
   "metadata": {},
   "outputs": [],
   "source": [
    "#import the libraries\n",
    "import pandas as pd\n",
    "import numpy as np\n",
    "import matplotlib.pyplot as plt"
   ]
  },
  {
   "cell_type": "code",
   "execution_count": 2,
   "metadata": {},
   "outputs": [
    {
     "data": {
      "text/html": [
       "<div>\n",
       "<style scoped>\n",
       "    .dataframe tbody tr th:only-of-type {\n",
       "        vertical-align: middle;\n",
       "    }\n",
       "\n",
       "    .dataframe tbody tr th {\n",
       "        vertical-align: top;\n",
       "    }\n",
       "\n",
       "    .dataframe thead th {\n",
       "        text-align: right;\n",
       "    }\n",
       "</style>\n",
       "<table border=\"1\" class=\"dataframe\">\n",
       "  <thead>\n",
       "    <tr style=\"text-align: right;\">\n",
       "      <th></th>\n",
       "      <th>App</th>\n",
       "      <th>Category</th>\n",
       "      <th>Rating</th>\n",
       "      <th>Reviews</th>\n",
       "      <th>Size</th>\n",
       "      <th>Installs</th>\n",
       "      <th>Type</th>\n",
       "      <th>Price</th>\n",
       "      <th>Content Rating</th>\n",
       "      <th>Genres</th>\n",
       "      <th>Last Updated</th>\n",
       "      <th>Current Ver</th>\n",
       "      <th>Android Ver</th>\n",
       "    </tr>\n",
       "  </thead>\n",
       "  <tbody>\n",
       "    <tr>\n",
       "      <th>0</th>\n",
       "      <td>Photo Editor &amp; Candy Camera &amp; Grid &amp; ScrapBook</td>\n",
       "      <td>ART_AND_DESIGN</td>\n",
       "      <td>4.1</td>\n",
       "      <td>159</td>\n",
       "      <td>19000.0</td>\n",
       "      <td>10,000+</td>\n",
       "      <td>Free</td>\n",
       "      <td>0</td>\n",
       "      <td>Everyone</td>\n",
       "      <td>Art &amp; Design</td>\n",
       "      <td>January 7, 2018</td>\n",
       "      <td>1.0.0</td>\n",
       "      <td>4.0.3 and up</td>\n",
       "    </tr>\n",
       "    <tr>\n",
       "      <th>1</th>\n",
       "      <td>Coloring book moana</td>\n",
       "      <td>ART_AND_DESIGN</td>\n",
       "      <td>3.9</td>\n",
       "      <td>967</td>\n",
       "      <td>14000.0</td>\n",
       "      <td>500,000+</td>\n",
       "      <td>Free</td>\n",
       "      <td>0</td>\n",
       "      <td>Everyone</td>\n",
       "      <td>Art &amp; Design;Pretend Play</td>\n",
       "      <td>January 15, 2018</td>\n",
       "      <td>2.0.0</td>\n",
       "      <td>4.0.3 and up</td>\n",
       "    </tr>\n",
       "    <tr>\n",
       "      <th>2</th>\n",
       "      <td>U Launcher Lite – FREE Live Cool Themes, Hide ...</td>\n",
       "      <td>ART_AND_DESIGN</td>\n",
       "      <td>4.7</td>\n",
       "      <td>87510</td>\n",
       "      <td>8700.0</td>\n",
       "      <td>5,000,000+</td>\n",
       "      <td>Free</td>\n",
       "      <td>0</td>\n",
       "      <td>Everyone</td>\n",
       "      <td>Art &amp; Design</td>\n",
       "      <td>August 1, 2018</td>\n",
       "      <td>1.2.4</td>\n",
       "      <td>4.0.3 and up</td>\n",
       "    </tr>\n",
       "    <tr>\n",
       "      <th>3</th>\n",
       "      <td>Sketch - Draw &amp; Paint</td>\n",
       "      <td>ART_AND_DESIGN</td>\n",
       "      <td>4.5</td>\n",
       "      <td>215644</td>\n",
       "      <td>25000.0</td>\n",
       "      <td>50,000,000+</td>\n",
       "      <td>Free</td>\n",
       "      <td>0</td>\n",
       "      <td>Teen</td>\n",
       "      <td>Art &amp; Design</td>\n",
       "      <td>June 8, 2018</td>\n",
       "      <td>Varies with device</td>\n",
       "      <td>4.2 and up</td>\n",
       "    </tr>\n",
       "    <tr>\n",
       "      <th>4</th>\n",
       "      <td>Pixel Draw - Number Art Coloring Book</td>\n",
       "      <td>ART_AND_DESIGN</td>\n",
       "      <td>4.3</td>\n",
       "      <td>967</td>\n",
       "      <td>2800.0</td>\n",
       "      <td>100,000+</td>\n",
       "      <td>Free</td>\n",
       "      <td>0</td>\n",
       "      <td>Everyone</td>\n",
       "      <td>Art &amp; Design;Creativity</td>\n",
       "      <td>June 20, 2018</td>\n",
       "      <td>1.1</td>\n",
       "      <td>4.4 and up</td>\n",
       "    </tr>\n",
       "  </tbody>\n",
       "</table>\n",
       "</div>"
      ],
      "text/plain": [
       "                                                 App        Category  Rating  \\\n",
       "0     Photo Editor & Candy Camera & Grid & ScrapBook  ART_AND_DESIGN     4.1   \n",
       "1                                Coloring book moana  ART_AND_DESIGN     3.9   \n",
       "2  U Launcher Lite – FREE Live Cool Themes, Hide ...  ART_AND_DESIGN     4.7   \n",
       "3                              Sketch - Draw & Paint  ART_AND_DESIGN     4.5   \n",
       "4              Pixel Draw - Number Art Coloring Book  ART_AND_DESIGN     4.3   \n",
       "\n",
       "  Reviews     Size     Installs  Type Price Content Rating  \\\n",
       "0     159  19000.0      10,000+  Free     0       Everyone   \n",
       "1     967  14000.0     500,000+  Free     0       Everyone   \n",
       "2   87510   8700.0   5,000,000+  Free     0       Everyone   \n",
       "3  215644  25000.0  50,000,000+  Free     0           Teen   \n",
       "4     967   2800.0     100,000+  Free     0       Everyone   \n",
       "\n",
       "                      Genres      Last Updated         Current Ver  \\\n",
       "0               Art & Design   January 7, 2018               1.0.0   \n",
       "1  Art & Design;Pretend Play  January 15, 2018               2.0.0   \n",
       "2               Art & Design    August 1, 2018               1.2.4   \n",
       "3               Art & Design      June 8, 2018  Varies with device   \n",
       "4    Art & Design;Creativity     June 20, 2018                 1.1   \n",
       "\n",
       "    Android Ver  \n",
       "0  4.0.3 and up  \n",
       "1  4.0.3 and up  \n",
       "2  4.0.3 and up  \n",
       "3    4.2 and up  \n",
       "4    4.4 and up  "
      ]
     },
     "execution_count": 2,
     "metadata": {},
     "output_type": "execute_result"
    }
   ],
   "source": [
    "#read the dataset and check the first five rows\n",
    "df = pd.read_csv('D:\\Learning\\Case Study Notebook\\googleplaystore_v2.csv')\n",
    "df.head(5)"
   ]
  },
  {
   "cell_type": "code",
   "execution_count": 3,
   "metadata": {},
   "outputs": [
    {
     "data": {
      "text/plain": [
       "(10841, 13)"
      ]
     },
     "execution_count": 3,
     "metadata": {},
     "output_type": "execute_result"
    }
   ],
   "source": [
    "#Check the shape of the dataframe\n",
    "df.shape"
   ]
  },
  {
   "cell_type": "markdown",
   "metadata": {},
   "source": [
    "### Data Handling and Cleaning"
   ]
  },
  {
   "cell_type": "markdown",
   "metadata": {},
   "source": [
    "The first few steps involve making sure that there are no __missing values__ or __incorrect data types__ before we proceed to the analysis stage. These aforementioned problems are handled as follows:\n",
    "\n",
    " - For Missing Values: Some common techniques to treat this issue are\n",
    "    - Dropping the rows containing the missing values\n",
    "    - Imputing the missing values\n",
    "    - Keep the missing values if they don't affect the analysis\n",
    " \n",
    "    \n",
    " - Incorrect Data Types:\n",
    "    - Clean certain values \n",
    "    - Clean and convert an entire column\n",
    " "
   ]
  },
  {
   "cell_type": "code",
   "execution_count": 4,
   "metadata": {},
   "outputs": [
    {
     "data": {
      "text/plain": [
       "App                object\n",
       "Category           object\n",
       "Rating            float64\n",
       "Reviews            object\n",
       "Size              float64\n",
       "Installs           object\n",
       "Type               object\n",
       "Price              object\n",
       "Content Rating     object\n",
       "Genres             object\n",
       "Last Updated       object\n",
       "Current Ver        object\n",
       "Android Ver        object\n",
       "dtype: object"
      ]
     },
     "execution_count": 4,
     "metadata": {},
     "output_type": "execute_result"
    }
   ],
   "source": [
    "#Check the datatypes of all the columns of the dataframe\n",
    "df.dtypes"
   ]
  },
  {
   "cell_type": "markdown",
   "metadata": {},
   "source": [
    "#### Missing Value Treatment"
   ]
  },
  {
   "cell_type": "code",
   "execution_count": 5,
   "metadata": {},
   "outputs": [
    {
     "data": {
      "text/plain": [
       "App                  0\n",
       "Category             0\n",
       "Rating            1474\n",
       "Reviews              0\n",
       "Size                 0\n",
       "Installs             0\n",
       "Type                 1\n",
       "Price                0\n",
       "Content Rating       1\n",
       "Genres               0\n",
       "Last Updated         0\n",
       "Current Ver          8\n",
       "Android Ver          3\n",
       "dtype: int64"
      ]
     },
     "execution_count": 5,
     "metadata": {},
     "output_type": "execute_result"
    }
   ],
   "source": [
    "#Check the number of null values in the columns\n",
    "df.isnull().sum()"
   ]
  },
  {
   "cell_type": "markdown",
   "metadata": {},
   "source": [
    "Handling missing values for rating\n",
    " - Ratings is the target variable\n",
    " - drop the records"
   ]
  },
  {
   "cell_type": "code",
   "execution_count": 6,
   "metadata": {},
   "outputs": [
    {
     "data": {
      "text/plain": [
       "(9367, 13)"
      ]
     },
     "execution_count": 6,
     "metadata": {},
     "output_type": "execute_result"
    }
   ],
   "source": [
    "#Drop the rows having null values in the Rating field\n",
    "df = df.drop(df[df[\"Rating\"].isnull()].index)\n",
    "\n",
    "#Check the shape of the dataframe\n",
    "df.shape"
   ]
  },
  {
   "cell_type": "code",
   "execution_count": 7,
   "metadata": {},
   "outputs": [
    {
     "data": {
      "text/plain": [
       "0"
      ]
     },
     "execution_count": 7,
     "metadata": {},
     "output_type": "execute_result"
    }
   ],
   "source": [
    "# Check the number of nulls in the Rating field again to cross-verify\n",
    "df[\"Rating\"].isnull().sum()"
   ]
  },
  {
   "cell_type": "code",
   "execution_count": 8,
   "metadata": {},
   "outputs": [
    {
     "name": "stdout",
     "output_type": "stream",
     "text": [
      "App               0\n",
      "Category          0\n",
      "Rating            0\n",
      "Reviews           0\n",
      "Size              0\n",
      "Installs          0\n",
      "Type              0\n",
      "Price             0\n",
      "Content Rating    1\n",
      "Genres            0\n",
      "Last Updated      0\n",
      "Current Ver       4\n",
      "Android Ver       3\n",
      "dtype: int64\n",
      "Total no of nulls: 8\n"
     ]
    }
   ],
   "source": [
    "#Question\n",
    "#Check the number of nulls in the dataframe again and find the total number of null values\n",
    "print(df.isnull().sum())\n",
    "print(\"Total no of nulls: {}\".format(df.isnull().sum().sum()))"
   ]
  },
  {
   "cell_type": "code",
   "execution_count": 9,
   "metadata": {},
   "outputs": [
    {
     "data": {
      "text/plain": [
       "4453     NaN\n",
       "4490     NaN\n",
       "10472    NaN\n",
       "Name: Android Ver, dtype: object"
      ]
     },
     "execution_count": 9,
     "metadata": {},
     "output_type": "execute_result"
    }
   ],
   "source": [
    "#Inspect the nulls in the Android Version column\n",
    "df.loc[df['Android Ver'].isnull(), 'Android Ver']"
   ]
  },
  {
   "cell_type": "code",
   "execution_count": 10,
   "metadata": {},
   "outputs": [],
   "source": [
    "#Drop the row having shifted values\n",
    "df['Android Ver'].value_counts()\n",
    "df.drop(df[df['Android Ver']=='Varies with device'].index, inplace=True)"
   ]
  },
  {
   "cell_type": "code",
   "execution_count": 11,
   "metadata": {},
   "outputs": [
    {
     "name": "stdout",
     "output_type": "stream",
     "text": [
      "4.1 and up       2059\n",
      "4.0.3 and up     1240\n",
      "4.0 and up       1131\n",
      "4.4 and up        875\n",
      "2.3 and up        582\n",
      "5.0 and up        535\n",
      "4.2 and up        338\n",
      "2.3.3 and up      240\n",
      "3.0 and up        211\n",
      "2.2 and up        208\n",
      "4.3 and up        207\n",
      "2.1 and up        113\n",
      "1.6 and up         87\n",
      "6.0 and up         48\n",
      "7.0 and up         41\n",
      "3.2 and up         31\n",
      "2.0 and up         27\n",
      "5.1 and up         18\n",
      "1.5 and up         16\n",
      "3.1 and up          8\n",
      "2.0.1 and up        7\n",
      "4.4W and up         6\n",
      "8.0 and up          5\n",
      "7.1 and up          3\n",
      "1.0 and up          2\n",
      "5.0 - 8.0           2\n",
      "4.0.3 - 7.1.1       2\n",
      "4.1 - 7.1.1         1\n",
      "7.0 - 7.1.1         1\n",
      "5.0 - 6.0           1\n",
      "Name: Android Ver, dtype: int64\n",
      "4453     NaN\n",
      "4490     NaN\n",
      "10472    NaN\n",
      "Name: Android Ver, dtype: object\n"
     ]
    }
   ],
   "source": [
    "print(df['Android Ver'].value_counts())\n",
    "#Check the nulls againin Android version column to cross-verify\n",
    "print(df.loc[df['Android Ver'].isnull(), 'Android Ver'])"
   ]
  },
  {
   "cell_type": "code",
   "execution_count": 12,
   "metadata": {},
   "outputs": [],
   "source": [
    "df['Android Ver'].fillna(value='4.1 and up', inplace=True)"
   ]
  },
  {
   "cell_type": "code",
   "execution_count": 13,
   "metadata": {},
   "outputs": [
    {
     "data": {
      "text/plain": [
       "FAMILY                 1674\n",
       "GAME                   1045\n",
       "TOOLS                   639\n",
       "MEDICAL                 327\n",
       "LIFESTYLE               285\n",
       "PERSONALIZATION         279\n",
       "FINANCE                 270\n",
       "SPORTS                  267\n",
       "BUSINESS                264\n",
       "PHOTOGRAPHY             260\n",
       "PRODUCTIVITY            251\n",
       "COMMUNICATION           232\n",
       "HEALTH_AND_FITNESS      227\n",
       "SOCIAL                  185\n",
       "DATING                  183\n",
       "SHOPPING                183\n",
       "NEWS_AND_MAGAZINES      171\n",
       "TRAVEL_AND_LOCAL        167\n",
       "BOOKS_AND_REFERENCE     147\n",
       "VIDEO_PLAYERS           128\n",
       "EDUCATION               114\n",
       "MAPS_AND_NAVIGATION      97\n",
       "ENTERTAINMENT            97\n",
       "FOOD_AND_DRINK           87\n",
       "AUTO_AND_VEHICLES        66\n",
       "LIBRARIES_AND_DEMO       62\n",
       "ART_AND_DESIGN           60\n",
       "HOUSE_AND_HOME           56\n",
       "WEATHER                  51\n",
       "COMICS                   49\n",
       "PARENTING                47\n",
       "BEAUTY                   39\n",
       "EVENTS                   38\n",
       "1.9                       1\n",
       "Name: Category, dtype: int64"
      ]
     },
     "execution_count": 13,
     "metadata": {},
     "output_type": "execute_result"
    }
   ],
   "source": [
    "df['Category'].value_counts()"
   ]
  },
  {
   "cell_type": "markdown",
   "metadata": {},
   "source": [
    "Imputing Missing Values\n",
    "\n",
    "- For numerical variables use mean and median\n",
    "- For categorical variables use mode"
   ]
  },
  {
   "cell_type": "code",
   "execution_count": 14,
   "metadata": {},
   "outputs": [
    {
     "data": {
      "text/plain": [
       "['4.1 and up']"
      ]
     },
     "execution_count": 14,
     "metadata": {},
     "output_type": "execute_result"
    }
   ],
   "source": [
    "#Check the most common value in the Android version column\n",
    "df['Android Ver'].value_counts()[:1].index.tolist()"
   ]
  },
  {
   "cell_type": "code",
   "execution_count": 15,
   "metadata": {},
   "outputs": [],
   "source": [
    "#Fill up the nulls in the Android Version column with the above value\n",
    "#df['Android Ver'].replace(np.NaN, '4.1 and up', inplace=True)"
   ]
  },
  {
   "cell_type": "code",
   "execution_count": 16,
   "metadata": {},
   "outputs": [
    {
     "data": {
      "text/plain": [
       "Series([], Name: Android Ver, dtype: object)"
      ]
     },
     "execution_count": 16,
     "metadata": {},
     "output_type": "execute_result"
    }
   ],
   "source": [
    "#Check the nulls in the Android version column again to cross-verify\n",
    "df.loc[df['Android Ver'].isnull(), 'Android Ver']"
   ]
  },
  {
   "cell_type": "code",
   "execution_count": 17,
   "metadata": {},
   "outputs": [
    {
     "data": {
      "text/plain": [
       "App               0\n",
       "Category          0\n",
       "Rating            0\n",
       "Reviews           0\n",
       "Size              0\n",
       "Installs          0\n",
       "Type              0\n",
       "Price             0\n",
       "Content Rating    1\n",
       "Genres            0\n",
       "Last Updated      0\n",
       "Current Ver       4\n",
       "Android Ver       0\n",
       "dtype: int64"
      ]
     },
     "execution_count": 17,
     "metadata": {},
     "output_type": "execute_result"
    }
   ],
   "source": [
    "#Check the nulls in the entire dataframe again\n",
    "df.isnull().sum()"
   ]
  },
  {
   "cell_type": "code",
   "execution_count": 18,
   "metadata": {},
   "outputs": [
    {
     "data": {
      "text/plain": [
       "['1.0']"
      ]
     },
     "execution_count": 18,
     "metadata": {},
     "output_type": "execute_result"
    }
   ],
   "source": [
    "#Check the most common value in the Current version column\n",
    "df['Current Ver'].value_counts()[:1].index.tolist()"
   ]
  },
  {
   "cell_type": "code",
   "execution_count": 19,
   "metadata": {},
   "outputs": [],
   "source": [
    "#Replace the nulls in the Current version column with the above value\n",
    "df['Current Ver'].replace(np.NaN, '1.0', inplace=True)"
   ]
  },
  {
   "cell_type": "code",
   "execution_count": 20,
   "metadata": {},
   "outputs": [
    {
     "data": {
      "text/plain": [
       "0"
      ]
     },
     "execution_count": 20,
     "metadata": {},
     "output_type": "execute_result"
    }
   ],
   "source": [
    "df['Current Ver'].isnull().sum()"
   ]
  },
  {
   "cell_type": "code",
   "execution_count": 21,
   "metadata": {},
   "outputs": [
    {
     "data": {
      "text/plain": [
       "['1.0']"
      ]
     },
     "execution_count": 21,
     "metadata": {},
     "output_type": "execute_result"
    }
   ],
   "source": [
    "# Question : Check the most common value in the Current version column again\n",
    "df['Current Ver'].value_counts()[:1].index.tolist()"
   ]
  },
  {
   "cell_type": "markdown",
   "metadata": {},
   "source": [
    "#### Handling Incorrect Data Types "
   ]
  },
  {
   "cell_type": "code",
   "execution_count": 22,
   "metadata": {},
   "outputs": [
    {
     "data": {
      "text/plain": [
       "App                object\n",
       "Category           object\n",
       "Rating            float64\n",
       "Reviews            object\n",
       "Size              float64\n",
       "Installs           object\n",
       "Type               object\n",
       "Price              object\n",
       "Content Rating     object\n",
       "Genres             object\n",
       "Last Updated       object\n",
       "Current Ver        object\n",
       "Android Ver        object\n",
       "dtype: object"
      ]
     },
     "execution_count": 22,
     "metadata": {},
     "output_type": "execute_result"
    }
   ],
   "source": [
    "#Check the datatypes of all the columns \n",
    "df.dtypes"
   ]
  },
  {
   "cell_type": "code",
   "execution_count": 23,
   "metadata": {},
   "outputs": [
    {
     "ename": "TypeError",
     "evalue": "Could not convert 00000000000000000000000000000000000000000000000000000000000000000000000000000$3.99000000$3.9900000000000000000000000000000000000000$3.9900000000000000000000000000000000000000000000000000000$5.990000000000000000000000$2.9900000000000000000000000000000000000000000000000000000000000000000000000000000000000000000000000000000000000000000000000000000000000000000000000000000000000000000000000000000000$9.990000000000000000000000000000000000000000000000000000000000000000000000000000000000000000$2.99$2.990000000000000000000000000000$4.99$2.99$4.99000000000$5.49$10.00$3.99$2.99$2.99$0.99$7.49$2.99$1.99$7.99$19.990000000000000000000000$10.0000$5.49000$39.990$19.99000000000000000000000000000000000000000000000000000000000000000000000000000000000$5.99$5.9900000$5.990000000000000000000000$29.990000000000000000000000000000000000000000000000000000000000000000000000000000000000000000000000000000000000000000000000000000000000000000000000000000000000000000000000$2.99000000000$0.99000000000000000000000000000000000000000$0.990000000000$5.9900000000000000$400.00000$2.990000000000$0.99000$2.49$1.99$0.990000$1.49$0.9900$0.990$0.990000$4.7700$4.990000$2.4900000000000000000000000$1.9900000000$1.990$1.990$1.990$0.9900$0.99$3.990000000000000000000000000$1.9900000$9.9900$1.9900$3.990$0.99000$2.9900$19.9900000$0.990000000000000000000$0.99$0.99$0.990000000000000000$399.990$2.49$399.99000000000000000000000000000000000000000000000000000000000000000000000000000000000000000000000000000000000000000000$8.490000000$1.750000000000000000000000000000000$2.990000$4.9900000000$4.9900000000000000000000000000000000000$0.990$0.99000$2.99000000000$0.990000000$4.4900000000000000000000000000000000000000000000000000000000000000$3.99000000000000000000000$7.990000$4.99000000000000000000000$2.99$0.9900000000000000$0.9900000000000000000000$2.99$3.99000000$4.990000000000$0.99000000000000000000000000000000000000000000000000000000000$0.990000$4.9900$4.9900000000000000$4.990000000000000000000000$2.99000000000000$2.9900000000000000000000000000000000000000000000000000000000000000000000000000000000000000000000$2.99000000000000$3.280000000$2.990000000000000000000000000000$0.99000000000$1.490000000000000000000$0.99000000000000000$12.990000000000000000000000000000000000000000$3.990000000000000$4.4900000$6.9900000000000000000$1.9900000000000000000000000000000000000000000000000$5.99000000000000000000000000000000000000000000000000000000000000000000000000000000000000000000Everyone00000000000000000000000000$8.990000000000000000000000000 to numeric",
     "output_type": "error",
     "traceback": [
      "\u001b[1;31m---------------------------------------------------------------------------\u001b[0m",
      "\u001b[1;31mValueError\u001b[0m                                Traceback (most recent call last)",
      "\u001b[1;32m~\\anaconda3\\envs\\tutorial\\lib\\site-packages\\pandas\\core\\nanops.py\u001b[0m in \u001b[0;36m_ensure_numeric\u001b[1;34m(x)\u001b[0m\n\u001b[0;32m   1426\u001b[0m         \u001b[1;32mtry\u001b[0m\u001b[1;33m:\u001b[0m\u001b[1;33m\u001b[0m\u001b[1;33m\u001b[0m\u001b[0m\n\u001b[1;32m-> 1427\u001b[1;33m             \u001b[0mx\u001b[0m \u001b[1;33m=\u001b[0m \u001b[0mfloat\u001b[0m\u001b[1;33m(\u001b[0m\u001b[0mx\u001b[0m\u001b[1;33m)\u001b[0m\u001b[1;33m\u001b[0m\u001b[1;33m\u001b[0m\u001b[0m\n\u001b[0m\u001b[0;32m   1428\u001b[0m         \u001b[1;32mexcept\u001b[0m \u001b[0mValueError\u001b[0m\u001b[1;33m:\u001b[0m\u001b[1;33m\u001b[0m\u001b[1;33m\u001b[0m\u001b[0m\n",
      "\u001b[1;31mValueError\u001b[0m: could not convert string to float: '00000000000000000000000000000000000000000000000000000000000000000000000000000$3.99000000$3.9900000000000000000000000000000000000000$3.9900000000000000000000000000000000000000000000000000000$5.990000000000000000000000$2.9900000000000000000000000000000000000000000000000000000000000000000000000000000000000000000000000000000000000000000000000000000000000000000000000000000000000000000000000000000000$9.990000000000000000000000000000000000000000000000000000000000000000000000000000000000000000$2.99$2.990000000000000000000000000000$4.99$2.99$4.99000000000$5.49$10.00$3.99$2.99$2.99$0.99$7.49$2.99$1.99$7.99$19.990000000000000000000000$10.0000$5.49000$39.990$19.99000000000000000000000000000000000000000000000000000000000000000000000000000000000$5.99$5.9900000$5.990000000000000000000000$29.990000000000000000000000000000000000000000000000000000000000000000000000000000000000000000000000000000000000000000000000000000000000000000000000000000000000000000000000$2.99000000000$0.99000000000000000000000000000000000000000$0.990000000000$5.9900000000000000$400.00000$2.990000000000$0.99000$2.49$1.99$0.990000$1.49$0.9900$0.990$0.990000$4.7700$4.990000$2.4900000000000000000000000$1.9900000000$1.990$1.990$1.990$0.9900$0.99$3.990000000000000000000000000$1.9900000$9.9900$1.9900$3.990$0.99000$2.9900$19.9900000$0.990000000000000000000$0.99$0.99$0.990000000000000000$399.990$2.49$399.99000000000000000000000000000000000000000000000000000000000000000000000000000000000000000000000000000000000000000000$8.490000000$1.750000000000000000000000000000000$2.990000$4.9900000000$4.9900000000000000000000000000000000000$0.990$0.99000$2.99000000000$0.990000000$4.4900000000000000000000000000000000000000000000000000000000000000$3.99000000000000000000000$7.990000$4.99000000000000000000000$2.99$0.9900000000000000$0.9900000000000000000000$2.99$3.99000000$4.990000000000$0.99000000000000000000000000000000000000000000000000000000000$0.990000$4.9900$4.9900000000000000$4.990000000000000000000000$2.99000000000000$2.9900000000000000000000000000000000000000000000000000000000000000000000000000000000000000000000$2.99000000000000$3.280000000$2.990000000000000000000000000000$0.99000000000$1.490000000000000000000$0.99000000000000000$12.990000000000000000000000000000000000000000$3.990000000000000$4.4900000$6.9900000000000000000$1.9900000000000000000000000000000000000000000000000$5.99000000000000000000000000000000000000000000000000000000000000000000000000000000000000000000Everyone00000000000000000000000000$8.990000000000000000000000000'",
      "\nDuring handling of the above exception, another exception occurred:\n",
      "\u001b[1;31mValueError\u001b[0m                                Traceback (most recent call last)",
      "\u001b[1;32m~\\anaconda3\\envs\\tutorial\\lib\\site-packages\\pandas\\core\\nanops.py\u001b[0m in \u001b[0;36m_ensure_numeric\u001b[1;34m(x)\u001b[0m\n\u001b[0;32m   1430\u001b[0m             \u001b[1;32mtry\u001b[0m\u001b[1;33m:\u001b[0m\u001b[1;33m\u001b[0m\u001b[1;33m\u001b[0m\u001b[0m\n\u001b[1;32m-> 1431\u001b[1;33m                 \u001b[0mx\u001b[0m \u001b[1;33m=\u001b[0m \u001b[0mcomplex\u001b[0m\u001b[1;33m(\u001b[0m\u001b[0mx\u001b[0m\u001b[1;33m)\u001b[0m\u001b[1;33m\u001b[0m\u001b[1;33m\u001b[0m\u001b[0m\n\u001b[0m\u001b[0;32m   1432\u001b[0m             \u001b[1;32mexcept\u001b[0m \u001b[0mValueError\u001b[0m \u001b[1;32mas\u001b[0m \u001b[0merr\u001b[0m\u001b[1;33m:\u001b[0m\u001b[1;33m\u001b[0m\u001b[1;33m\u001b[0m\u001b[0m\n",
      "\u001b[1;31mValueError\u001b[0m: complex() arg is a malformed string",
      "\nThe above exception was the direct cause of the following exception:\n",
      "\u001b[1;31mTypeError\u001b[0m                                 Traceback (most recent call last)",
      "\u001b[1;32m<ipython-input-23-d1b5c78816a1>\u001b[0m in \u001b[0;36m<module>\u001b[1;34m\u001b[0m\n\u001b[0;32m      1\u001b[0m \u001b[1;31m#Question - Try calculating the average price of all apps having the Android version as \"4.1 and up\"\u001b[0m\u001b[1;33m\u001b[0m\u001b[1;33m\u001b[0m\u001b[1;33m\u001b[0m\u001b[0m\n\u001b[1;32m----> 2\u001b[1;33m \u001b[0mdf\u001b[0m\u001b[1;33m.\u001b[0m\u001b[0mloc\u001b[0m\u001b[1;33m[\u001b[0m\u001b[0mdf\u001b[0m\u001b[1;33m[\u001b[0m\u001b[1;34m'Android Ver'\u001b[0m\u001b[1;33m]\u001b[0m\u001b[1;33m==\u001b[0m\u001b[1;34m'4.1 and up'\u001b[0m\u001b[1;33m,\u001b[0m \u001b[1;34m'Price'\u001b[0m\u001b[1;33m]\u001b[0m\u001b[1;33m.\u001b[0m\u001b[0mmean\u001b[0m\u001b[1;33m(\u001b[0m\u001b[1;33m)\u001b[0m\u001b[1;33m\u001b[0m\u001b[1;33m\u001b[0m\u001b[0m\n\u001b[0m\u001b[0;32m      3\u001b[0m \u001b[1;33m\u001b[0m\u001b[0m\n\u001b[0;32m      4\u001b[0m \u001b[1;31m#Another way to check\u001b[0m\u001b[1;33m\u001b[0m\u001b[1;33m\u001b[0m\u001b[1;33m\u001b[0m\u001b[0m\n\u001b[0;32m      5\u001b[0m \u001b[1;31m# df_sub = df.loc[df['Android Ver']=='4.1 and up','Price']\u001b[0m\u001b[1;33m\u001b[0m\u001b[1;33m\u001b[0m\u001b[1;33m\u001b[0m\u001b[0m\n",
      "\u001b[1;32m~\\anaconda3\\envs\\tutorial\\lib\\site-packages\\pandas\\core\\generic.py\u001b[0m in \u001b[0;36mstat_func\u001b[1;34m(self, axis, skipna, level, numeric_only, **kwargs)\u001b[0m\n\u001b[0;32m  11464\u001b[0m             \u001b[1;32mreturn\u001b[0m \u001b[0mself\u001b[0m\u001b[1;33m.\u001b[0m\u001b[0m_agg_by_level\u001b[0m\u001b[1;33m(\u001b[0m\u001b[0mname\u001b[0m\u001b[1;33m,\u001b[0m \u001b[0maxis\u001b[0m\u001b[1;33m=\u001b[0m\u001b[0maxis\u001b[0m\u001b[1;33m,\u001b[0m \u001b[0mlevel\u001b[0m\u001b[1;33m=\u001b[0m\u001b[0mlevel\u001b[0m\u001b[1;33m,\u001b[0m \u001b[0mskipna\u001b[0m\u001b[1;33m=\u001b[0m\u001b[0mskipna\u001b[0m\u001b[1;33m)\u001b[0m\u001b[1;33m\u001b[0m\u001b[1;33m\u001b[0m\u001b[0m\n\u001b[0;32m  11465\u001b[0m         return self._reduce(\n\u001b[1;32m> 11466\u001b[1;33m             \u001b[0mfunc\u001b[0m\u001b[1;33m,\u001b[0m \u001b[0mname\u001b[0m\u001b[1;33m=\u001b[0m\u001b[0mname\u001b[0m\u001b[1;33m,\u001b[0m \u001b[0maxis\u001b[0m\u001b[1;33m=\u001b[0m\u001b[0maxis\u001b[0m\u001b[1;33m,\u001b[0m \u001b[0mskipna\u001b[0m\u001b[1;33m=\u001b[0m\u001b[0mskipna\u001b[0m\u001b[1;33m,\u001b[0m \u001b[0mnumeric_only\u001b[0m\u001b[1;33m=\u001b[0m\u001b[0mnumeric_only\u001b[0m\u001b[1;33m\u001b[0m\u001b[1;33m\u001b[0m\u001b[0m\n\u001b[0m\u001b[0;32m  11467\u001b[0m         )\n\u001b[0;32m  11468\u001b[0m \u001b[1;33m\u001b[0m\u001b[0m\n",
      "\u001b[1;32m~\\anaconda3\\envs\\tutorial\\lib\\site-packages\\pandas\\core\\series.py\u001b[0m in \u001b[0;36m_reduce\u001b[1;34m(self, op, name, axis, skipna, numeric_only, filter_type, **kwds)\u001b[0m\n\u001b[0;32m   4234\u001b[0m                 )\n\u001b[0;32m   4235\u001b[0m             \u001b[1;32mwith\u001b[0m \u001b[0mnp\u001b[0m\u001b[1;33m.\u001b[0m\u001b[0merrstate\u001b[0m\u001b[1;33m(\u001b[0m\u001b[0mall\u001b[0m\u001b[1;33m=\u001b[0m\u001b[1;34m\"ignore\"\u001b[0m\u001b[1;33m)\u001b[0m\u001b[1;33m:\u001b[0m\u001b[1;33m\u001b[0m\u001b[1;33m\u001b[0m\u001b[0m\n\u001b[1;32m-> 4236\u001b[1;33m                 \u001b[1;32mreturn\u001b[0m \u001b[0mop\u001b[0m\u001b[1;33m(\u001b[0m\u001b[0mdelegate\u001b[0m\u001b[1;33m,\u001b[0m \u001b[0mskipna\u001b[0m\u001b[1;33m=\u001b[0m\u001b[0mskipna\u001b[0m\u001b[1;33m,\u001b[0m \u001b[1;33m**\u001b[0m\u001b[0mkwds\u001b[0m\u001b[1;33m)\u001b[0m\u001b[1;33m\u001b[0m\u001b[1;33m\u001b[0m\u001b[0m\n\u001b[0m\u001b[0;32m   4237\u001b[0m \u001b[1;33m\u001b[0m\u001b[0m\n\u001b[0;32m   4238\u001b[0m     \u001b[1;32mdef\u001b[0m \u001b[0m_reindex_indexer\u001b[0m\u001b[1;33m(\u001b[0m\u001b[0mself\u001b[0m\u001b[1;33m,\u001b[0m \u001b[0mnew_index\u001b[0m\u001b[1;33m,\u001b[0m \u001b[0mindexer\u001b[0m\u001b[1;33m,\u001b[0m \u001b[0mcopy\u001b[0m\u001b[1;33m)\u001b[0m\u001b[1;33m:\u001b[0m\u001b[1;33m\u001b[0m\u001b[1;33m\u001b[0m\u001b[0m\n",
      "\u001b[1;32m~\\anaconda3\\envs\\tutorial\\lib\\site-packages\\pandas\\core\\nanops.py\u001b[0m in \u001b[0;36m_f\u001b[1;34m(*args, **kwargs)\u001b[0m\n\u001b[0;32m     69\u001b[0m             \u001b[1;32mtry\u001b[0m\u001b[1;33m:\u001b[0m\u001b[1;33m\u001b[0m\u001b[1;33m\u001b[0m\u001b[0m\n\u001b[0;32m     70\u001b[0m                 \u001b[1;32mwith\u001b[0m \u001b[0mnp\u001b[0m\u001b[1;33m.\u001b[0m\u001b[0merrstate\u001b[0m\u001b[1;33m(\u001b[0m\u001b[0minvalid\u001b[0m\u001b[1;33m=\u001b[0m\u001b[1;34m\"ignore\"\u001b[0m\u001b[1;33m)\u001b[0m\u001b[1;33m:\u001b[0m\u001b[1;33m\u001b[0m\u001b[1;33m\u001b[0m\u001b[0m\n\u001b[1;32m---> 71\u001b[1;33m                     \u001b[1;32mreturn\u001b[0m \u001b[0mf\u001b[0m\u001b[1;33m(\u001b[0m\u001b[1;33m*\u001b[0m\u001b[0margs\u001b[0m\u001b[1;33m,\u001b[0m \u001b[1;33m**\u001b[0m\u001b[0mkwargs\u001b[0m\u001b[1;33m)\u001b[0m\u001b[1;33m\u001b[0m\u001b[1;33m\u001b[0m\u001b[0m\n\u001b[0m\u001b[0;32m     72\u001b[0m             \u001b[1;32mexcept\u001b[0m \u001b[0mValueError\u001b[0m \u001b[1;32mas\u001b[0m \u001b[0me\u001b[0m\u001b[1;33m:\u001b[0m\u001b[1;33m\u001b[0m\u001b[1;33m\u001b[0m\u001b[0m\n\u001b[0;32m     73\u001b[0m                 \u001b[1;31m# we want to transform an object array\u001b[0m\u001b[1;33m\u001b[0m\u001b[1;33m\u001b[0m\u001b[1;33m\u001b[0m\u001b[0m\n",
      "\u001b[1;32m~\\anaconda3\\envs\\tutorial\\lib\\site-packages\\pandas\\core\\nanops.py\u001b[0m in \u001b[0;36mf\u001b[1;34m(values, axis, skipna, **kwds)\u001b[0m\n\u001b[0;32m    127\u001b[0m                     \u001b[0mresult\u001b[0m \u001b[1;33m=\u001b[0m \u001b[0malt\u001b[0m\u001b[1;33m(\u001b[0m\u001b[0mvalues\u001b[0m\u001b[1;33m,\u001b[0m \u001b[0maxis\u001b[0m\u001b[1;33m=\u001b[0m\u001b[0maxis\u001b[0m\u001b[1;33m,\u001b[0m \u001b[0mskipna\u001b[0m\u001b[1;33m=\u001b[0m\u001b[0mskipna\u001b[0m\u001b[1;33m,\u001b[0m \u001b[1;33m**\u001b[0m\u001b[0mkwds\u001b[0m\u001b[1;33m)\u001b[0m\u001b[1;33m\u001b[0m\u001b[1;33m\u001b[0m\u001b[0m\n\u001b[0;32m    128\u001b[0m             \u001b[1;32melse\u001b[0m\u001b[1;33m:\u001b[0m\u001b[1;33m\u001b[0m\u001b[1;33m\u001b[0m\u001b[0m\n\u001b[1;32m--> 129\u001b[1;33m                 \u001b[0mresult\u001b[0m \u001b[1;33m=\u001b[0m \u001b[0malt\u001b[0m\u001b[1;33m(\u001b[0m\u001b[0mvalues\u001b[0m\u001b[1;33m,\u001b[0m \u001b[0maxis\u001b[0m\u001b[1;33m=\u001b[0m\u001b[0maxis\u001b[0m\u001b[1;33m,\u001b[0m \u001b[0mskipna\u001b[0m\u001b[1;33m=\u001b[0m\u001b[0mskipna\u001b[0m\u001b[1;33m,\u001b[0m \u001b[1;33m**\u001b[0m\u001b[0mkwds\u001b[0m\u001b[1;33m)\u001b[0m\u001b[1;33m\u001b[0m\u001b[1;33m\u001b[0m\u001b[0m\n\u001b[0m\u001b[0;32m    130\u001b[0m \u001b[1;33m\u001b[0m\u001b[0m\n\u001b[0;32m    131\u001b[0m             \u001b[1;32mreturn\u001b[0m \u001b[0mresult\u001b[0m\u001b[1;33m\u001b[0m\u001b[1;33m\u001b[0m\u001b[0m\n",
      "\u001b[1;32m~\\anaconda3\\envs\\tutorial\\lib\\site-packages\\pandas\\core\\nanops.py\u001b[0m in \u001b[0;36mnanmean\u001b[1;34m(values, axis, skipna, mask)\u001b[0m\n\u001b[0;32m    561\u001b[0m         \u001b[0mdtype_count\u001b[0m \u001b[1;33m=\u001b[0m \u001b[0mdtype\u001b[0m\u001b[1;33m\u001b[0m\u001b[1;33m\u001b[0m\u001b[0m\n\u001b[0;32m    562\u001b[0m     \u001b[0mcount\u001b[0m \u001b[1;33m=\u001b[0m \u001b[0m_get_counts\u001b[0m\u001b[1;33m(\u001b[0m\u001b[0mvalues\u001b[0m\u001b[1;33m.\u001b[0m\u001b[0mshape\u001b[0m\u001b[1;33m,\u001b[0m \u001b[0mmask\u001b[0m\u001b[1;33m,\u001b[0m \u001b[0maxis\u001b[0m\u001b[1;33m,\u001b[0m \u001b[0mdtype\u001b[0m\u001b[1;33m=\u001b[0m\u001b[0mdtype_count\u001b[0m\u001b[1;33m)\u001b[0m\u001b[1;33m\u001b[0m\u001b[1;33m\u001b[0m\u001b[0m\n\u001b[1;32m--> 563\u001b[1;33m     \u001b[0mthe_sum\u001b[0m \u001b[1;33m=\u001b[0m \u001b[0m_ensure_numeric\u001b[0m\u001b[1;33m(\u001b[0m\u001b[0mvalues\u001b[0m\u001b[1;33m.\u001b[0m\u001b[0msum\u001b[0m\u001b[1;33m(\u001b[0m\u001b[0maxis\u001b[0m\u001b[1;33m,\u001b[0m \u001b[0mdtype\u001b[0m\u001b[1;33m=\u001b[0m\u001b[0mdtype_sum\u001b[0m\u001b[1;33m)\u001b[0m\u001b[1;33m)\u001b[0m\u001b[1;33m\u001b[0m\u001b[1;33m\u001b[0m\u001b[0m\n\u001b[0m\u001b[0;32m    564\u001b[0m \u001b[1;33m\u001b[0m\u001b[0m\n\u001b[0;32m    565\u001b[0m     \u001b[1;32mif\u001b[0m \u001b[0maxis\u001b[0m \u001b[1;32mis\u001b[0m \u001b[1;32mnot\u001b[0m \u001b[1;32mNone\u001b[0m \u001b[1;32mand\u001b[0m \u001b[0mgetattr\u001b[0m\u001b[1;33m(\u001b[0m\u001b[0mthe_sum\u001b[0m\u001b[1;33m,\u001b[0m \u001b[1;34m\"ndim\"\u001b[0m\u001b[1;33m,\u001b[0m \u001b[1;32mFalse\u001b[0m\u001b[1;33m)\u001b[0m\u001b[1;33m:\u001b[0m\u001b[1;33m\u001b[0m\u001b[1;33m\u001b[0m\u001b[0m\n",
      "\u001b[1;32m~\\anaconda3\\envs\\tutorial\\lib\\site-packages\\pandas\\core\\nanops.py\u001b[0m in \u001b[0;36m_ensure_numeric\u001b[1;34m(x)\u001b[0m\n\u001b[0;32m   1432\u001b[0m             \u001b[1;32mexcept\u001b[0m \u001b[0mValueError\u001b[0m \u001b[1;32mas\u001b[0m \u001b[0merr\u001b[0m\u001b[1;33m:\u001b[0m\u001b[1;33m\u001b[0m\u001b[1;33m\u001b[0m\u001b[0m\n\u001b[0;32m   1433\u001b[0m                 \u001b[1;31m# e.g. \"foo\"\u001b[0m\u001b[1;33m\u001b[0m\u001b[1;33m\u001b[0m\u001b[1;33m\u001b[0m\u001b[0m\n\u001b[1;32m-> 1434\u001b[1;33m                 \u001b[1;32mraise\u001b[0m \u001b[0mTypeError\u001b[0m\u001b[1;33m(\u001b[0m\u001b[1;34mf\"Could not convert {x} to numeric\"\u001b[0m\u001b[1;33m)\u001b[0m \u001b[1;32mfrom\u001b[0m \u001b[0merr\u001b[0m\u001b[1;33m\u001b[0m\u001b[1;33m\u001b[0m\u001b[0m\n\u001b[0m\u001b[0;32m   1435\u001b[0m     \u001b[1;32mreturn\u001b[0m \u001b[0mx\u001b[0m\u001b[1;33m\u001b[0m\u001b[1;33m\u001b[0m\u001b[0m\n\u001b[0;32m   1436\u001b[0m \u001b[1;33m\u001b[0m\u001b[0m\n",
      "\u001b[1;31mTypeError\u001b[0m: Could not convert 00000000000000000000000000000000000000000000000000000000000000000000000000000$3.99000000$3.9900000000000000000000000000000000000000$3.9900000000000000000000000000000000000000000000000000000$5.990000000000000000000000$2.9900000000000000000000000000000000000000000000000000000000000000000000000000000000000000000000000000000000000000000000000000000000000000000000000000000000000000000000000000000000$9.990000000000000000000000000000000000000000000000000000000000000000000000000000000000000000$2.99$2.990000000000000000000000000000$4.99$2.99$4.99000000000$5.49$10.00$3.99$2.99$2.99$0.99$7.49$2.99$1.99$7.99$19.990000000000000000000000$10.0000$5.49000$39.990$19.99000000000000000000000000000000000000000000000000000000000000000000000000000000000$5.99$5.9900000$5.990000000000000000000000$29.990000000000000000000000000000000000000000000000000000000000000000000000000000000000000000000000000000000000000000000000000000000000000000000000000000000000000000000000$2.99000000000$0.99000000000000000000000000000000000000000$0.990000000000$5.9900000000000000$400.00000$2.990000000000$0.99000$2.49$1.99$0.990000$1.49$0.9900$0.990$0.990000$4.7700$4.990000$2.4900000000000000000000000$1.9900000000$1.990$1.990$1.990$0.9900$0.99$3.990000000000000000000000000$1.9900000$9.9900$1.9900$3.990$0.99000$2.9900$19.9900000$0.990000000000000000000$0.99$0.99$0.990000000000000000$399.990$2.49$399.99000000000000000000000000000000000000000000000000000000000000000000000000000000000000000000000000000000000000000000$8.490000000$1.750000000000000000000000000000000$2.990000$4.9900000000$4.9900000000000000000000000000000000000$0.990$0.99000$2.99000000000$0.990000000$4.4900000000000000000000000000000000000000000000000000000000000000$3.99000000000000000000000$7.990000$4.99000000000000000000000$2.99$0.9900000000000000$0.9900000000000000000000$2.99$3.99000000$4.990000000000$0.99000000000000000000000000000000000000000000000000000000000$0.990000$4.9900$4.9900000000000000$4.990000000000000000000000$2.99000000000000$2.9900000000000000000000000000000000000000000000000000000000000000000000000000000000000000000000$2.99000000000000$3.280000000$2.990000000000000000000000000000$0.99000000000$1.490000000000000000000$0.99000000000000000$12.990000000000000000000000000000000000000000$3.990000000000000$4.4900000$6.9900000000000000000$1.9900000000000000000000000000000000000000000000000$5.99000000000000000000000000000000000000000000000000000000000000000000000000000000000000000000Everyone00000000000000000000000000$8.990000000000000000000000000 to numeric"
     ]
    }
   ],
   "source": [
    "#Question - Try calculating the average price of all apps having the Android version as \"4.1 and up\" \n",
    "df.loc[df['Android Ver']=='4.1 and up', 'Price'].mean()\n",
    "\n",
    "#Another way to check\n",
    "# df_sub = df.loc[df['Android Ver']=='4.1 and up','Price']\n",
    "# np.array_equal(df_sub.Price, df_sub.Price.astype(float))"
   ]
  },
  {
   "cell_type": "code",
   "execution_count": 24,
   "metadata": {},
   "outputs": [
    {
     "data": {
      "text/plain": [
       "0        False\n",
       "1        False\n",
       "2        False\n",
       "3        False\n",
       "4        False\n",
       "         ...  \n",
       "10832    False\n",
       "10833    False\n",
       "10834    False\n",
       "10836    False\n",
       "10837    False\n",
       "Name: Price, Length: 8048, dtype: bool"
      ]
     },
     "execution_count": 24,
     "metadata": {},
     "output_type": "execute_result"
    }
   ],
   "source": [
    "#Analyse the Price column to check the issue\n",
    "(df['Price'].map(type)==float)"
   ]
  },
  {
   "cell_type": "code",
   "execution_count": 25,
   "metadata": {},
   "outputs": [],
   "source": [
    "#Write the function to make the changes\n",
    "def change_type(x):\n",
    "    if '$' in x:\n",
    "        x = x.replace('$','')\n",
    "    try:\n",
    "        x = float(x)\n",
    "    except:\n",
    "        x = x\n",
    "    return x\n",
    "\n",
    "df['Price']=df['Price'].apply(change_type)"
   ]
  },
  {
   "cell_type": "code",
   "execution_count": 26,
   "metadata": {},
   "outputs": [],
   "source": [
    "#Verify the dtype of Price once again\n",
    "df.loc[df['Price'].map(type)==str, 'Price'] = df.loc[df['Price'].map(type)!=str, 'Price'].mean()"
   ]
  },
  {
   "cell_type": "code",
   "execution_count": 27,
   "metadata": {},
   "outputs": [
    {
     "data": {
      "text/plain": [
       "Series([], Name: Price, dtype: object)"
      ]
     },
     "execution_count": 27,
     "metadata": {},
     "output_type": "execute_result"
    }
   ],
   "source": [
    "df.loc[df['Price'].map(type)==str, 'Price']"
   ]
  },
  {
   "cell_type": "code",
   "execution_count": 28,
   "metadata": {},
   "outputs": [
    {
     "data": {
      "text/plain": [
       "0        0.0\n",
       "1        0.0\n",
       "2        0.0\n",
       "3        0.0\n",
       "4        0.0\n",
       "        ... \n",
       "10832    0.0\n",
       "10833    0.0\n",
       "10834    0.0\n",
       "10836    0.0\n",
       "10837    0.0\n",
       "Name: Price, Length: 8048, dtype: float64"
      ]
     },
     "execution_count": 28,
     "metadata": {},
     "output_type": "execute_result"
    }
   ],
   "source": [
    "df.Price.astype(float)"
   ]
  },
  {
   "cell_type": "code",
   "execution_count": 29,
   "metadata": {},
   "outputs": [
    {
     "ename": "TypeError",
     "evalue": "Could not convert 159967875102156449671671783681513791121138808788448294326151855363227194216224399450654769911819220260203136223112022750351015353564814536639158591117176220626174531107085845367159828412954210479805129140339715347774388462431609029519052530116986137927192073670211977373574994197136142151682155138541434825036174806657863143350971754268012881890049790115017392225436985729644205010460136187301347435959315753826834227722801849364184736638712576218574478246315418224861435116507904688603639349671750618622084473038584278319161546202133626875177827098342527132216802739106587885126930105156341157851857099110028611658914894544586227289414635367000308471888414034459646903316141902320737212253808371060074359822808052287416214760808052868971037554650511442102952962931370991180213832317558685448415920815786627149307958006989164221087413161462416613086989521110582962931370991180213832317558685448415920815786627149307958006989164228080428689710375546505114421029510028594132317524005571062249516834101023897030243873391442181939651446120883141519422551298392791677757115125995221155198135961006596848951252571429035158679418799865939547858926660230209369011929481369820769368806153813305336481201366624237020832375413892939407511771292225021271874785988122498132014832395947282876500282383356463493843469823732012842860368931588034698022649165413894292536484801771485013100550981133501125781096518247190613125232832397206527540104990177703175291772632374683225448356555244193825152872057399498418814288427183374209011225951243462554142047859885947282920819103215455722857262556777961637126323137244884531320172460419511633102123705366713202115721262622288820671643105341411806199922544976842519114613046172688722953259353778522121972352065164193927780825400351093160122125708124163986788853550842430285726488452556777983712632616375377116333137247389534631222888172685164495341952126261439164513204853337130495169892315461491982254587232317013890570835371344014310598946191221215081802183520524395023651521576670140039742187250618298686618593528125185611035842207762141518651113101120246495495425605910212105286516812633416058218324331858035512579111053234788256915824531829861157976991818932544853753142999770323464075106119321560651428613313639010902669483429187481726406116193168673670058895741275721085298881929151642325451985375181893990203238124855527214556897859930435811904222512238499020734042518352743617495570419277136123786218372656240275369223634307563168537518189399020223843238017250585997973266935142632552561725085479848157511233646314300206527381647847161952063241835252520005812397021485503847552568430948151725082669481420620653214700378621405148549843112065321725082560792078161031121310853528116562967714700891093952412250810291697910307817682370001828284684116469167029753245823549611661653008230634116838918296901305496130591633682264621867653008263915114455024421552341221692058493333871232792742460841297062881501480731969235928644482237829682992058123279319691608412881501637258028333877368642970627424196835279359311480717247877231977748674296771123279319691608416530083338728815011503380129706274243527935931223781480719777486748968303185650725123279157523666675543876916016437712566643782707421532061181115558573823238744647316988009945658394663161065124298110039928712442452306426442780826076112656319069579731671683442815247484452199613837112073111632250706649596597415103927215255086044938178810697318043856133624625728312304818811919215702831696111125477315928614886186622313069973131126587241710542516619870359616144075144610615141714434442809192210658783611386811066818837580685378015192595015993590577316597601462710982898707821126410099732903410909648795125071951040124729783064331313745496998145323647843299727076111362473109784332061681038412107413803155944101592800843614455377139832405225138509193142131473145414952125017261406555649256507107790661962196278126891359220151315693198622875170719024246415594422875769032113437552800933320835218375172929691577380983113927233722012540059220098117925548021482764710361270570646564462381440405122719991162071502947086741140147091202928802702677777786421861120329911572118366227393104454947948482052991836695420130104251534289516009610654727396708710109756383431157217076926540160819074797675864822610262894511506128811689775635499707692665271269203015614520326129552681410257024212183812858506791694362327396708710704161567427029414405018366925153428951708753274392490240941853930612054734052177895132427439249012601724094205472469306118539340527029421778951324143942654018124642165704822628945038115063166520529957634116897756370769417907316716224365913249776000377112758757384811005410117352236857230131142874435428175084912258440872669761912627322488093280147823824450515446524276631112006896443536857848116224341790738342258481583014923670075391268624814659297834344112372580130272130739658055170377506261919601708318671201459122639399394537811267189684749760114099551357135653936472871611431616810011607981589398542607260743829335726145343277457419418214510944665216753652189619412966322252316430319555778694212173686554332643478266761067179720304737649147691773448106737881658203043309987520878298348026808360166371797959046808360166371797959053114220331533283013937894204213213100972858810544334644473882772226422426677254258148897369203523416223133508811860910485308149736159800261052640669893778921619856310306448917231000417170396859811039314198297592068173226329524111356315566669129555727068721579305062752300568057130049089235874128732420532577249904917614130760628988182921233812772319344473461048533414198602448917232242845640669803197865135106854186759881908148895188925018384623071029530561988802157930546562459854153446623134775148912231137271506275261062299058610354811893718985655067761427110434523482513850932698348112501798826395566805746735387639275041012956064611379469269305444879114986482772409422428456135108936063011372671420034452348106074334811893710004175922821535084811888010424925230727370234222449812321262118253141529702262251012302531576384911464169469267196482566427773258255538014817737156561016862754471747554578476145353149937353145837142701955582994023072741975216675231178516588854114411073102916818977333775230933584207924041632506707473588171540321477710060913438661687175497201899625094930331205921879724849812055735395901758291862119922211197412181251079513004382079394337913444988222429716388358914200550271914211071973716278931595165928246806330917680733844643421481952246658412632551902182125242045554745684416540166015901730574812245142624722430188444991014201891277253526199095104931489451351771188958223136735448938887614415406765129557659907104601048601881191511295625309393223084998833675235294319817610055521412966521585805065935419676990723592504218921138239988380619754074695556688926988821535973148924698923818112543829445655145547656927725352150099942308868119154523529415359732698889990663211921813272651842101003269124285540142510979062515657955656337913725897549039155965029216452096213818205255176961949693275993816799105385476569105620371391477913478833432633543737530434305515338155930732512664921510393067642243018840676515990715006221420160428009814899026985112543853877818923847132726923043421451295625990796171448261068013006192123793218926074627104303556690827506454764412564743552119235214878811040153634959250417044155186112556654196763449426065146381637614407234110486154706944214544499101477412753339832026757611161812948685977936937811436215048615382249361109974108795145510148228696173205984318616119504289682861171633233660632861946741530854705023590617753520609432320294207649682471496202672943619230111262367196529626293191791919914014103664764412137237640463561698244508558696148701152465206544076530904106750337854207587953235470311311146732032178175625850834843794151924524877765100885255523762141363472584132919214829541273278392596430605140884186710148462306011208015489518954306052555262339847258466661104471574197191701696096188136929527319856107531542885234522311008545601976318623772600729033617306332342761595879685596111235669738438214248185219516153593802161906903131554964181160599171042733822533396380216190690313155496418116059917104273382253339644508904707135972913311710879547213955376666051838360285287451696098247144062392596796672076315742041233222931981266233985088763160131552873745579197203619701596193543842723211296031135578129631714571729211533921991361121520639515335775121410484528010156178168251632513397431217334924162512641142146659158731181028582094236330337882518674250626653743265744761564102006609923160834878376185380318383707315874182118917466912645310710700914158755034881901526862100082277216721603599454318784723889650349830521747451686529138857292113521189542752159295129218455212108736340817133197272485212153351381590128815451992834601298039521417513168641688281129283363437171372061293220313424232110281145112209449687418537474410124201450321115737001633304532416865312035965692763265731233152261221762366725337861106665174717282921923160491732249214034919137626086120076480271445225103331775476825562164042508796583741259075475160562220982313251322347990854093057146122533919583791293821204127251259849115700413802642533098724799091795551502583411259894115700316161019446122536733249515041259894852455900064367779129382121207712205279130125989485245590006462455733249791301416136210998942946087533896197327090922615730548579233556310679888203718625714442551825242750365621674166228730834367290258816265517158424414114251210912413504310859213152424873230823417849768406183641586791892318799757793970131519213735621103942871315908792612847256707146153101883165999752852337253284721342071932278512139735970115582137351696662110394198618611613085315908285234458841581057739092042794283358394205955204615368406181798142512397355121970113085285234458894205955204602725961104252375130853549738783358368406440716212081397355123181823192329871610950021159132050424323983895314263425945012302991480421841528257810349859402893362496803378105253492654419186474476221858311631985440011677315804756114157001652326361285788441058552330392857811590585342111688021730624217018984715925195198716654418528255824047531579365542732916042677811693234403368649420792970715098357247189848650931060804494112927211106649553701898471592519519871613008114091788860492113512541575061168802404753475363584678140128652153433368646753115486510749553852649149449181977433439351255477831126337240475154261490732116323211468091491731581517594559167652811714107527733687059372682310948651324955319729521578307453328969871754256131581514627025211381802283662133825911995173334290956270107724101455910317634639878152867635801357631764481981160169992218401125172141232487180938950232423166424866975510454991031521138176448133825910312888094361152113891031784422888093017362557521923092637167202079875431845190411085338711151296735001763650176450501794361152114099711660361240821338339103399032386101521140133833910333539432386288809288955211403412340575517427299713429126665211338332943108318754391033323866893580900288809551128895501791115113662652029491906471348154560121787826871337821926412338655751551247813286216101985851366334598515572168152277455622852562750708117882439352510372756048154615093292826665132754893015680511230447165299620534599872344273556011182167344893030447136626203132574024781425462428152028180392756022748770548154614544134895480822419489301609136626481546186228258178781720214114890481546149723676212037340225997118294386552419912759663308261894583825592123677906933155851221512722396022415174819185131455235731516399754315912414201184395997332111704048768662077061663671926615420713357991526924821112388853873350990831856598072426516575764548867556848190961116393154578406763983327328313948080105465597110732033511533926134203156934897963712949642858122554447443941137753367452451729906830971464965717241392583279410292367027767583507315633294851423937168811485162209202474298321578344147393555252267649568634254134724439603277209229662610796273994292031891820564406645339812089282889342304989789025037586176230137237159129470163624112977580521218011845911247969417733838157495864814849817772433074357712902416948810401288061134366730258072516168816249245114574351157731200820841261188154822632528961079491112009653586754806432131538398585502308956403193025770596187982096961498393185632808474141821260111795574146176873102701559995671372513205191736955383971497946091829795301567523174152084125107961654990061879615081374806401232112242421507805813720422629557904155999480638898516349259851027060840102594685018669164207143286361414133937891075594976449293623861621002994989073190464717750511501692715349378066031982466681940102533465343247318215283976795159455892111181537018194406061333383690041841009942000813426187737623214043478243492215417493159662332293446341842575575908915511276425900340039301032076239242193381762419738259605186999881953006351168161559634842592255559218686449158742642136969457447146656685132051261121515962216996538630426242641129706606629308035592137882190888954810711190818505897887763517511035794473525433028731504211474149020904427470062959401674332413999663841770335074425877635131028331113801858844097527104247992636475652413169616921897662740766772930807815447959423330523292236411321718976409751724029308025668063647877643131028104800564431421884365212628214110187102864546521620492601453562105622158929093793715865639203837516657301413160946559032225443482327912572705561240102181688188571183816233588641837209951239821334018053989498910483141381561410247730556585626345439480131114885236174864243576277117031221896152658147661852384353342672089305317034791042128498763694698518389714685450867920798522676013118413609101346511172129085253057659832427931476981331951295293170691450884625320787441117415152404927529265857631371982219156374515276983310611249551299680023494219446611418491015950799206230398891305050155142102916258344871821266829481771292283607154210053186815280248194722472832534124488144723125280222483494624139794422419455272751531873734041218885572387686809649960824707376109432751778921451130452411545955132027306498361002138201971777305347408292173610550914482588730208323742299778116142640974305868749722309511591129140261013867762706258626191171107624340648689873470153011015841477181168959400043323682338449187892740154435210819491063773537879515067831065773682413544082951413165727156324951814853616257466014768584221053462007399400142903889443513024551127263213548394357214258811176079433731250659395130963816495432036858183555941759838511273697174112880564884857215206512683365610341205998934453411677155109654389777255254152315173330184614858069929019604191729544178661816401231451981691340314650615439381030642144108126621325024671633565107681176104261752017178723245419758478589231335947207453463552315538137137201330324039112493083777822298642502571320158098789611842100098915890082838751838090307398463743921761625476447456259705805212270518533961264132900840582487973681747286091771649893429091401656808101740811851243241440461955106519047164390194444641839287127372155235160423915964112634304173692647032694969972256696019452243570495762102308916626311119156741030656772965155276115355525425111851489041528521734852223085566594991827212315382363723458820758780596841202184198303307189013840027571266167229280320214255910218923460612810035253815686263680197274719325975521660332539601331804136208173693133778935704892989947466306307462133860029229505106169618765939654656802051551684131475148826354169911393925736456712746140304432240132414832114020595982618069758914542826875900993829423020268695613355112935821352161253147306284511621161697206124502164182118914314866627691264383680246681378826893591411219420124143215665713342641142110736424959716979396021746015975735744434079445483953691351852636741725956821696513481776872351068144902925165525169677751461124414224517847628124359725744649001509790146913225031503544578556033416111142789775174827691158081638606751820100674805314422775370963215921031381296454179881771846548146219431468131108819812975682105710490166006761166012335881668869363836487658397757312485213943878433165534331571117821582624521056883712198245174685599522414435114049061011889457550920931092631926772411821031687621136121103104516572335464306431615418542987947342881242399347858215924328390329287594450277219971273092460174458916678565111291507205382142237154310513714424244735209775492121216510195720595080113096634815461092106406175754540631166375841925142801168487204185836612164210121471080635583714922018126305154878252326138642161514171424210127365658660343210748916875161618612882160589838517522728144811319377216461499466418834528581435126716936130549748424587151804804421387958229329970718534955894960282954301216121075016367951198765011460541444623014051453976201165511258114083069466199718291360414224198246978537180295401336369927217218862531151055571384602227401596628692793881752162839082105261032826346053282975311145423719651039630527206738463785335967121805579327501211860412906224409344786425294722985432704027141781640936214760483043273361138332631041126377448822841664523291353114340664731450129811932332566130163363295145107922115861211132265084297610752088769300533629914177470518751107252431003195267711886961067279992046267164024137302325266317293314571555182831513432017822047629708394954642171636526174696030002526241759456918277721177614178581191096414258835880453326323845912055717876472692614745312087716522421013672651300631245593093512221137520339611676938055774794626530764846619909476115265352312306652234535089322159013881141641858520762367381936813336430375629512293156441536731998530412410881689525645458486949768092751339116973893597197644825627405531327974340228322087529264162420189186576634668131407320914325371893617342975156467503873747444410744131135122982218911342214851821889342691611031345656585217347371658072263229162397125214593113431065421597124312123338124728382827803302194597121821845112915740044575636178041608995223197878669648321733942654136201991232229551474631340550117116759177751812013234354714551415848564111867419347213445920120850112921321763039180681264581361493453758493273394410256484858800493150324583968072210317133333889974823729406511179139104389130689234971722022570141452592122332438911206345771714819209294956662461721943821958657951917097362636123136250197101218300414308765294033638651959193513816249252245370412693948421008012302123114431480833159659897527564164160637661622368411717718822194525235131101867633478558821138871051316675297010242137433719511294097226671011447042811265575416614251560410001616372188813113424272224403972068584389137696322976254898224353089441680190639132528735580160862171226514118202476364013631602101723712813542114108317451315320254692519596362215317115220293626815374028420879763404374239669611141256521407448113792057283442832587178071554802082986745001322813011773870928407788118285347086379245244565119348988894251041836179454715110776537165174127470673919532344819933510080515875231682628235486271724123772821805922316162596197666982126640412691278565369912685278165217028916676642121185440681176232433182730977625816128498482360924312578742272946215906329469761721525612753734325827717114342270124202511190117064117415025992598579574719250789827249178629955614826483807317416591487252158771824992906211484202409522942097354921141604146260137207983461156611275424775384524415765305141454621924569298521756158062440699453291715363441012671044698211211111121213724892327411159895162530397792545188890165146104551663212927075191115209711087264262332272860227241324637031624424122013861002851613943109530026513651123671261271341494025726312387362217342196203032322666322851491135921816902272876772782679826364724209686234525301424169661172744155496251131211049258473615111383432720913825820720711121443451373777461120173910910341193214514765393028954044969247123931971654941123820512474692291421031233479836319882934915332715671396743968418944331564842078783828066603375574456054090310348545183451011433048422628390786715805569291461535581252055959730536712836710390976608275843123309263907321849633914130662622562889263415932194281542105170673322250976995194471729798412723407107363056509364742264387198116172182755081219165641611127635188318834310310176228660201011044010267378201714269347802076711821187340791439164416307107589612544220583086714453607912926816740681756402717180141226286271167522055242125329721957735479742010581991505536401819180221643231208423663762282733728479545125644637653137691212597231819612059143412342994421206715569428583834438310467640994722695012261720133816116161103401032535121341381023326601556866452446717352199633349569691469206611662674480216864174724481792833113534202484166341939549430892927730125445301160150810010610222441606164152614304268333793378312523014628419442051563355190160739190452152131898158551828923267213327949612843436320976579878313841968378659152027106262219261879423882732811172159163818566125399135977821424572344718614624455331203050131727631551466181741448353503133661468014165559165314324471311671437334881255788773416414283620675515691038297159398776730152709031108196944451317124301766740691862557833033780883471893596332017442361717825530991523012311247431341129215726325701225646191671861826825941382112243165161830683134662774977280302427571911032180420691859232130287586546414131629206812881902141827364371016109130446713201561167245104587981754548947515554613304999667033515114168554456102696114803011895847196403337427113847484512215665370327942516323254328081307973364121919264371220829214437426111872992221356763643613632197915816198337371225572947104721002216738693844282310047092381191433401528698826815057101981327924977624555819784400151000624670527192655011254733332970570482839962048486764978901625035586144457841137611109869417517125728411420513131913064120342211013483191131745551384482278258588251067130051313964169313873991645411074972997664259522251791513142308542212231138041274412784258699224557160412672295572314356997149072223474122932017358876712792229034279734230914788075706183343213548176945452289112223210024421203482641977305690362561901641625284337268828127473615334212626964983601255575362019212144623314124291213162191688700016541043974754632094556305121799889364901521785563829612713083453819166571326511267198151731452251120142644261385152320952371064778262701008125271557962190316921211431618812834332683454923227363265885187113951658087144040490115988421321151757511525221231661432809461229311751366654913151705473141116145101183459692952467131431521187828274661231213314617945881631025541011514254399501045661647271363560132324924169176410845315509162313110119259945239011164218587152128883521452212933029990763489627531995552099102240745923154519207125635036412414439898118253337125439038940317372788581221136415564924456229488820660211824691030219821317141528332167144545104349503341002480128810774611194578890474870756185712024223368136838576415109519448803967210236670084723802224637985496262076717401663633341843288911248239898190074319850791009315004981147196617612642467519829291016373271803148471441094917662712359521298519853863204638521979920571226353953044425691637513408479604521433820051200356386433142462839698121533107761725013519391535197348754704677382499642108336412410739041213145631177861991757099878100115958112877782120637316880383203275420963386947162522657265159231224841713710221541233319159111147641802681725194651282038460770228592958242236187101879351313228234445562548116344437112436557878475020157591522871192078424210447831921028237324713455222119368455249910813029308687781729839569542218706337975117850167974263047561337883231475473898216920102026822634462973106607821918234101147561216724205277717371243447614032822773263585216329904641089251019337252623286551254332633494616459991310152117514823866852112565162781252087834321116214604160325343146024785445568345610367613736624122534185402711862831561810398819819184863541123569334785348620848029523742531231207231314117366180573225632319619929224290109247234349589212667409074759441151761098185012108245712136253757955577088214748397237411337139230348942314209218312782024424425203807152575135931143141611474022426997349961252555541228820916391243675450846165656393510649166141220459122652341123155211126399414361546784268113731977727306979208431376745042848141918624940691756347194391012132111818442147103251731219606065431617138716851174395417322747191394935718232247340310159578501522501122262141117922187815144706011876137117118928025640916739817401372213187396372301415753164142289307115112400528550353371427582674051766122010136540134412388241710176289260527419375153649246493898525289172761054626143989579405811968530123688993338742234569312038241996514371547704591791726512110064375217853323129213313954355613504765244087767154309025579371395452233324911733161903424689153041061138118620166312461282582647552354042689522160144078359163391801866487449754034473862677874988949149191621328492516862520064837822869478562223458911318395143545610257531198480375996152102171081764241941340881171110047993921648186684703851410318391959453301124863271078615843670062812241543533104068394112931477418784781423260423517228633331692352715111301263076450293871686387675623104401579978183545340621484152395371597539609041719723466495416839665841288823144630339439068390903221162060264133128107552635217736164851555952609186771001617732332623371318696665860078599779620132925210952130101628426866429255955613871923156819675266321117085322512411938820465385165059118612049463779132396821847812328798523346122593253207233481334624240467161928025898117714871524565132259632878038607902835525942111844544505150111527761164325985534263786156181605052020552979411289905118723640137071307948562910374520325961664564742673954535925427144322262952531557063549900107315410815599872161430886320140892645261207801574497566464910484253786172661796968856664229512901561811402100740164881939711151853162378718192217578412836710786623392934813123003481688496946341315666625931213839199112111132384213230274233641843242781231661617965925761937333581456463191128140548511250155093845019413492272236213943270716386512682702138158575328816102254414554968447536935863323347162614432142531582910173837255367163345200450421828727002310384785317265541013231124199720945181463397358018117481205267183764291388721091117882302222198537251357192916887766140022289610777822181067625967185249082046322725315763682141552962137683521423223828775761291417563112203216293312749224773911010190086386377913129362541011817830254328137338441819973920616231499168124249851275981575781347963343661546583167707484711335392176220941939305174935192347605129938681405114194595339050023599313314101163321265104876611656923218616121589997299253146768275511023223770311841211382138611811663484152252662014381642712831767190244322843253862591023856111829829896197610373375155913935651716697615641655259643195115222811506846449636271894767161822814127335164645513635546131215963303721523959691763237632167120852830321185280723182896424882058574571238833311461035599436061312388261710601254172611426818862510580237133816908023344300354454145595228272763699556763214616986957432344199808203101564441220163132600938702226641662517038917228156798482057732496290338685484449019953841942767140658331785855643311729716829154103930239534111315537111128177721828159216166275493429173017347303501063316112013484518437769141216262282651576183757132357411440320889496190221015027912424351626817232622041327981754634596958311272216539281985053222588356105294017265474249724278377691325663192799339461745314773228283691506300081100247576253318807379185382115148405209771619784101860113388433574612813716772032676361294234160736481550751256166398635933252210362713015726415732276627529010943266896969138050224866110576680313701144242314251559421191468494600905172214692406785909612781085209111271791535160787045343661013731410458335855333666976496715339673523104132584873184825551371424014335989162372114995202921408831642632812809148352303048101313646712163441755995482191196122776316905237251076978051812282196281021424321823633519237448714234311357254449210176667531705943083240584875115635956133840801120421593336968365432346422330222119142380552659542541614238343131865256197809042074402923244797790431751218493812102797244163519027428507006128462714216143910353283129412208198606871468910051667311447914898608149897107127831211308200291941187200246538177542362552620265777243570762002147881442332919015118241752072941628311077361600137598836445271328951341613811021510534514288606151374206262315006018874015745462329243852133304636919602178291552200151692674144218354495731110231114131130174545291396617924978014141515254861227196012580193851916523964774127813144293253482552801173154252902321412525420293632635152510113047983246545171201909286626919581045810449816141717711236586732207238591442847372787851208657760911449119402651324789442491924350941103807252333753246058407043838679155313032498027358391877569302932870859979378223390988780653987467088320171849971126408425161817421512251211238419336412609039520146068833730556394736298833444604427087413186568141919673581310242149237275982160623823220035961959287964501891853254472646106181810581497526298830132080762649121825585886851754336813938959660233815182822539931222322335661330137529033929513275576127229307120007362562199002409155110701051325384779838912548922945683919699287281116342645872316821152231033257123164138130281518109218280115103258151550889432129216029815171220225474540285311144877371532213218132749948320198775838754082222497744371263383674431919363407968017090316014280127614616261892671833344691074951369673003353368491528786260362412511949318732595553374071420121249580226504518463317971663782201537110513882676156461764872642822721923150701001793188671723732543838954262171024456190511211074337090639643452856802521427324474230471823478279606123640201106644410605337108384026019190544612071522117495229342382670160371406761389747952019758590158834019139719521593571912641441521697215265675531045015410749231721610981166751531697291754354146310010520100716458521213819104764223789215179717183704183581061539207554076941224912522195534114225762422252141130384875586494364544027683671164854108392062036412282634771476995002294157946472522387829802842960097350292961225712919812222169120140213105320334108302742815147318523218584247687136106320272654570753243121735224929178342761542487515036197481372771121541346932673685239015142479367339691171111511234623724910423.0M13420337132552128438235431619783210715424328610323066810935976826224105954207138473452589218335171250566061322570182121628218710319933788151712954214201127006730189512112527511923614564768887160246148187582251014627853148116133830176567011100735403406566536763614392108015667633411416875514221531261333121397178549987144889135183346320214332013313311460664071814420931241441398143889411681566159220710758546836183550141281012275048191619519257153176727968358114516256491832831369811464911180960826252222271908332083410121321326817831969894316378848432169638253148335991233345842210786359224528637951714049391351783411725234024545514054552973681035128721661285107339614453243320361745218556496544233762231980785577588552221172916038811195447384 to numeric",
     "output_type": "error",
     "traceback": [
      "\u001b[1;31m---------------------------------------------------------------------------\u001b[0m",
      "\u001b[1;31mValueError\u001b[0m                                Traceback (most recent call last)",
      "\u001b[1;32m~\\anaconda3\\envs\\tutorial\\lib\\site-packages\\pandas\\core\\nanops.py\u001b[0m in \u001b[0;36m_ensure_numeric\u001b[1;34m(x)\u001b[0m\n\u001b[0;32m   1426\u001b[0m         \u001b[1;32mtry\u001b[0m\u001b[1;33m:\u001b[0m\u001b[1;33m\u001b[0m\u001b[1;33m\u001b[0m\u001b[0m\n\u001b[1;32m-> 1427\u001b[1;33m             \u001b[0mx\u001b[0m \u001b[1;33m=\u001b[0m \u001b[0mfloat\u001b[0m\u001b[1;33m(\u001b[0m\u001b[0mx\u001b[0m\u001b[1;33m)\u001b[0m\u001b[1;33m\u001b[0m\u001b[1;33m\u001b[0m\u001b[0m\n\u001b[0m\u001b[0;32m   1428\u001b[0m         \u001b[1;32mexcept\u001b[0m \u001b[0mValueError\u001b[0m\u001b[1;33m:\u001b[0m\u001b[1;33m\u001b[0m\u001b[1;33m\u001b[0m\u001b[0m\n",
      "\u001b[1;31mValueError\u001b[0m: could not convert string to float: '159967875102156449671671783681513791121138808788448294326151855363227194216224399450654769911819220260203136223112022750351015353564814536639158591117176220626174531107085845367159828412954210479805129140339715347774388462431609029519052530116986137927192073670211977373574994197136142151682155138541434825036174806657863143350971754268012881890049790115017392225436985729644205010460136187301347435959315753826834227722801849364184736638712576218574478246315418224861435116507904688603639349671750618622084473038584278319161546202133626875177827098342527132216802739106587885126930105156341157851857099110028611658914894544586227289414635367000308471888414034459646903316141902320737212253808371060074359822808052287416214760808052868971037554650511442102952962931370991180213832317558685448415920815786627149307958006989164221087413161462416613086989521110582962931370991180213832317558685448415920815786627149307958006989164228080428689710375546505114421029510028594132317524005571062249516834101023897030243873391442181939651446120883141519422551298392791677757115125995221155198135961006596848951252571429035158679418799865939547858926660230209369011929481369820769368806153813305336481201366624237020832375413892939407511771292225021271874785988122498132014832395947282876500282383356463493843469823732012842860368931588034698022649165413894292536484801771485013100550981133501125781096518247190613125232832397206527540104990177703175291772632374683225448356555244193825152872057399498418814288427183374209011225951243462554142047859885947282920819103215455722857262556777961637126323137244884531320172460419511633102123705366713202115721262622288820671643105341411806199922544976842519114613046172688722953259353778522121972352065164193927780825400351093160122125708124163986788853550842430285726488452556777983712632616375377116333137247389534631222888172685164495341952126261439164513204853337130495169892315461491982254587232317013890570835371344014310598946191221215081802183520524395023651521576670140039742187250618298686618593528125185611035842207762141518651113101120246495495425605910212105286516812633416058218324331858035512579111053234788256915824531829861157976991818932544853753142999770323464075106119321560651428613313639010902669483429187481726406116193168673670058895741275721085298881929151642325451985375181893990203238124855527214556897859930435811904222512238499020734042518352743617495570419277136123786218372656240275369223634307563168537518189399020223843238017250585997973266935142632552561725085479848157511233646314300206527381647847161952063241835252520005812397021485503847552568430948151725082669481420620653214700378621405148549843112065321725082560792078161031121310853528116562967714700891093952412250810291697910307817682370001828284684116469167029753245823549611661653008230634116838918296901305496130591633682264621867653008263915114455024421552341221692058493333871232792742460841297062881501480731969235928644482237829682992058123279319691608412881501637258028333877368642970627424196835279359311480717247877231977748674296771123279319691608416530083338728815011503380129706274243527935931223781480719777486748968303185650725123279157523666675543876916016437712566643782707421532061181115558573823238744647316988009945658394663161065124298110039928712442452306426442780826076112656319069579731671683442815247484452199613837112073111632250706649596597415103927215255086044938178810697318043856133624625728312304818811919215702831696111125477315928614886186622313069973131126587241710542516619870359616144075144610615141714434442809192210658783611386811066818837580685378015192595015993590577316597601462710982898707821126410099732903410909648795125071951040124729783064331313745496998145323647843299727076111362473109784332061681038412107413803155944101592800843614455377139832405225138509193142131473145414952125017261406555649256507107790661962196278126891359220151315693198622875170719024246415594422875769032113437552800933320835218375172929691577380983113927233722012540059220098117925548021482764710361270570646564462381440405122719991162071502947086741140147091202928802702677777786421861120329911572118366227393104454947948482052991836695420130104251534289516009610654727396708710109756383431157217076926540160819074797675864822610262894511506128811689775635499707692665271269203015614520326129552681410257024212183812858506791694362327396708710704161567427029414405018366925153428951708753274392490240941853930612054734052177895132427439249012601724094205472469306118539340527029421778951324143942654018124642165704822628945038115063166520529957634116897756370769417907316716224365913249776000377112758757384811005410117352236857230131142874435428175084912258440872669761912627322488093280147823824450515446524276631112006896443536857848116224341790738342258481583014923670075391268624814659297834344112372580130272130739658055170377506261919601708318671201459122639399394537811267189684749760114099551357135653936472871611431616810011607981589398542607260743829335726145343277457419418214510944665216753652189619412966322252316430319555778694212173686554332643478266761067179720304737649147691773448106737881658203043309987520878298348026808360166371797959046808360166371797959053114220331533283013937894204213213100972858810544334644473882772226422426677254258148897369203523416223133508811860910485308149736159800261052640669893778921619856310306448917231000417170396859811039314198297592068173226329524111356315566669129555727068721579305062752300568057130049089235874128732420532577249904917614130760628988182921233812772319344473461048533414198602448917232242845640669803197865135106854186759881908148895188925018384623071029530561988802157930546562459854153446623134775148912231137271506275261062299058610354811893718985655067761427110434523482513850932698348112501798826395566805746735387639275041012956064611379469269305444879114986482772409422428456135108936063011372671420034452348106074334811893710004175922821535084811888010424925230727370234222449812321262118253141529702262251012302531576384911464169469267196482566427773258255538014817737156561016862754471747554578476145353149937353145837142701955582994023072741975216675231178516588854114411073102916818977333775230933584207924041632506707473588171540321477710060913438661687175497201899625094930331205921879724849812055735395901758291862119922211197412181251079513004382079394337913444988222429716388358914200550271914211071973716278931595165928246806330917680733844643421481952246658412632551902182125242045554745684416540166015901730574812245142624722430188444991014201891277253526199095104931489451351771188958223136735448938887614415406765129557659907104601048601881191511295625309393223084998833675235294319817610055521412966521585805065935419676990723592504218921138239988380619754074695556688926988821535973148924698923818112543829445655145547656927725352150099942308868119154523529415359732698889990663211921813272651842101003269124285540142510979062515657955656337913725897549039155965029216452096213818205255176961949693275993816799105385476569105620371391477913478833432633543737530434305515338155930732512664921510393067642243018840676515990715006221420160428009814899026985112543853877818923847132726923043421451295625990796171448261068013006192123793218926074627104303556690827506454764412564743552119235214878811040153634959250417044155186112556654196763449426065146381637614407234110486154706944214544499101477412753339832026757611161812948685977936937811436215048615382249361109974108795145510148228696173205984318616119504289682861171633233660632861946741530854705023590617753520609432320294207649682471496202672943619230111262367196529626293191791919914014103664764412137237640463561698244508558696148701152465206544076530904106750337854207587953235470311311146732032178175625850834843794151924524877765100885255523762141363472584132919214829541273278392596430605140884186710148462306011208015489518954306052555262339847258466661104471574197191701696096188136929527319856107531542885234522311008545601976318623772600729033617306332342761595879685596111235669738438214248185219516153593802161906903131554964181160599171042733822533396380216190690313155496418116059917104273382253339644508904707135972913311710879547213955376666051838360285287451696098247144062392596796672076315742041233222931981266233985088763160131552873745579197203619701596193543842723211296031135578129631714571729211533921991361121520639515335775121410484528010156178168251632513397431217334924162512641142146659158731181028582094236330337882518674250626653743265744761564102006609923160834878376185380318383707315874182118917466912645310710700914158755034881901526862100082277216721603599454318784723889650349830521747451686529138857292113521189542752159295129218455212108736340817133197272485212153351381590128815451992834601298039521417513168641688281129283363437171372061293220313424232110281145112209449687418537474410124201450321115737001633304532416865312035965692763265731233152261221762366725337861106665174717282921923160491732249214034919137626086120076480271445225103331775476825562164042508796583741259075475160562220982313251322347990854093057146122533919583791293821204127251259849115700413802642533098724799091795551502583411259894115700316161019446122536733249515041259894852455900064367779129382121207712205279130125989485245590006462455733249791301416136210998942946087533896197327090922615730548579233556310679888203718625714442551825242750365621674166228730834367290258816265517158424414114251210912413504310859213152424873230823417849768406183641586791892318799757793970131519213735621103942871315908792612847256707146153101883165999752852337253284721342071932278512139735970115582137351696662110394198618611613085315908285234458841581057739092042794283358394205955204615368406181798142512397355121970113085285234458894205955204602725961104252375130853549738783358368406440716212081397355123181823192329871610950021159132050424323983895314263425945012302991480421841528257810349859402893362496803378105253492654419186474476221858311631985440011677315804756114157001652326361285788441058552330392857811590585342111688021730624217018984715925195198716654418528255824047531579365542732916042677811693234403368649420792970715098357247189848650931060804494112927211106649553701898471592519519871613008114091788860492113512541575061168802404753475363584678140128652153433368646753115486510749553852649149449181977433439351255477831126337240475154261490732116323211468091491731581517594559167652811714107527733687059372682310948651324955319729521578307453328969871754256131581514627025211381802283662133825911995173334290956270107724101455910317634639878152867635801357631764481981160169992218401125172141232487180938950232423166424866975510454991031521138176448133825910312888094361152113891031784422888093017362557521923092637167202079875431845190411085338711151296735001763650176450501794361152114099711660361240821338339103399032386101521140133833910333539432386288809288955211403412340575517427299713429126665211338332943108318754391033323866893580900288809551128895501791115113662652029491906471348154560121787826871337821926412338655751551247813286216101985851366334598515572168152277455622852562750708117882439352510372756048154615093292826665132754893015680511230447165299620534599872344273556011182167344893030447136626203132574024781425462428152028180392756022748770548154614544134895480822419489301609136626481546186228258178781720214114890481546149723676212037340225997118294386552419912759663308261894583825592123677906933155851221512722396022415174819185131455235731516399754315912414201184395997332111704048768662077061663671926615420713357991526924821112388853873350990831856598072426516575764548867556848190961116393154578406763983327328313948080105465597110732033511533926134203156934897963712949642858122554447443941137753367452451729906830971464965717241392583279410292367027767583507315633294851423937168811485162209202474298321578344147393555252267649568634254134724439603277209229662610796273994292031891820564406645339812089282889342304989789025037586176230137237159129470163624112977580521218011845911247969417733838157495864814849817772433074357712902416948810401288061134366730258072516168816249245114574351157731200820841261188154822632528961079491112009653586754806432131538398585502308956403193025770596187982096961498393185632808474141821260111795574146176873102701559995671372513205191736955383971497946091829795301567523174152084125107961654990061879615081374806401232112242421507805813720422629557904155999480638898516349259851027060840102594685018669164207143286361414133937891075594976449293623861621002994989073190464717750511501692715349378066031982466681940102533465343247318215283976795159455892111181537018194406061333383690041841009942000813426187737623214043478243492215417493159662332293446341842575575908915511276425900340039301032076239242193381762419738259605186999881953006351168161559634842592255559218686449158742642136969457447146656685132051261121515962216996538630426242641129706606629308035592137882190888954810711190818505897887763517511035794473525433028731504211474149020904427470062959401674332413999663841770335074425877635131028331113801858844097527104247992636475652413169616921897662740766772930807815447959423330523292236411321718976409751724029308025668063647877643131028104800564431421884365212628214110187102864546521620492601453562105622158929093793715865639203837516657301413160946559032225443482327912572705561240102181688188571183816233588641837209951239821334018053989498910483141381561410247730556585626345439480131114885236174864243576277117031221896152658147661852384353342672089305317034791042128498763694698518389714685450867920798522676013118413609101346511172129085253057659832427931476981331951295293170691450884625320787441117415152404927529265857631371982219156374515276983310611249551299680023494219446611418491015950799206230398891305050155142102916258344871821266829481771292283607154210053186815280248194722472832534124488144723125280222483494624139794422419455272751531873734041218885572387686809649960824707376109432751778921451130452411545955132027306498361002138201971777305347408292173610550914482588730208323742299778116142640974305868749722309511591129140261013867762706258626191171107624340648689873470153011015841477181168959400043323682338449187892740154435210819491063773537879515067831065773682413544082951413165727156324951814853616257466014768584221053462007399400142903889443513024551127263213548394357214258811176079433731250659395130963816495432036858183555941759838511273697174112880564884857215206512683365610341205998934453411677155109654389777255254152315173330184614858069929019604191729544178661816401231451981691340314650615439381030642144108126621325024671633565107681176104261752017178723245419758478589231335947207453463552315538137137201330324039112493083777822298642502571320158098789611842100098915890082838751838090307398463743921761625476447456259705805212270518533961264132900840582487973681747286091771649893429091401656808101740811851243241440461955106519047164390194444641839287127372155235160423915964112634304173692647032694969972256696019452243570495762102308916626311119156741030656772965155276115355525425111851489041528521734852223085566594991827212315382363723458820758780596841202184198303307189013840027571266167229280320214255910218923460612810035253815686263680197274719325975521660332539601331804136208173693133778935704892989947466306307462133860029229505106169618765939654656802051551684131475148826354169911393925736456712746140304432240132414832114020595982618069758914542826875900993829423020268695613355112935821352161253147306284511621161697206124502164182118914314866627691264383680246681378826893591411219420124143215665713342641142110736424959716979396021746015975735744434079445483953691351852636741725956821696513481776872351068144902925165525169677751461124414224517847628124359725744649001509790146913225031503544578556033416111142789775174827691158081638606751820100674805314422775370963215921031381296454179881771846548146219431468131108819812975682105710490166006761166012335881668869363836487658397757312485213943878433165534331571117821582624521056883712198245174685599522414435114049061011889457550920931092631926772411821031687621136121103104516572335464306431615418542987947342881242399347858215924328390329287594450277219971273092460174458916678565111291507205382142237154310513714424244735209775492121216510195720595080113096634815461092106406175754540631166375841925142801168487204185836612164210121471080635583714922018126305154878252326138642161514171424210127365658660343210748916875161618612882160589838517522728144811319377216461499466418834528581435126716936130549748424587151804804421387958229329970718534955894960282954301216121075016367951198765011460541444623014051453976201165511258114083069466199718291360414224198246978537180295401336369927217218862531151055571384602227401596628692793881752162839082105261032826346053282975311145423719651039630527206738463785335967121805579327501211860412906224409344786425294722985432704027141781640936214760483043273361138332631041126377448822841664523291353114340664731450129811932332566130163363295145107922115861211132265084297610752088769300533629914177470518751107252431003195267711886961067279992046267164024137302325266317293314571555182831513432017822047629708394954642171636526174696030002526241759456918277721177614178581191096414258835880453326323845912055717876472692614745312087716522421013672651300631245593093512221137520339611676938055774794626530764846619909476115265352312306652234535089322159013881141641858520762367381936813336430375629512293156441536731998530412410881689525645458486949768092751339116973893597197644825627405531327974340228322087529264162420189186576634668131407320914325371893617342975156467503873747444410744131135122982218911342214851821889342691611031345656585217347371658072263229162397125214593113431065421597124312123338124728382827803302194597121821845112915740044575636178041608995223197878669648321733942654136201991232229551474631340550117116759177751812013234354714551415848564111867419347213445920120850112921321763039180681264581361493453758493273394410256484858800493150324583968072210317133333889974823729406511179139104389130689234971722022570141452592122332438911206345771714819209294956662461721943821958657951917097362636123136250197101218300414308765294033638651959193513816249252245370412693948421008012302123114431480833159659897527564164160637661622368411717718822194525235131101867633478558821138871051316675297010242137433719511294097226671011447042811265575416614251560410001616372188813113424272224403972068584389137696322976254898224353089441680190639132528735580160862171226514118202476364013631602101723712813542114108317451315320254692519596362215317115220293626815374028420879763404374239669611141256521407448113792057283442832587178071554802082986745001322813011773870928407788118285347086379245244565119348988894251041836179454715110776537165174127470673919532344819933510080515875231682628235486271724123772821805922316162596197666982126640412691278565369912685278165217028916676642121185440681176232433182730977625816128498482360924312578742272946215906329469761721525612753734325827717114342270124202511190117064117415025992598579574719250789827249178629955614826483807317416591487252158771824992906211484202409522942097354921141604146260137207983461156611275424775384524415765305141454621924569298521756158062440699453291715363441012671044698211211111121213724892327411159895162530397792545188890165146104551663212927075191115209711087264262332272860227241324637031624424122013861002851613943109530026513651123671261271341494025726312387362217342196203032322666322851491135921816902272876772782679826364724209686234525301424169661172744155496251131211049258473615111383432720913825820720711121443451373777461120173910910341193214514765393028954044969247123931971654941123820512474692291421031233479836319882934915332715671396743968418944331564842078783828066603375574456054090310348545183451011433048422628390786715805569291461535581252055959730536712836710390976608275843123309263907321849633914130662622562889263415932194281542105170673322250976995194471729798412723407107363056509364742264387198116172182755081219165641611127635188318834310310176228660201011044010267378201714269347802076711821187340791439164416307107589612544220583086714453607912926816740681756402717180141226286271167522055242125329721957735479742010581991505536401819180221643231208423663762282733728479545125644637653137691212597231819612059143412342994421206715569428583834438310467640994722695012261720133816116161103401032535121341381023326601556866452446717352199633349569691469206611662674480216864174724481792833113534202484166341939549430892927730125445301160150810010610222441606164152614304268333793378312523014628419442051563355190160739190452152131898158551828923267213327949612843436320976579878313841968378659152027106262219261879423882732811172159163818566125399135977821424572344718614624455331203050131727631551466181741448353503133661468014165559165314324471311671437334881255788773416414283620675515691038297159398776730152709031108196944451317124301766740691862557833033780883471893596332017442361717825530991523012311247431341129215726325701225646191671861826825941382112243165161830683134662774977280302427571911032180420691859232130287586546414131629206812881902141827364371016109130446713201561167245104587981754548947515554613304999667033515114168554456102696114803011895847196403337427113847484512215665370327942516323254328081307973364121919264371220829214437426111872992221356763643613632197915816198337371225572947104721002216738693844282310047092381191433401528698826815057101981327924977624555819784400151000624670527192655011254733332970570482839962048486764978901625035586144457841137611109869417517125728411420513131913064120342211013483191131745551384482278258588251067130051313964169313873991645411074972997664259522251791513142308542212231138041274412784258699224557160412672295572314356997149072223474122932017358876712792229034279734230914788075706183343213548176945452289112223210024421203482641977305690362561901641625284337268828127473615334212626964983601255575362019212144623314124291213162191688700016541043974754632094556305121799889364901521785563829612713083453819166571326511267198151731452251120142644261385152320952371064778262701008125271557962190316921211431618812834332683454923227363265885187113951658087144040490115988421321151757511525221231661432809461229311751366654913151705473141116145101183459692952467131431521187828274661231213314617945881631025541011514254399501045661647271363560132324924169176410845315509162313110119259945239011164218587152128883521452212933029990763489627531995552099102240745923154519207125635036412414439898118253337125439038940317372788581221136415564924456229488820660211824691030219821317141528332167144545104349503341002480128810774611194578890474870756185712024223368136838576415109519448803967210236670084723802224637985496262076717401663633341843288911248239898190074319850791009315004981147196617612642467519829291016373271803148471441094917662712359521298519853863204638521979920571226353953044425691637513408479604521433820051200356386433142462839698121533107761725013519391535197348754704677382499642108336412410739041213145631177861991757099878100115958112877782120637316880383203275420963386947162522657265159231224841713710221541233319159111147641802681725194651282038460770228592958242236187101879351313228234445562548116344437112436557878475020157591522871192078424210447831921028237324713455222119368455249910813029308687781729839569542218706337975117850167974263047561337883231475473898216920102026822634462973106607821918234101147561216724205277717371243447614032822773263585216329904641089251019337252623286551254332633494616459991310152117514823866852112565162781252087834321116214604160325343146024785445568345610367613736624122534185402711862831561810398819819184863541123569334785348620848029523742531231207231314117366180573225632319619929224290109247234349589212667409074759441151761098185012108245712136253757955577088214748397237411337139230348942314209218312782024424425203807152575135931143141611474022426997349961252555541228820916391243675450846165656393510649166141220459122652341123155211126399414361546784268113731977727306979208431376745042848141918624940691756347194391012132111818442147103251731219606065431617138716851174395417322747191394935718232247340310159578501522501122262141117922187815144706011876137117118928025640916739817401372213187396372301415753164142289307115112400528550353371427582674051766122010136540134412388241710176289260527419375153649246493898525289172761054626143989579405811968530123688993338742234569312038241996514371547704591791726512110064375217853323129213313954355613504765244087767154309025579371395452233324911733161903424689153041061138118620166312461282582647552354042689522160144078359163391801866487449754034473862677874988949149191621328492516862520064837822869478562223458911318395143545610257531198480375996152102171081764241941340881171110047993921648186684703851410318391959453301124863271078615843670062812241543533104068394112931477418784781423260423517228633331692352715111301263076450293871686387675623104401579978183545340621484152395371597539609041719723466495416839665841288823144630339439068390903221162060264133128107552635217736164851555952609186771001617732332623371318696665860078599779620132925210952130101628426866429255955613871923156819675266321117085322512411938820465385165059118612049463779132396821847812328798523346122593253207233481334624240467161928025898117714871524565132259632878038607902835525942111844544505150111527761164325985534263786156181605052020552979411289905118723640137071307948562910374520325961664564742673954535925427144322262952531557063549900107315410815599872161430886320140892645261207801574497566464910484253786172661796968856664229512901561811402100740164881939711151853162378718192217578412836710786623392934813123003481688496946341315666625931213839199112111132384213230274233641843242781231661617965925761937333581456463191128140548511250155093845019413492272236213943270716386512682702138158575328816102254414554968447536935863323347162614432142531582910173837255367163345200450421828727002310384785317265541013231124199720945181463397358018117481205267183764291388721091117882302222198537251357192916887766140022289610777822181067625967185249082046322725315763682141552962137683521423223828775761291417563112203216293312749224773911010190086386377913129362541011817830254328137338441819973920616231499168124249851275981575781347963343661546583167707484711335392176220941939305174935192347605129938681405114194595339050023599313314101163321265104876611656923218616121589997299253146768275511023223770311841211382138611811663484152252662014381642712831767190244322843253862591023856111829829896197610373375155913935651716697615641655259643195115222811506846449636271894767161822814127335164645513635546131215963303721523959691763237632167120852830321185280723182896424882058574571238833311461035599436061312388261710601254172611426818862510580237133816908023344300354454145595228272763699556763214616986957432344199808203101564441220163132600938702226641662517038917228156798482057732496290338685484449019953841942767140658331785855643311729716829154103930239534111315537111128177721828159216166275493429173017347303501063316112013484518437769141216262282651576183757132357411440320889496190221015027912424351626817232622041327981754634596958311272216539281985053222588356105294017265474249724278377691325663192799339461745314773228283691506300081100247576253318807379185382115148405209771619784101860113388433574612813716772032676361294234160736481550751256166398635933252210362713015726415732276627529010943266896969138050224866110576680313701144242314251559421191468494600905172214692406785909612781085209111271791535160787045343661013731410458335855333666976496715339673523104132584873184825551371424014335989162372114995202921408831642632812809148352303048101313646712163441755995482191196122776316905237251076978051812282196281021424321823633519237448714234311357254449210176667531705943083240584875115635956133840801120421593336968365432346422330222119142380552659542541614238343131865256197809042074402923244797790431751218493812102797244163519027428507006128462714216143910353283129412208198606871468910051667311447914898608149897107127831211308200291941187200246538177542362552620265777243570762002147881442332919015118241752072941628311077361600137598836445271328951341613811021510534514288606151374206262315006018874015745462329243852133304636919602178291552200151692674144218354495731110231114131130174545291396617924978014141515254861227196012580193851916523964774127813144293253482552801173154252902321412525420293632635152510113047983246545171201909286626919581045810449816141717711236586732207238591442847372787851208657760911449119402651324789442491924350941103807252333753246058407043838679155313032498027358391877569302932870859979378223390988780653987467088320171849971126408425161817421512251211238419336412609039520146068833730556394736298833444604427087413186568141919673581310242149237275982160623823220035961959287964501891853254472646106181810581497526298830132080762649121825585886851754336813938959660233815182822539931222322335661330137529033929513275576127229307120007362562199002409155110701051325384779838912548922945683919699287281116342645872316821152231033257123164138130281518109218280115103258151550889432129216029815171220225474540285311144877371532213218132749948320198775838754082222497744371263383674431919363407968017090316014280127614616261892671833344691074951369673003353368491528786260362412511949318732595553374071420121249580226504518463317971663782201537110513882676156461764872642822721923150701001793188671723732543838954262171024456190511211074337090639643452856802521427324474230471823478279606123640201106644410605337108384026019190544612071522117495229342382670160371406761389747952019758590158834019139719521593571912641441521697215265675531045015410749231721610981166751531697291754354146310010520100716458521213819104764223789215179717183704183581061539207554076941224912522195534114225762422252141130384875586494364544027683671164854108392062036412282634771476995002294157946472522387829802842960097350292961225712919812222169120140213105320334108302742815147318523218584247687136106320272654570753243121735224929178342761542487515036197481372771121541346932673685239015142479367339691171111511234623724910423.0M13420337132552128438235431619783210715424328610323066810935976826224105954207138473452589218335171250566061322570182121628218710319933788151712954214201127006730189512112527511923614564768887160246148187582251014627853148116133830176567011100735403406566536763614392108015667633411416875514221531261333121397178549987144889135183346320214332013313311460664071814420931241441398143889411681566159220710758546836183550141281012275048191619519257153176727968358114516256491832831369811464911180960826252222271908332083410121321326817831969894316378848432169638253148335991233345842210786359224528637951714049391351783411725234024545514054552973681035128721661285107339614453243320361745218556496544233762231980785577588552221172916038811195447384'",
      "\nDuring handling of the above exception, another exception occurred:\n",
      "\u001b[1;31mValueError\u001b[0m                                Traceback (most recent call last)",
      "\u001b[1;32m~\\anaconda3\\envs\\tutorial\\lib\\site-packages\\pandas\\core\\nanops.py\u001b[0m in \u001b[0;36m_ensure_numeric\u001b[1;34m(x)\u001b[0m\n\u001b[0;32m   1430\u001b[0m             \u001b[1;32mtry\u001b[0m\u001b[1;33m:\u001b[0m\u001b[1;33m\u001b[0m\u001b[1;33m\u001b[0m\u001b[0m\n\u001b[1;32m-> 1431\u001b[1;33m                 \u001b[0mx\u001b[0m \u001b[1;33m=\u001b[0m \u001b[0mcomplex\u001b[0m\u001b[1;33m(\u001b[0m\u001b[0mx\u001b[0m\u001b[1;33m)\u001b[0m\u001b[1;33m\u001b[0m\u001b[1;33m\u001b[0m\u001b[0m\n\u001b[0m\u001b[0;32m   1432\u001b[0m             \u001b[1;32mexcept\u001b[0m \u001b[0mValueError\u001b[0m \u001b[1;32mas\u001b[0m \u001b[0merr\u001b[0m\u001b[1;33m:\u001b[0m\u001b[1;33m\u001b[0m\u001b[1;33m\u001b[0m\u001b[0m\n",
      "\u001b[1;31mValueError\u001b[0m: complex() arg is a malformed string",
      "\nThe above exception was the direct cause of the following exception:\n",
      "\u001b[1;31mTypeError\u001b[0m                                 Traceback (most recent call last)",
      "\u001b[1;32m<ipython-input-29-366a85b164b3>\u001b[0m in \u001b[0;36m<module>\u001b[1;34m\u001b[0m\n\u001b[0;32m      1\u001b[0m \u001b[1;31m#Analyse the Reviews column\u001b[0m\u001b[1;33m\u001b[0m\u001b[1;33m\u001b[0m\u001b[1;33m\u001b[0m\u001b[0m\n\u001b[1;32m----> 2\u001b[1;33m \u001b[0mdf\u001b[0m\u001b[1;33m[\u001b[0m\u001b[1;34m'Reviews'\u001b[0m\u001b[1;33m]\u001b[0m\u001b[1;33m.\u001b[0m\u001b[0mmean\u001b[0m\u001b[1;33m(\u001b[0m\u001b[1;33m)\u001b[0m\u001b[1;33m\u001b[0m\u001b[1;33m\u001b[0m\u001b[0m\n\u001b[0m",
      "\u001b[1;32m~\\anaconda3\\envs\\tutorial\\lib\\site-packages\\pandas\\core\\generic.py\u001b[0m in \u001b[0;36mstat_func\u001b[1;34m(self, axis, skipna, level, numeric_only, **kwargs)\u001b[0m\n\u001b[0;32m  11464\u001b[0m             \u001b[1;32mreturn\u001b[0m \u001b[0mself\u001b[0m\u001b[1;33m.\u001b[0m\u001b[0m_agg_by_level\u001b[0m\u001b[1;33m(\u001b[0m\u001b[0mname\u001b[0m\u001b[1;33m,\u001b[0m \u001b[0maxis\u001b[0m\u001b[1;33m=\u001b[0m\u001b[0maxis\u001b[0m\u001b[1;33m,\u001b[0m \u001b[0mlevel\u001b[0m\u001b[1;33m=\u001b[0m\u001b[0mlevel\u001b[0m\u001b[1;33m,\u001b[0m \u001b[0mskipna\u001b[0m\u001b[1;33m=\u001b[0m\u001b[0mskipna\u001b[0m\u001b[1;33m)\u001b[0m\u001b[1;33m\u001b[0m\u001b[1;33m\u001b[0m\u001b[0m\n\u001b[0;32m  11465\u001b[0m         return self._reduce(\n\u001b[1;32m> 11466\u001b[1;33m             \u001b[0mfunc\u001b[0m\u001b[1;33m,\u001b[0m \u001b[0mname\u001b[0m\u001b[1;33m=\u001b[0m\u001b[0mname\u001b[0m\u001b[1;33m,\u001b[0m \u001b[0maxis\u001b[0m\u001b[1;33m=\u001b[0m\u001b[0maxis\u001b[0m\u001b[1;33m,\u001b[0m \u001b[0mskipna\u001b[0m\u001b[1;33m=\u001b[0m\u001b[0mskipna\u001b[0m\u001b[1;33m,\u001b[0m \u001b[0mnumeric_only\u001b[0m\u001b[1;33m=\u001b[0m\u001b[0mnumeric_only\u001b[0m\u001b[1;33m\u001b[0m\u001b[1;33m\u001b[0m\u001b[0m\n\u001b[0m\u001b[0;32m  11467\u001b[0m         )\n\u001b[0;32m  11468\u001b[0m \u001b[1;33m\u001b[0m\u001b[0m\n",
      "\u001b[1;32m~\\anaconda3\\envs\\tutorial\\lib\\site-packages\\pandas\\core\\series.py\u001b[0m in \u001b[0;36m_reduce\u001b[1;34m(self, op, name, axis, skipna, numeric_only, filter_type, **kwds)\u001b[0m\n\u001b[0;32m   4234\u001b[0m                 )\n\u001b[0;32m   4235\u001b[0m             \u001b[1;32mwith\u001b[0m \u001b[0mnp\u001b[0m\u001b[1;33m.\u001b[0m\u001b[0merrstate\u001b[0m\u001b[1;33m(\u001b[0m\u001b[0mall\u001b[0m\u001b[1;33m=\u001b[0m\u001b[1;34m\"ignore\"\u001b[0m\u001b[1;33m)\u001b[0m\u001b[1;33m:\u001b[0m\u001b[1;33m\u001b[0m\u001b[1;33m\u001b[0m\u001b[0m\n\u001b[1;32m-> 4236\u001b[1;33m                 \u001b[1;32mreturn\u001b[0m \u001b[0mop\u001b[0m\u001b[1;33m(\u001b[0m\u001b[0mdelegate\u001b[0m\u001b[1;33m,\u001b[0m \u001b[0mskipna\u001b[0m\u001b[1;33m=\u001b[0m\u001b[0mskipna\u001b[0m\u001b[1;33m,\u001b[0m \u001b[1;33m**\u001b[0m\u001b[0mkwds\u001b[0m\u001b[1;33m)\u001b[0m\u001b[1;33m\u001b[0m\u001b[1;33m\u001b[0m\u001b[0m\n\u001b[0m\u001b[0;32m   4237\u001b[0m \u001b[1;33m\u001b[0m\u001b[0m\n\u001b[0;32m   4238\u001b[0m     \u001b[1;32mdef\u001b[0m \u001b[0m_reindex_indexer\u001b[0m\u001b[1;33m(\u001b[0m\u001b[0mself\u001b[0m\u001b[1;33m,\u001b[0m \u001b[0mnew_index\u001b[0m\u001b[1;33m,\u001b[0m \u001b[0mindexer\u001b[0m\u001b[1;33m,\u001b[0m \u001b[0mcopy\u001b[0m\u001b[1;33m)\u001b[0m\u001b[1;33m:\u001b[0m\u001b[1;33m\u001b[0m\u001b[1;33m\u001b[0m\u001b[0m\n",
      "\u001b[1;32m~\\anaconda3\\envs\\tutorial\\lib\\site-packages\\pandas\\core\\nanops.py\u001b[0m in \u001b[0;36m_f\u001b[1;34m(*args, **kwargs)\u001b[0m\n\u001b[0;32m     69\u001b[0m             \u001b[1;32mtry\u001b[0m\u001b[1;33m:\u001b[0m\u001b[1;33m\u001b[0m\u001b[1;33m\u001b[0m\u001b[0m\n\u001b[0;32m     70\u001b[0m                 \u001b[1;32mwith\u001b[0m \u001b[0mnp\u001b[0m\u001b[1;33m.\u001b[0m\u001b[0merrstate\u001b[0m\u001b[1;33m(\u001b[0m\u001b[0minvalid\u001b[0m\u001b[1;33m=\u001b[0m\u001b[1;34m\"ignore\"\u001b[0m\u001b[1;33m)\u001b[0m\u001b[1;33m:\u001b[0m\u001b[1;33m\u001b[0m\u001b[1;33m\u001b[0m\u001b[0m\n\u001b[1;32m---> 71\u001b[1;33m                     \u001b[1;32mreturn\u001b[0m \u001b[0mf\u001b[0m\u001b[1;33m(\u001b[0m\u001b[1;33m*\u001b[0m\u001b[0margs\u001b[0m\u001b[1;33m,\u001b[0m \u001b[1;33m**\u001b[0m\u001b[0mkwargs\u001b[0m\u001b[1;33m)\u001b[0m\u001b[1;33m\u001b[0m\u001b[1;33m\u001b[0m\u001b[0m\n\u001b[0m\u001b[0;32m     72\u001b[0m             \u001b[1;32mexcept\u001b[0m \u001b[0mValueError\u001b[0m \u001b[1;32mas\u001b[0m \u001b[0me\u001b[0m\u001b[1;33m:\u001b[0m\u001b[1;33m\u001b[0m\u001b[1;33m\u001b[0m\u001b[0m\n\u001b[0;32m     73\u001b[0m                 \u001b[1;31m# we want to transform an object array\u001b[0m\u001b[1;33m\u001b[0m\u001b[1;33m\u001b[0m\u001b[1;33m\u001b[0m\u001b[0m\n",
      "\u001b[1;32m~\\anaconda3\\envs\\tutorial\\lib\\site-packages\\pandas\\core\\nanops.py\u001b[0m in \u001b[0;36mf\u001b[1;34m(values, axis, skipna, **kwds)\u001b[0m\n\u001b[0;32m    127\u001b[0m                     \u001b[0mresult\u001b[0m \u001b[1;33m=\u001b[0m \u001b[0malt\u001b[0m\u001b[1;33m(\u001b[0m\u001b[0mvalues\u001b[0m\u001b[1;33m,\u001b[0m \u001b[0maxis\u001b[0m\u001b[1;33m=\u001b[0m\u001b[0maxis\u001b[0m\u001b[1;33m,\u001b[0m \u001b[0mskipna\u001b[0m\u001b[1;33m=\u001b[0m\u001b[0mskipna\u001b[0m\u001b[1;33m,\u001b[0m \u001b[1;33m**\u001b[0m\u001b[0mkwds\u001b[0m\u001b[1;33m)\u001b[0m\u001b[1;33m\u001b[0m\u001b[1;33m\u001b[0m\u001b[0m\n\u001b[0;32m    128\u001b[0m             \u001b[1;32melse\u001b[0m\u001b[1;33m:\u001b[0m\u001b[1;33m\u001b[0m\u001b[1;33m\u001b[0m\u001b[0m\n\u001b[1;32m--> 129\u001b[1;33m                 \u001b[0mresult\u001b[0m \u001b[1;33m=\u001b[0m \u001b[0malt\u001b[0m\u001b[1;33m(\u001b[0m\u001b[0mvalues\u001b[0m\u001b[1;33m,\u001b[0m \u001b[0maxis\u001b[0m\u001b[1;33m=\u001b[0m\u001b[0maxis\u001b[0m\u001b[1;33m,\u001b[0m \u001b[0mskipna\u001b[0m\u001b[1;33m=\u001b[0m\u001b[0mskipna\u001b[0m\u001b[1;33m,\u001b[0m \u001b[1;33m**\u001b[0m\u001b[0mkwds\u001b[0m\u001b[1;33m)\u001b[0m\u001b[1;33m\u001b[0m\u001b[1;33m\u001b[0m\u001b[0m\n\u001b[0m\u001b[0;32m    130\u001b[0m \u001b[1;33m\u001b[0m\u001b[0m\n\u001b[0;32m    131\u001b[0m             \u001b[1;32mreturn\u001b[0m \u001b[0mresult\u001b[0m\u001b[1;33m\u001b[0m\u001b[1;33m\u001b[0m\u001b[0m\n",
      "\u001b[1;32m~\\anaconda3\\envs\\tutorial\\lib\\site-packages\\pandas\\core\\nanops.py\u001b[0m in \u001b[0;36mnanmean\u001b[1;34m(values, axis, skipna, mask)\u001b[0m\n\u001b[0;32m    561\u001b[0m         \u001b[0mdtype_count\u001b[0m \u001b[1;33m=\u001b[0m \u001b[0mdtype\u001b[0m\u001b[1;33m\u001b[0m\u001b[1;33m\u001b[0m\u001b[0m\n\u001b[0;32m    562\u001b[0m     \u001b[0mcount\u001b[0m \u001b[1;33m=\u001b[0m \u001b[0m_get_counts\u001b[0m\u001b[1;33m(\u001b[0m\u001b[0mvalues\u001b[0m\u001b[1;33m.\u001b[0m\u001b[0mshape\u001b[0m\u001b[1;33m,\u001b[0m \u001b[0mmask\u001b[0m\u001b[1;33m,\u001b[0m \u001b[0maxis\u001b[0m\u001b[1;33m,\u001b[0m \u001b[0mdtype\u001b[0m\u001b[1;33m=\u001b[0m\u001b[0mdtype_count\u001b[0m\u001b[1;33m)\u001b[0m\u001b[1;33m\u001b[0m\u001b[1;33m\u001b[0m\u001b[0m\n\u001b[1;32m--> 563\u001b[1;33m     \u001b[0mthe_sum\u001b[0m \u001b[1;33m=\u001b[0m \u001b[0m_ensure_numeric\u001b[0m\u001b[1;33m(\u001b[0m\u001b[0mvalues\u001b[0m\u001b[1;33m.\u001b[0m\u001b[0msum\u001b[0m\u001b[1;33m(\u001b[0m\u001b[0maxis\u001b[0m\u001b[1;33m,\u001b[0m \u001b[0mdtype\u001b[0m\u001b[1;33m=\u001b[0m\u001b[0mdtype_sum\u001b[0m\u001b[1;33m)\u001b[0m\u001b[1;33m)\u001b[0m\u001b[1;33m\u001b[0m\u001b[1;33m\u001b[0m\u001b[0m\n\u001b[0m\u001b[0;32m    564\u001b[0m \u001b[1;33m\u001b[0m\u001b[0m\n\u001b[0;32m    565\u001b[0m     \u001b[1;32mif\u001b[0m \u001b[0maxis\u001b[0m \u001b[1;32mis\u001b[0m \u001b[1;32mnot\u001b[0m \u001b[1;32mNone\u001b[0m \u001b[1;32mand\u001b[0m \u001b[0mgetattr\u001b[0m\u001b[1;33m(\u001b[0m\u001b[0mthe_sum\u001b[0m\u001b[1;33m,\u001b[0m \u001b[1;34m\"ndim\"\u001b[0m\u001b[1;33m,\u001b[0m \u001b[1;32mFalse\u001b[0m\u001b[1;33m)\u001b[0m\u001b[1;33m:\u001b[0m\u001b[1;33m\u001b[0m\u001b[1;33m\u001b[0m\u001b[0m\n",
      "\u001b[1;32m~\\anaconda3\\envs\\tutorial\\lib\\site-packages\\pandas\\core\\nanops.py\u001b[0m in \u001b[0;36m_ensure_numeric\u001b[1;34m(x)\u001b[0m\n\u001b[0;32m   1432\u001b[0m             \u001b[1;32mexcept\u001b[0m \u001b[0mValueError\u001b[0m \u001b[1;32mas\u001b[0m \u001b[0merr\u001b[0m\u001b[1;33m:\u001b[0m\u001b[1;33m\u001b[0m\u001b[1;33m\u001b[0m\u001b[0m\n\u001b[0;32m   1433\u001b[0m                 \u001b[1;31m# e.g. \"foo\"\u001b[0m\u001b[1;33m\u001b[0m\u001b[1;33m\u001b[0m\u001b[1;33m\u001b[0m\u001b[0m\n\u001b[1;32m-> 1434\u001b[1;33m                 \u001b[1;32mraise\u001b[0m \u001b[0mTypeError\u001b[0m\u001b[1;33m(\u001b[0m\u001b[1;34mf\"Could not convert {x} to numeric\"\u001b[0m\u001b[1;33m)\u001b[0m \u001b[1;32mfrom\u001b[0m \u001b[0merr\u001b[0m\u001b[1;33m\u001b[0m\u001b[1;33m\u001b[0m\u001b[0m\n\u001b[0m\u001b[0;32m   1435\u001b[0m     \u001b[1;32mreturn\u001b[0m \u001b[0mx\u001b[0m\u001b[1;33m\u001b[0m\u001b[1;33m\u001b[0m\u001b[0m\n\u001b[0;32m   1436\u001b[0m \u001b[1;33m\u001b[0m\u001b[0m\n",
      "\u001b[1;31mTypeError\u001b[0m: Could not convert 159967875102156449671671783681513791121138808788448294326151855363227194216224399450654769911819220260203136223112022750351015353564814536639158591117176220626174531107085845367159828412954210479805129140339715347774388462431609029519052530116986137927192073670211977373574994197136142151682155138541434825036174806657863143350971754268012881890049790115017392225436985729644205010460136187301347435959315753826834227722801849364184736638712576218574478246315418224861435116507904688603639349671750618622084473038584278319161546202133626875177827098342527132216802739106587885126930105156341157851857099110028611658914894544586227289414635367000308471888414034459646903316141902320737212253808371060074359822808052287416214760808052868971037554650511442102952962931370991180213832317558685448415920815786627149307958006989164221087413161462416613086989521110582962931370991180213832317558685448415920815786627149307958006989164228080428689710375546505114421029510028594132317524005571062249516834101023897030243873391442181939651446120883141519422551298392791677757115125995221155198135961006596848951252571429035158679418799865939547858926660230209369011929481369820769368806153813305336481201366624237020832375413892939407511771292225021271874785988122498132014832395947282876500282383356463493843469823732012842860368931588034698022649165413894292536484801771485013100550981133501125781096518247190613125232832397206527540104990177703175291772632374683225448356555244193825152872057399498418814288427183374209011225951243462554142047859885947282920819103215455722857262556777961637126323137244884531320172460419511633102123705366713202115721262622288820671643105341411806199922544976842519114613046172688722953259353778522121972352065164193927780825400351093160122125708124163986788853550842430285726488452556777983712632616375377116333137247389534631222888172685164495341952126261439164513204853337130495169892315461491982254587232317013890570835371344014310598946191221215081802183520524395023651521576670140039742187250618298686618593528125185611035842207762141518651113101120246495495425605910212105286516812633416058218324331858035512579111053234788256915824531829861157976991818932544853753142999770323464075106119321560651428613313639010902669483429187481726406116193168673670058895741275721085298881929151642325451985375181893990203238124855527214556897859930435811904222512238499020734042518352743617495570419277136123786218372656240275369223634307563168537518189399020223843238017250585997973266935142632552561725085479848157511233646314300206527381647847161952063241835252520005812397021485503847552568430948151725082669481420620653214700378621405148549843112065321725082560792078161031121310853528116562967714700891093952412250810291697910307817682370001828284684116469167029753245823549611661653008230634116838918296901305496130591633682264621867653008263915114455024421552341221692058493333871232792742460841297062881501480731969235928644482237829682992058123279319691608412881501637258028333877368642970627424196835279359311480717247877231977748674296771123279319691608416530083338728815011503380129706274243527935931223781480719777486748968303185650725123279157523666675543876916016437712566643782707421532061181115558573823238744647316988009945658394663161065124298110039928712442452306426442780826076112656319069579731671683442815247484452199613837112073111632250706649596597415103927215255086044938178810697318043856133624625728312304818811919215702831696111125477315928614886186622313069973131126587241710542516619870359616144075144610615141714434442809192210658783611386811066818837580685378015192595015993590577316597601462710982898707821126410099732903410909648795125071951040124729783064331313745496998145323647843299727076111362473109784332061681038412107413803155944101592800843614455377139832405225138509193142131473145414952125017261406555649256507107790661962196278126891359220151315693198622875170719024246415594422875769032113437552800933320835218375172929691577380983113927233722012540059220098117925548021482764710361270570646564462381440405122719991162071502947086741140147091202928802702677777786421861120329911572118366227393104454947948482052991836695420130104251534289516009610654727396708710109756383431157217076926540160819074797675864822610262894511506128811689775635499707692665271269203015614520326129552681410257024212183812858506791694362327396708710704161567427029414405018366925153428951708753274392490240941853930612054734052177895132427439249012601724094205472469306118539340527029421778951324143942654018124642165704822628945038115063166520529957634116897756370769417907316716224365913249776000377112758757384811005410117352236857230131142874435428175084912258440872669761912627322488093280147823824450515446524276631112006896443536857848116224341790738342258481583014923670075391268624814659297834344112372580130272130739658055170377506261919601708318671201459122639399394537811267189684749760114099551357135653936472871611431616810011607981589398542607260743829335726145343277457419418214510944665216753652189619412966322252316430319555778694212173686554332643478266761067179720304737649147691773448106737881658203043309987520878298348026808360166371797959046808360166371797959053114220331533283013937894204213213100972858810544334644473882772226422426677254258148897369203523416223133508811860910485308149736159800261052640669893778921619856310306448917231000417170396859811039314198297592068173226329524111356315566669129555727068721579305062752300568057130049089235874128732420532577249904917614130760628988182921233812772319344473461048533414198602448917232242845640669803197865135106854186759881908148895188925018384623071029530561988802157930546562459854153446623134775148912231137271506275261062299058610354811893718985655067761427110434523482513850932698348112501798826395566805746735387639275041012956064611379469269305444879114986482772409422428456135108936063011372671420034452348106074334811893710004175922821535084811888010424925230727370234222449812321262118253141529702262251012302531576384911464169469267196482566427773258255538014817737156561016862754471747554578476145353149937353145837142701955582994023072741975216675231178516588854114411073102916818977333775230933584207924041632506707473588171540321477710060913438661687175497201899625094930331205921879724849812055735395901758291862119922211197412181251079513004382079394337913444988222429716388358914200550271914211071973716278931595165928246806330917680733844643421481952246658412632551902182125242045554745684416540166015901730574812245142624722430188444991014201891277253526199095104931489451351771188958223136735448938887614415406765129557659907104601048601881191511295625309393223084998833675235294319817610055521412966521585805065935419676990723592504218921138239988380619754074695556688926988821535973148924698923818112543829445655145547656927725352150099942308868119154523529415359732698889990663211921813272651842101003269124285540142510979062515657955656337913725897549039155965029216452096213818205255176961949693275993816799105385476569105620371391477913478833432633543737530434305515338155930732512664921510393067642243018840676515990715006221420160428009814899026985112543853877818923847132726923043421451295625990796171448261068013006192123793218926074627104303556690827506454764412564743552119235214878811040153634959250417044155186112556654196763449426065146381637614407234110486154706944214544499101477412753339832026757611161812948685977936937811436215048615382249361109974108795145510148228696173205984318616119504289682861171633233660632861946741530854705023590617753520609432320294207649682471496202672943619230111262367196529626293191791919914014103664764412137237640463561698244508558696148701152465206544076530904106750337854207587953235470311311146732032178175625850834843794151924524877765100885255523762141363472584132919214829541273278392596430605140884186710148462306011208015489518954306052555262339847258466661104471574197191701696096188136929527319856107531542885234522311008545601976318623772600729033617306332342761595879685596111235669738438214248185219516153593802161906903131554964181160599171042733822533396380216190690313155496418116059917104273382253339644508904707135972913311710879547213955376666051838360285287451696098247144062392596796672076315742041233222931981266233985088763160131552873745579197203619701596193543842723211296031135578129631714571729211533921991361121520639515335775121410484528010156178168251632513397431217334924162512641142146659158731181028582094236330337882518674250626653743265744761564102006609923160834878376185380318383707315874182118917466912645310710700914158755034881901526862100082277216721603599454318784723889650349830521747451686529138857292113521189542752159295129218455212108736340817133197272485212153351381590128815451992834601298039521417513168641688281129283363437171372061293220313424232110281145112209449687418537474410124201450321115737001633304532416865312035965692763265731233152261221762366725337861106665174717282921923160491732249214034919137626086120076480271445225103331775476825562164042508796583741259075475160562220982313251322347990854093057146122533919583791293821204127251259849115700413802642533098724799091795551502583411259894115700316161019446122536733249515041259894852455900064367779129382121207712205279130125989485245590006462455733249791301416136210998942946087533896197327090922615730548579233556310679888203718625714442551825242750365621674166228730834367290258816265517158424414114251210912413504310859213152424873230823417849768406183641586791892318799757793970131519213735621103942871315908792612847256707146153101883165999752852337253284721342071932278512139735970115582137351696662110394198618611613085315908285234458841581057739092042794283358394205955204615368406181798142512397355121970113085285234458894205955204602725961104252375130853549738783358368406440716212081397355123181823192329871610950021159132050424323983895314263425945012302991480421841528257810349859402893362496803378105253492654419186474476221858311631985440011677315804756114157001652326361285788441058552330392857811590585342111688021730624217018984715925195198716654418528255824047531579365542732916042677811693234403368649420792970715098357247189848650931060804494112927211106649553701898471592519519871613008114091788860492113512541575061168802404753475363584678140128652153433368646753115486510749553852649149449181977433439351255477831126337240475154261490732116323211468091491731581517594559167652811714107527733687059372682310948651324955319729521578307453328969871754256131581514627025211381802283662133825911995173334290956270107724101455910317634639878152867635801357631764481981160169992218401125172141232487180938950232423166424866975510454991031521138176448133825910312888094361152113891031784422888093017362557521923092637167202079875431845190411085338711151296735001763650176450501794361152114099711660361240821338339103399032386101521140133833910333539432386288809288955211403412340575517427299713429126665211338332943108318754391033323866893580900288809551128895501791115113662652029491906471348154560121787826871337821926412338655751551247813286216101985851366334598515572168152277455622852562750708117882439352510372756048154615093292826665132754893015680511230447165299620534599872344273556011182167344893030447136626203132574024781425462428152028180392756022748770548154614544134895480822419489301609136626481546186228258178781720214114890481546149723676212037340225997118294386552419912759663308261894583825592123677906933155851221512722396022415174819185131455235731516399754315912414201184395997332111704048768662077061663671926615420713357991526924821112388853873350990831856598072426516575764548867556848190961116393154578406763983327328313948080105465597110732033511533926134203156934897963712949642858122554447443941137753367452451729906830971464965717241392583279410292367027767583507315633294851423937168811485162209202474298321578344147393555252267649568634254134724439603277209229662610796273994292031891820564406645339812089282889342304989789025037586176230137237159129470163624112977580521218011845911247969417733838157495864814849817772433074357712902416948810401288061134366730258072516168816249245114574351157731200820841261188154822632528961079491112009653586754806432131538398585502308956403193025770596187982096961498393185632808474141821260111795574146176873102701559995671372513205191736955383971497946091829795301567523174152084125107961654990061879615081374806401232112242421507805813720422629557904155999480638898516349259851027060840102594685018669164207143286361414133937891075594976449293623861621002994989073190464717750511501692715349378066031982466681940102533465343247318215283976795159455892111181537018194406061333383690041841009942000813426187737623214043478243492215417493159662332293446341842575575908915511276425900340039301032076239242193381762419738259605186999881953006351168161559634842592255559218686449158742642136969457447146656685132051261121515962216996538630426242641129706606629308035592137882190888954810711190818505897887763517511035794473525433028731504211474149020904427470062959401674332413999663841770335074425877635131028331113801858844097527104247992636475652413169616921897662740766772930807815447959423330523292236411321718976409751724029308025668063647877643131028104800564431421884365212628214110187102864546521620492601453562105622158929093793715865639203837516657301413160946559032225443482327912572705561240102181688188571183816233588641837209951239821334018053989498910483141381561410247730556585626345439480131114885236174864243576277117031221896152658147661852384353342672089305317034791042128498763694698518389714685450867920798522676013118413609101346511172129085253057659832427931476981331951295293170691450884625320787441117415152404927529265857631371982219156374515276983310611249551299680023494219446611418491015950799206230398891305050155142102916258344871821266829481771292283607154210053186815280248194722472832534124488144723125280222483494624139794422419455272751531873734041218885572387686809649960824707376109432751778921451130452411545955132027306498361002138201971777305347408292173610550914482588730208323742299778116142640974305868749722309511591129140261013867762706258626191171107624340648689873470153011015841477181168959400043323682338449187892740154435210819491063773537879515067831065773682413544082951413165727156324951814853616257466014768584221053462007399400142903889443513024551127263213548394357214258811176079433731250659395130963816495432036858183555941759838511273697174112880564884857215206512683365610341205998934453411677155109654389777255254152315173330184614858069929019604191729544178661816401231451981691340314650615439381030642144108126621325024671633565107681176104261752017178723245419758478589231335947207453463552315538137137201330324039112493083777822298642502571320158098789611842100098915890082838751838090307398463743921761625476447456259705805212270518533961264132900840582487973681747286091771649893429091401656808101740811851243241440461955106519047164390194444641839287127372155235160423915964112634304173692647032694969972256696019452243570495762102308916626311119156741030656772965155276115355525425111851489041528521734852223085566594991827212315382363723458820758780596841202184198303307189013840027571266167229280320214255910218923460612810035253815686263680197274719325975521660332539601331804136208173693133778935704892989947466306307462133860029229505106169618765939654656802051551684131475148826354169911393925736456712746140304432240132414832114020595982618069758914542826875900993829423020268695613355112935821352161253147306284511621161697206124502164182118914314866627691264383680246681378826893591411219420124143215665713342641142110736424959716979396021746015975735744434079445483953691351852636741725956821696513481776872351068144902925165525169677751461124414224517847628124359725744649001509790146913225031503544578556033416111142789775174827691158081638606751820100674805314422775370963215921031381296454179881771846548146219431468131108819812975682105710490166006761166012335881668869363836487658397757312485213943878433165534331571117821582624521056883712198245174685599522414435114049061011889457550920931092631926772411821031687621136121103104516572335464306431615418542987947342881242399347858215924328390329287594450277219971273092460174458916678565111291507205382142237154310513714424244735209775492121216510195720595080113096634815461092106406175754540631166375841925142801168487204185836612164210121471080635583714922018126305154878252326138642161514171424210127365658660343210748916875161618612882160589838517522728144811319377216461499466418834528581435126716936130549748424587151804804421387958229329970718534955894960282954301216121075016367951198765011460541444623014051453976201165511258114083069466199718291360414224198246978537180295401336369927217218862531151055571384602227401596628692793881752162839082105261032826346053282975311145423719651039630527206738463785335967121805579327501211860412906224409344786425294722985432704027141781640936214760483043273361138332631041126377448822841664523291353114340664731450129811932332566130163363295145107922115861211132265084297610752088769300533629914177470518751107252431003195267711886961067279992046267164024137302325266317293314571555182831513432017822047629708394954642171636526174696030002526241759456918277721177614178581191096414258835880453326323845912055717876472692614745312087716522421013672651300631245593093512221137520339611676938055774794626530764846619909476115265352312306652234535089322159013881141641858520762367381936813336430375629512293156441536731998530412410881689525645458486949768092751339116973893597197644825627405531327974340228322087529264162420189186576634668131407320914325371893617342975156467503873747444410744131135122982218911342214851821889342691611031345656585217347371658072263229162397125214593113431065421597124312123338124728382827803302194597121821845112915740044575636178041608995223197878669648321733942654136201991232229551474631340550117116759177751812013234354714551415848564111867419347213445920120850112921321763039180681264581361493453758493273394410256484858800493150324583968072210317133333889974823729406511179139104389130689234971722022570141452592122332438911206345771714819209294956662461721943821958657951917097362636123136250197101218300414308765294033638651959193513816249252245370412693948421008012302123114431480833159659897527564164160637661622368411717718822194525235131101867633478558821138871051316675297010242137433719511294097226671011447042811265575416614251560410001616372188813113424272224403972068584389137696322976254898224353089441680190639132528735580160862171226514118202476364013631602101723712813542114108317451315320254692519596362215317115220293626815374028420879763404374239669611141256521407448113792057283442832587178071554802082986745001322813011773870928407788118285347086379245244565119348988894251041836179454715110776537165174127470673919532344819933510080515875231682628235486271724123772821805922316162596197666982126640412691278565369912685278165217028916676642121185440681176232433182730977625816128498482360924312578742272946215906329469761721525612753734325827717114342270124202511190117064117415025992598579574719250789827249178629955614826483807317416591487252158771824992906211484202409522942097354921141604146260137207983461156611275424775384524415765305141454621924569298521756158062440699453291715363441012671044698211211111121213724892327411159895162530397792545188890165146104551663212927075191115209711087264262332272860227241324637031624424122013861002851613943109530026513651123671261271341494025726312387362217342196203032322666322851491135921816902272876772782679826364724209686234525301424169661172744155496251131211049258473615111383432720913825820720711121443451373777461120173910910341193214514765393028954044969247123931971654941123820512474692291421031233479836319882934915332715671396743968418944331564842078783828066603375574456054090310348545183451011433048422628390786715805569291461535581252055959730536712836710390976608275843123309263907321849633914130662622562889263415932194281542105170673322250976995194471729798412723407107363056509364742264387198116172182755081219165641611127635188318834310310176228660201011044010267378201714269347802076711821187340791439164416307107589612544220583086714453607912926816740681756402717180141226286271167522055242125329721957735479742010581991505536401819180221643231208423663762282733728479545125644637653137691212597231819612059143412342994421206715569428583834438310467640994722695012261720133816116161103401032535121341381023326601556866452446717352199633349569691469206611662674480216864174724481792833113534202484166341939549430892927730125445301160150810010610222441606164152614304268333793378312523014628419442051563355190160739190452152131898158551828923267213327949612843436320976579878313841968378659152027106262219261879423882732811172159163818566125399135977821424572344718614624455331203050131727631551466181741448353503133661468014165559165314324471311671437334881255788773416414283620675515691038297159398776730152709031108196944451317124301766740691862557833033780883471893596332017442361717825530991523012311247431341129215726325701225646191671861826825941382112243165161830683134662774977280302427571911032180420691859232130287586546414131629206812881902141827364371016109130446713201561167245104587981754548947515554613304999667033515114168554456102696114803011895847196403337427113847484512215665370327942516323254328081307973364121919264371220829214437426111872992221356763643613632197915816198337371225572947104721002216738693844282310047092381191433401528698826815057101981327924977624555819784400151000624670527192655011254733332970570482839962048486764978901625035586144457841137611109869417517125728411420513131913064120342211013483191131745551384482278258588251067130051313964169313873991645411074972997664259522251791513142308542212231138041274412784258699224557160412672295572314356997149072223474122932017358876712792229034279734230914788075706183343213548176945452289112223210024421203482641977305690362561901641625284337268828127473615334212626964983601255575362019212144623314124291213162191688700016541043974754632094556305121799889364901521785563829612713083453819166571326511267198151731452251120142644261385152320952371064778262701008125271557962190316921211431618812834332683454923227363265885187113951658087144040490115988421321151757511525221231661432809461229311751366654913151705473141116145101183459692952467131431521187828274661231213314617945881631025541011514254399501045661647271363560132324924169176410845315509162313110119259945239011164218587152128883521452212933029990763489627531995552099102240745923154519207125635036412414439898118253337125439038940317372788581221136415564924456229488820660211824691030219821317141528332167144545104349503341002480128810774611194578890474870756185712024223368136838576415109519448803967210236670084723802224637985496262076717401663633341843288911248239898190074319850791009315004981147196617612642467519829291016373271803148471441094917662712359521298519853863204638521979920571226353953044425691637513408479604521433820051200356386433142462839698121533107761725013519391535197348754704677382499642108336412410739041213145631177861991757099878100115958112877782120637316880383203275420963386947162522657265159231224841713710221541233319159111147641802681725194651282038460770228592958242236187101879351313228234445562548116344437112436557878475020157591522871192078424210447831921028237324713455222119368455249910813029308687781729839569542218706337975117850167974263047561337883231475473898216920102026822634462973106607821918234101147561216724205277717371243447614032822773263585216329904641089251019337252623286551254332633494616459991310152117514823866852112565162781252087834321116214604160325343146024785445568345610367613736624122534185402711862831561810398819819184863541123569334785348620848029523742531231207231314117366180573225632319619929224290109247234349589212667409074759441151761098185012108245712136253757955577088214748397237411337139230348942314209218312782024424425203807152575135931143141611474022426997349961252555541228820916391243675450846165656393510649166141220459122652341123155211126399414361546784268113731977727306979208431376745042848141918624940691756347194391012132111818442147103251731219606065431617138716851174395417322747191394935718232247340310159578501522501122262141117922187815144706011876137117118928025640916739817401372213187396372301415753164142289307115112400528550353371427582674051766122010136540134412388241710176289260527419375153649246493898525289172761054626143989579405811968530123688993338742234569312038241996514371547704591791726512110064375217853323129213313954355613504765244087767154309025579371395452233324911733161903424689153041061138118620166312461282582647552354042689522160144078359163391801866487449754034473862677874988949149191621328492516862520064837822869478562223458911318395143545610257531198480375996152102171081764241941340881171110047993921648186684703851410318391959453301124863271078615843670062812241543533104068394112931477418784781423260423517228633331692352715111301263076450293871686387675623104401579978183545340621484152395371597539609041719723466495416839665841288823144630339439068390903221162060264133128107552635217736164851555952609186771001617732332623371318696665860078599779620132925210952130101628426866429255955613871923156819675266321117085322512411938820465385165059118612049463779132396821847812328798523346122593253207233481334624240467161928025898117714871524565132259632878038607902835525942111844544505150111527761164325985534263786156181605052020552979411289905118723640137071307948562910374520325961664564742673954535925427144322262952531557063549900107315410815599872161430886320140892645261207801574497566464910484253786172661796968856664229512901561811402100740164881939711151853162378718192217578412836710786623392934813123003481688496946341315666625931213839199112111132384213230274233641843242781231661617965925761937333581456463191128140548511250155093845019413492272236213943270716386512682702138158575328816102254414554968447536935863323347162614432142531582910173837255367163345200450421828727002310384785317265541013231124199720945181463397358018117481205267183764291388721091117882302222198537251357192916887766140022289610777822181067625967185249082046322725315763682141552962137683521423223828775761291417563112203216293312749224773911010190086386377913129362541011817830254328137338441819973920616231499168124249851275981575781347963343661546583167707484711335392176220941939305174935192347605129938681405114194595339050023599313314101163321265104876611656923218616121589997299253146768275511023223770311841211382138611811663484152252662014381642712831767190244322843253862591023856111829829896197610373375155913935651716697615641655259643195115222811506846449636271894767161822814127335164645513635546131215963303721523959691763237632167120852830321185280723182896424882058574571238833311461035599436061312388261710601254172611426818862510580237133816908023344300354454145595228272763699556763214616986957432344199808203101564441220163132600938702226641662517038917228156798482057732496290338685484449019953841942767140658331785855643311729716829154103930239534111315537111128177721828159216166275493429173017347303501063316112013484518437769141216262282651576183757132357411440320889496190221015027912424351626817232622041327981754634596958311272216539281985053222588356105294017265474249724278377691325663192799339461745314773228283691506300081100247576253318807379185382115148405209771619784101860113388433574612813716772032676361294234160736481550751256166398635933252210362713015726415732276627529010943266896969138050224866110576680313701144242314251559421191468494600905172214692406785909612781085209111271791535160787045343661013731410458335855333666976496715339673523104132584873184825551371424014335989162372114995202921408831642632812809148352303048101313646712163441755995482191196122776316905237251076978051812282196281021424321823633519237448714234311357254449210176667531705943083240584875115635956133840801120421593336968365432346422330222119142380552659542541614238343131865256197809042074402923244797790431751218493812102797244163519027428507006128462714216143910353283129412208198606871468910051667311447914898608149897107127831211308200291941187200246538177542362552620265777243570762002147881442332919015118241752072941628311077361600137598836445271328951341613811021510534514288606151374206262315006018874015745462329243852133304636919602178291552200151692674144218354495731110231114131130174545291396617924978014141515254861227196012580193851916523964774127813144293253482552801173154252902321412525420293632635152510113047983246545171201909286626919581045810449816141717711236586732207238591442847372787851208657760911449119402651324789442491924350941103807252333753246058407043838679155313032498027358391877569302932870859979378223390988780653987467088320171849971126408425161817421512251211238419336412609039520146068833730556394736298833444604427087413186568141919673581310242149237275982160623823220035961959287964501891853254472646106181810581497526298830132080762649121825585886851754336813938959660233815182822539931222322335661330137529033929513275576127229307120007362562199002409155110701051325384779838912548922945683919699287281116342645872316821152231033257123164138130281518109218280115103258151550889432129216029815171220225474540285311144877371532213218132749948320198775838754082222497744371263383674431919363407968017090316014280127614616261892671833344691074951369673003353368491528786260362412511949318732595553374071420121249580226504518463317971663782201537110513882676156461764872642822721923150701001793188671723732543838954262171024456190511211074337090639643452856802521427324474230471823478279606123640201106644410605337108384026019190544612071522117495229342382670160371406761389747952019758590158834019139719521593571912641441521697215265675531045015410749231721610981166751531697291754354146310010520100716458521213819104764223789215179717183704183581061539207554076941224912522195534114225762422252141130384875586494364544027683671164854108392062036412282634771476995002294157946472522387829802842960097350292961225712919812222169120140213105320334108302742815147318523218584247687136106320272654570753243121735224929178342761542487515036197481372771121541346932673685239015142479367339691171111511234623724910423.0M13420337132552128438235431619783210715424328610323066810935976826224105954207138473452589218335171250566061322570182121628218710319933788151712954214201127006730189512112527511923614564768887160246148187582251014627853148116133830176567011100735403406566536763614392108015667633411416875514221531261333121397178549987144889135183346320214332013313311460664071814420931241441398143889411681566159220710758546836183550141281012275048191619519257153176727968358114516256491832831369811464911180960826252222271908332083410121321326817831969894316378848432169638253148335991233345842210786359224528637951714049391351783411725234024545514054552973681035128721661285107339614453243320361745218556496544233762231980785577588552221172916038811195447384 to numeric"
     ]
    }
   ],
   "source": [
    "#Analyse the Reviews column\n",
    "df['Reviews'].mean()"
   ]
  },
  {
   "cell_type": "code",
   "execution_count": 30,
   "metadata": {},
   "outputs": [],
   "source": [
    "#Change the dtype of this column\n",
    "def change_type(x):\n",
    "    try:\n",
    "        x = float(x)\n",
    "    except:\n",
    "        x = x\n",
    "    return x\n",
    "\n",
    "df['Reviews']=df['Reviews'].apply(change_type)"
   ]
  },
  {
   "cell_type": "code",
   "execution_count": 31,
   "metadata": {},
   "outputs": [
    {
     "data": {
      "text/plain": [
       "10472    3.0M\n",
       "Name: Reviews, dtype: object"
      ]
     },
     "execution_count": 31,
     "metadata": {},
     "output_type": "execute_result"
    }
   ],
   "source": [
    "df.loc[df['Reviews'].map(type)==str, 'Reviews']"
   ]
  },
  {
   "cell_type": "code",
   "execution_count": 32,
   "metadata": {},
   "outputs": [],
   "source": [
    "df.loc[df['Reviews'].map(type)==str, 'Reviews'] = df.loc[df['Reviews'].map(type)!=str, 'Reviews'].mean()"
   ]
  },
  {
   "cell_type": "code",
   "execution_count": 33,
   "metadata": {},
   "outputs": [
    {
     "data": {
      "text/html": [
       "<div>\n",
       "<style scoped>\n",
       "    .dataframe tbody tr th:only-of-type {\n",
       "        vertical-align: middle;\n",
       "    }\n",
       "\n",
       "    .dataframe tbody tr th {\n",
       "        vertical-align: top;\n",
       "    }\n",
       "\n",
       "    .dataframe thead th {\n",
       "        text-align: right;\n",
       "    }\n",
       "</style>\n",
       "<table border=\"1\" class=\"dataframe\">\n",
       "  <thead>\n",
       "    <tr style=\"text-align: right;\">\n",
       "      <th></th>\n",
       "      <th>Rating</th>\n",
       "      <th>Size</th>\n",
       "    </tr>\n",
       "  </thead>\n",
       "  <tbody>\n",
       "    <tr>\n",
       "      <th>count</th>\n",
       "      <td>8048.000000</td>\n",
       "      <td>8048.000000</td>\n",
       "    </tr>\n",
       "    <tr>\n",
       "      <th>mean</th>\n",
       "      <td>4.179573</td>\n",
       "      <td>22903.084999</td>\n",
       "    </tr>\n",
       "    <tr>\n",
       "      <th>std</th>\n",
       "      <td>0.563354</td>\n",
       "      <td>22920.417359</td>\n",
       "    </tr>\n",
       "    <tr>\n",
       "      <th>min</th>\n",
       "      <td>1.000000</td>\n",
       "      <td>8.500000</td>\n",
       "    </tr>\n",
       "    <tr>\n",
       "      <th>25%</th>\n",
       "      <td>4.000000</td>\n",
       "      <td>5500.000000</td>\n",
       "    </tr>\n",
       "    <tr>\n",
       "      <th>50%</th>\n",
       "      <td>4.300000</td>\n",
       "      <td>15500.000000</td>\n",
       "    </tr>\n",
       "    <tr>\n",
       "      <th>75%</th>\n",
       "      <td>4.500000</td>\n",
       "      <td>31000.000000</td>\n",
       "    </tr>\n",
       "    <tr>\n",
       "      <th>max</th>\n",
       "      <td>19.000000</td>\n",
       "      <td>100000.000000</td>\n",
       "    </tr>\n",
       "  </tbody>\n",
       "</table>\n",
       "</div>"
      ],
      "text/plain": [
       "            Rating           Size\n",
       "count  8048.000000    8048.000000\n",
       "mean      4.179573   22903.084999\n",
       "std       0.563354   22920.417359\n",
       "min       1.000000       8.500000\n",
       "25%       4.000000    5500.000000\n",
       "50%       4.300000   15500.000000\n",
       "75%       4.500000   31000.000000\n",
       "max      19.000000  100000.000000"
      ]
     },
     "execution_count": 33,
     "metadata": {},
     "output_type": "execute_result"
    }
   ],
   "source": [
    "#Check the quantitative spread of this dataframe\n",
    "df.describe()"
   ]
  },
  {
   "cell_type": "code",
   "execution_count": 34,
   "metadata": {},
   "outputs": [
    {
     "data": {
      "text/plain": [
       "0           159\n",
       "1           967\n",
       "2         87510\n",
       "3        215644\n",
       "4           967\n",
       "          ...  \n",
       "10832      1195\n",
       "10833        44\n",
       "10834         7\n",
       "10836        38\n",
       "10837         4\n",
       "Name: Reviews, Length: 8048, dtype: int32"
      ]
     },
     "execution_count": 34,
     "metadata": {},
     "output_type": "execute_result"
    }
   ],
   "source": [
    "df['Reviews'].astype(int)"
   ]
  },
  {
   "cell_type": "code",
   "execution_count": 35,
   "metadata": {},
   "outputs": [],
   "source": [
    "#Analyse the Installs Column\n",
    "def clean(x):\n",
    "    return x.replace(',','').replace('+','')\n",
    "df['Installs'] = df['Installs'].apply(lambda x: clean(x))"
   ]
  },
  {
   "cell_type": "code",
   "execution_count": 36,
   "metadata": {},
   "outputs": [
    {
     "ename": "ValueError",
     "evalue": "invalid literal for int() with base 10: 'Free'",
     "output_type": "error",
     "traceback": [
      "\u001b[1;31m---------------------------------------------------------------------------\u001b[0m",
      "\u001b[1;31mValueError\u001b[0m                                Traceback (most recent call last)",
      "\u001b[1;32m<ipython-input-36-b4f9b8427af8>\u001b[0m in \u001b[0;36m<module>\u001b[1;34m\u001b[0m\n\u001b[1;32m----> 1\u001b[1;33m \u001b[0mdf\u001b[0m\u001b[1;33m[\u001b[0m\u001b[1;34m'Installs'\u001b[0m\u001b[1;33m]\u001b[0m\u001b[1;33m.\u001b[0m\u001b[0mastype\u001b[0m\u001b[1;33m(\u001b[0m\u001b[0mint\u001b[0m\u001b[1;33m)\u001b[0m\u001b[1;33m\u001b[0m\u001b[1;33m\u001b[0m\u001b[0m\n\u001b[0m",
      "\u001b[1;32m~\\anaconda3\\envs\\tutorial\\lib\\site-packages\\pandas\\core\\generic.py\u001b[0m in \u001b[0;36mastype\u001b[1;34m(self, dtype, copy, errors)\u001b[0m\n\u001b[0;32m   5541\u001b[0m         \u001b[1;32melse\u001b[0m\u001b[1;33m:\u001b[0m\u001b[1;33m\u001b[0m\u001b[1;33m\u001b[0m\u001b[0m\n\u001b[0;32m   5542\u001b[0m             \u001b[1;31m# else, only a single dtype is given\u001b[0m\u001b[1;33m\u001b[0m\u001b[1;33m\u001b[0m\u001b[1;33m\u001b[0m\u001b[0m\n\u001b[1;32m-> 5543\u001b[1;33m             \u001b[0mnew_data\u001b[0m \u001b[1;33m=\u001b[0m \u001b[0mself\u001b[0m\u001b[1;33m.\u001b[0m\u001b[0m_mgr\u001b[0m\u001b[1;33m.\u001b[0m\u001b[0mastype\u001b[0m\u001b[1;33m(\u001b[0m\u001b[0mdtype\u001b[0m\u001b[1;33m=\u001b[0m\u001b[0mdtype\u001b[0m\u001b[1;33m,\u001b[0m \u001b[0mcopy\u001b[0m\u001b[1;33m=\u001b[0m\u001b[0mcopy\u001b[0m\u001b[1;33m,\u001b[0m \u001b[0merrors\u001b[0m\u001b[1;33m=\u001b[0m\u001b[0merrors\u001b[0m\u001b[1;33m,\u001b[0m\u001b[1;33m)\u001b[0m\u001b[1;33m\u001b[0m\u001b[1;33m\u001b[0m\u001b[0m\n\u001b[0m\u001b[0;32m   5544\u001b[0m             \u001b[1;32mreturn\u001b[0m \u001b[0mself\u001b[0m\u001b[1;33m.\u001b[0m\u001b[0m_constructor\u001b[0m\u001b[1;33m(\u001b[0m\u001b[0mnew_data\u001b[0m\u001b[1;33m)\u001b[0m\u001b[1;33m.\u001b[0m\u001b[0m__finalize__\u001b[0m\u001b[1;33m(\u001b[0m\u001b[0mself\u001b[0m\u001b[1;33m,\u001b[0m \u001b[0mmethod\u001b[0m\u001b[1;33m=\u001b[0m\u001b[1;34m\"astype\"\u001b[0m\u001b[1;33m)\u001b[0m\u001b[1;33m\u001b[0m\u001b[1;33m\u001b[0m\u001b[0m\n\u001b[0;32m   5545\u001b[0m \u001b[1;33m\u001b[0m\u001b[0m\n",
      "\u001b[1;32m~\\anaconda3\\envs\\tutorial\\lib\\site-packages\\pandas\\core\\internals\\managers.py\u001b[0m in \u001b[0;36mastype\u001b[1;34m(self, dtype, copy, errors)\u001b[0m\n\u001b[0;32m    593\u001b[0m         \u001b[0mself\u001b[0m\u001b[1;33m,\u001b[0m \u001b[0mdtype\u001b[0m\u001b[1;33m,\u001b[0m \u001b[0mcopy\u001b[0m\u001b[1;33m:\u001b[0m \u001b[0mbool\u001b[0m \u001b[1;33m=\u001b[0m \u001b[1;32mFalse\u001b[0m\u001b[1;33m,\u001b[0m \u001b[0merrors\u001b[0m\u001b[1;33m:\u001b[0m \u001b[0mstr\u001b[0m \u001b[1;33m=\u001b[0m \u001b[1;34m\"raise\"\u001b[0m\u001b[1;33m\u001b[0m\u001b[1;33m\u001b[0m\u001b[0m\n\u001b[0;32m    594\u001b[0m     ) -> \"BlockManager\":\n\u001b[1;32m--> 595\u001b[1;33m         \u001b[1;32mreturn\u001b[0m \u001b[0mself\u001b[0m\u001b[1;33m.\u001b[0m\u001b[0mapply\u001b[0m\u001b[1;33m(\u001b[0m\u001b[1;34m\"astype\"\u001b[0m\u001b[1;33m,\u001b[0m \u001b[0mdtype\u001b[0m\u001b[1;33m=\u001b[0m\u001b[0mdtype\u001b[0m\u001b[1;33m,\u001b[0m \u001b[0mcopy\u001b[0m\u001b[1;33m=\u001b[0m\u001b[0mcopy\u001b[0m\u001b[1;33m,\u001b[0m \u001b[0merrors\u001b[0m\u001b[1;33m=\u001b[0m\u001b[0merrors\u001b[0m\u001b[1;33m)\u001b[0m\u001b[1;33m\u001b[0m\u001b[1;33m\u001b[0m\u001b[0m\n\u001b[0m\u001b[0;32m    596\u001b[0m \u001b[1;33m\u001b[0m\u001b[0m\n\u001b[0;32m    597\u001b[0m     def convert(\n",
      "\u001b[1;32m~\\anaconda3\\envs\\tutorial\\lib\\site-packages\\pandas\\core\\internals\\managers.py\u001b[0m in \u001b[0;36mapply\u001b[1;34m(self, f, align_keys, **kwargs)\u001b[0m\n\u001b[0;32m    404\u001b[0m                 \u001b[0mapplied\u001b[0m \u001b[1;33m=\u001b[0m \u001b[0mb\u001b[0m\u001b[1;33m.\u001b[0m\u001b[0mapply\u001b[0m\u001b[1;33m(\u001b[0m\u001b[0mf\u001b[0m\u001b[1;33m,\u001b[0m \u001b[1;33m**\u001b[0m\u001b[0mkwargs\u001b[0m\u001b[1;33m)\u001b[0m\u001b[1;33m\u001b[0m\u001b[1;33m\u001b[0m\u001b[0m\n\u001b[0;32m    405\u001b[0m             \u001b[1;32melse\u001b[0m\u001b[1;33m:\u001b[0m\u001b[1;33m\u001b[0m\u001b[1;33m\u001b[0m\u001b[0m\n\u001b[1;32m--> 406\u001b[1;33m                 \u001b[0mapplied\u001b[0m \u001b[1;33m=\u001b[0m \u001b[0mgetattr\u001b[0m\u001b[1;33m(\u001b[0m\u001b[0mb\u001b[0m\u001b[1;33m,\u001b[0m \u001b[0mf\u001b[0m\u001b[1;33m)\u001b[0m\u001b[1;33m(\u001b[0m\u001b[1;33m**\u001b[0m\u001b[0mkwargs\u001b[0m\u001b[1;33m)\u001b[0m\u001b[1;33m\u001b[0m\u001b[1;33m\u001b[0m\u001b[0m\n\u001b[0m\u001b[0;32m    407\u001b[0m             \u001b[0mresult_blocks\u001b[0m \u001b[1;33m=\u001b[0m \u001b[0m_extend_blocks\u001b[0m\u001b[1;33m(\u001b[0m\u001b[0mapplied\u001b[0m\u001b[1;33m,\u001b[0m \u001b[0mresult_blocks\u001b[0m\u001b[1;33m)\u001b[0m\u001b[1;33m\u001b[0m\u001b[1;33m\u001b[0m\u001b[0m\n\u001b[0;32m    408\u001b[0m \u001b[1;33m\u001b[0m\u001b[0m\n",
      "\u001b[1;32m~\\anaconda3\\envs\\tutorial\\lib\\site-packages\\pandas\\core\\internals\\blocks.py\u001b[0m in \u001b[0;36mastype\u001b[1;34m(self, dtype, copy, errors)\u001b[0m\n\u001b[0;32m    592\u001b[0m             \u001b[0mvals1d\u001b[0m \u001b[1;33m=\u001b[0m \u001b[0mvalues\u001b[0m\u001b[1;33m.\u001b[0m\u001b[0mravel\u001b[0m\u001b[1;33m(\u001b[0m\u001b[1;33m)\u001b[0m\u001b[1;33m\u001b[0m\u001b[1;33m\u001b[0m\u001b[0m\n\u001b[0;32m    593\u001b[0m             \u001b[1;32mtry\u001b[0m\u001b[1;33m:\u001b[0m\u001b[1;33m\u001b[0m\u001b[1;33m\u001b[0m\u001b[0m\n\u001b[1;32m--> 594\u001b[1;33m                 \u001b[0mvalues\u001b[0m \u001b[1;33m=\u001b[0m \u001b[0mastype_nansafe\u001b[0m\u001b[1;33m(\u001b[0m\u001b[0mvals1d\u001b[0m\u001b[1;33m,\u001b[0m \u001b[0mdtype\u001b[0m\u001b[1;33m,\u001b[0m \u001b[0mcopy\u001b[0m\u001b[1;33m=\u001b[0m\u001b[1;32mTrue\u001b[0m\u001b[1;33m)\u001b[0m\u001b[1;33m\u001b[0m\u001b[1;33m\u001b[0m\u001b[0m\n\u001b[0m\u001b[0;32m    595\u001b[0m             \u001b[1;32mexcept\u001b[0m \u001b[1;33m(\u001b[0m\u001b[0mValueError\u001b[0m\u001b[1;33m,\u001b[0m \u001b[0mTypeError\u001b[0m\u001b[1;33m)\u001b[0m\u001b[1;33m:\u001b[0m\u001b[1;33m\u001b[0m\u001b[1;33m\u001b[0m\u001b[0m\n\u001b[0;32m    596\u001b[0m                 \u001b[1;31m# e.g. astype_nansafe can fail on object-dtype of strings\u001b[0m\u001b[1;33m\u001b[0m\u001b[1;33m\u001b[0m\u001b[1;33m\u001b[0m\u001b[0m\n",
      "\u001b[1;32m~\\anaconda3\\envs\\tutorial\\lib\\site-packages\\pandas\\core\\dtypes\\cast.py\u001b[0m in \u001b[0;36mastype_nansafe\u001b[1;34m(arr, dtype, copy, skipna)\u001b[0m\n\u001b[0;32m    965\u001b[0m         \u001b[1;31m# work around NumPy brokenness, #1987\u001b[0m\u001b[1;33m\u001b[0m\u001b[1;33m\u001b[0m\u001b[1;33m\u001b[0m\u001b[0m\n\u001b[0;32m    966\u001b[0m         \u001b[1;32mif\u001b[0m \u001b[0mnp\u001b[0m\u001b[1;33m.\u001b[0m\u001b[0missubdtype\u001b[0m\u001b[1;33m(\u001b[0m\u001b[0mdtype\u001b[0m\u001b[1;33m.\u001b[0m\u001b[0mtype\u001b[0m\u001b[1;33m,\u001b[0m \u001b[0mnp\u001b[0m\u001b[1;33m.\u001b[0m\u001b[0minteger\u001b[0m\u001b[1;33m)\u001b[0m\u001b[1;33m:\u001b[0m\u001b[1;33m\u001b[0m\u001b[1;33m\u001b[0m\u001b[0m\n\u001b[1;32m--> 967\u001b[1;33m             \u001b[1;32mreturn\u001b[0m \u001b[0mlib\u001b[0m\u001b[1;33m.\u001b[0m\u001b[0mastype_intsafe\u001b[0m\u001b[1;33m(\u001b[0m\u001b[0marr\u001b[0m\u001b[1;33m.\u001b[0m\u001b[0mravel\u001b[0m\u001b[1;33m(\u001b[0m\u001b[1;33m)\u001b[0m\u001b[1;33m,\u001b[0m \u001b[0mdtype\u001b[0m\u001b[1;33m)\u001b[0m\u001b[1;33m.\u001b[0m\u001b[0mreshape\u001b[0m\u001b[1;33m(\u001b[0m\u001b[0marr\u001b[0m\u001b[1;33m.\u001b[0m\u001b[0mshape\u001b[0m\u001b[1;33m)\u001b[0m\u001b[1;33m\u001b[0m\u001b[1;33m\u001b[0m\u001b[0m\n\u001b[0m\u001b[0;32m    968\u001b[0m \u001b[1;33m\u001b[0m\u001b[0m\n\u001b[0;32m    969\u001b[0m         \u001b[1;31m# if we have a datetime/timedelta array of objects\u001b[0m\u001b[1;33m\u001b[0m\u001b[1;33m\u001b[0m\u001b[1;33m\u001b[0m\u001b[0m\n",
      "\u001b[1;32mpandas\\_libs\\lib.pyx\u001b[0m in \u001b[0;36mpandas._libs.lib.astype_intsafe\u001b[1;34m()\u001b[0m\n",
      "\u001b[1;31mValueError\u001b[0m: invalid literal for int() with base 10: 'Free'"
     ]
    }
   ],
   "source": [
    "df['Installs'].astype(int)"
   ]
  },
  {
   "cell_type": "code",
   "execution_count": 37,
   "metadata": {},
   "outputs": [
    {
     "data": {
      "text/plain": [
       "0           10000\n",
       "1          500000\n",
       "2         5000000\n",
       "3        50000000\n",
       "4          100000\n",
       "           ...   \n",
       "10832      100000\n",
       "10833        1000\n",
       "10834         500\n",
       "10836        5000\n",
       "10837         100\n",
       "Name: Installs, Length: 8048, dtype: object"
      ]
     },
     "execution_count": 37,
     "metadata": {},
     "output_type": "execute_result"
    }
   ],
   "source": [
    "df['Installs']"
   ]
  },
  {
   "cell_type": "code",
   "execution_count": 38,
   "metadata": {},
   "outputs": [
    {
     "data": {
      "text/plain": [
       "1000000       1352\n",
       "100000        1069\n",
       "10000          979\n",
       "10000000       900\n",
       "1000           696\n",
       "5000000        580\n",
       "500000         494\n",
       "50000          440\n",
       "5000           421\n",
       "100            304\n",
       "100000000      234\n",
       "500            199\n",
       "50000000       197\n",
       "10              69\n",
       "50              56\n",
       "500000000       35\n",
       "1000000000      10\n",
       "5                9\n",
       "1                3\n",
       "Free             1\n",
       "Name: Installs, dtype: int64"
      ]
     },
     "execution_count": 38,
     "metadata": {},
     "output_type": "execute_result"
    }
   ],
   "source": [
    "df['Installs'].value_counts()"
   ]
  },
  {
   "cell_type": "code",
   "execution_count": 39,
   "metadata": {},
   "outputs": [],
   "source": [
    "df.loc[df['Installs']==\"Free\", 'Installs'] = df['Installs'].mode()"
   ]
  },
  {
   "cell_type": "code",
   "execution_count": 40,
   "metadata": {},
   "outputs": [],
   "source": [
    "df['Installs'].replace('Free','1000000', inplace=True)"
   ]
  },
  {
   "cell_type": "code",
   "execution_count": 41,
   "metadata": {},
   "outputs": [
    {
     "data": {
      "text/plain": [
       "1"
      ]
     },
     "execution_count": 41,
     "metadata": {},
     "output_type": "execute_result"
    }
   ],
   "source": [
    "df['Installs'].isnull().sum()"
   ]
  },
  {
   "cell_type": "code",
   "execution_count": 42,
   "metadata": {},
   "outputs": [],
   "source": [
    "df['Installs'].replace(np.NaN, '1000000', inplace=True)"
   ]
  },
  {
   "cell_type": "code",
   "execution_count": 43,
   "metadata": {},
   "outputs": [
    {
     "data": {
      "text/plain": [
       "0"
      ]
     },
     "execution_count": 43,
     "metadata": {},
     "output_type": "execute_result"
    }
   ],
   "source": [
    "df['Installs'].isnull().sum()"
   ]
  },
  {
   "cell_type": "code",
   "execution_count": 44,
   "metadata": {},
   "outputs": [],
   "source": [
    "df['Installs'] = df['Installs'].astype(int)"
   ]
  },
  {
   "cell_type": "code",
   "execution_count": 45,
   "metadata": {},
   "outputs": [
    {
     "name": "stdout",
     "output_type": "stream",
     "text": [
      "<class 'pandas.core.frame.DataFrame'>\n",
      "Int64Index: 8048 entries, 0 to 10837\n",
      "Data columns (total 13 columns):\n",
      " #   Column          Non-Null Count  Dtype  \n",
      "---  ------          --------------  -----  \n",
      " 0   App             8048 non-null   object \n",
      " 1   Category        8048 non-null   object \n",
      " 2   Rating          8048 non-null   float64\n",
      " 3   Reviews         8048 non-null   object \n",
      " 4   Size            8048 non-null   float64\n",
      " 5   Installs        8048 non-null   int32  \n",
      " 6   Type            8048 non-null   object \n",
      " 7   Price           8048 non-null   object \n",
      " 8   Content Rating  8047 non-null   object \n",
      " 9   Genres          8048 non-null   object \n",
      " 10  Last Updated    8048 non-null   object \n",
      " 11  Current Ver     8048 non-null   object \n",
      " 12  Android Ver     8048 non-null   object \n",
      "dtypes: float64(2), int32(1), object(10)\n",
      "memory usage: 848.8+ KB\n"
     ]
    }
   ],
   "source": [
    "#Question Clean the Installs Column and find the approximate number of apps at the 50th percentile.\n",
    "df.info()"
   ]
  },
  {
   "cell_type": "markdown",
   "metadata": {},
   "source": [
    "#### Sanity Checks"
   ]
  },
  {
   "cell_type": "markdown",
   "metadata": {},
   "source": [
    "The data that we have needs to make sense and therefore you can perform certain sanity checks on them to ensure they are factually correct as well. Some sanity checks can be:\n",
    "\n",
    "- Rating is between 1 and 5 for all the apps.\n",
    "- Number of Reviews is less than or equal to the number of Installs.\n",
    "- Free Apps shouldn’t have a price greater than 0.\n"
   ]
  },
  {
   "cell_type": "code",
   "execution_count": 46,
   "metadata": {},
   "outputs": [
    {
     "data": {
      "text/html": [
       "<div>\n",
       "<style scoped>\n",
       "    .dataframe tbody tr th:only-of-type {\n",
       "        vertical-align: middle;\n",
       "    }\n",
       "\n",
       "    .dataframe tbody tr th {\n",
       "        vertical-align: top;\n",
       "    }\n",
       "\n",
       "    .dataframe thead th {\n",
       "        text-align: right;\n",
       "    }\n",
       "</style>\n",
       "<table border=\"1\" class=\"dataframe\">\n",
       "  <thead>\n",
       "    <tr style=\"text-align: right;\">\n",
       "      <th></th>\n",
       "      <th>App</th>\n",
       "      <th>Category</th>\n",
       "      <th>Rating</th>\n",
       "      <th>Reviews</th>\n",
       "      <th>Size</th>\n",
       "      <th>Installs</th>\n",
       "      <th>Type</th>\n",
       "      <th>Price</th>\n",
       "      <th>Content Rating</th>\n",
       "      <th>Genres</th>\n",
       "      <th>Last Updated</th>\n",
       "      <th>Current Ver</th>\n",
       "      <th>Android Ver</th>\n",
       "    </tr>\n",
       "  </thead>\n",
       "  <tbody>\n",
       "    <tr>\n",
       "      <th>2454</th>\n",
       "      <td>KBA-EZ Health Guide</td>\n",
       "      <td>MEDICAL</td>\n",
       "      <td>5.0</td>\n",
       "      <td>4</td>\n",
       "      <td>25000.0</td>\n",
       "      <td>1</td>\n",
       "      <td>Free</td>\n",
       "      <td>0</td>\n",
       "      <td>Everyone</td>\n",
       "      <td>Medical</td>\n",
       "      <td>August 2, 2018</td>\n",
       "      <td>1.0.72</td>\n",
       "      <td>4.0.3 and up</td>\n",
       "    </tr>\n",
       "    <tr>\n",
       "      <th>5917</th>\n",
       "      <td>Ra Ga Ba</td>\n",
       "      <td>GAME</td>\n",
       "      <td>5.0</td>\n",
       "      <td>2</td>\n",
       "      <td>20000.0</td>\n",
       "      <td>1</td>\n",
       "      <td>Paid</td>\n",
       "      <td>1.49</td>\n",
       "      <td>Everyone</td>\n",
       "      <td>Arcade</td>\n",
       "      <td>February 8, 2017</td>\n",
       "      <td>1.0.4</td>\n",
       "      <td>2.3 and up</td>\n",
       "    </tr>\n",
       "    <tr>\n",
       "      <th>6183</th>\n",
       "      <td>Revita.bg</td>\n",
       "      <td>HEALTH_AND_FITNESS</td>\n",
       "      <td>4.8</td>\n",
       "      <td>10</td>\n",
       "      <td>4000.0</td>\n",
       "      <td>10</td>\n",
       "      <td>Free</td>\n",
       "      <td>0</td>\n",
       "      <td>Everyone</td>\n",
       "      <td>Health &amp; Fitness</td>\n",
       "      <td>June 13, 2018</td>\n",
       "      <td>3.55</td>\n",
       "      <td>4.0 and up</td>\n",
       "    </tr>\n",
       "    <tr>\n",
       "      <th>6700</th>\n",
       "      <td>Brick Breaker BR</td>\n",
       "      <td>GAME</td>\n",
       "      <td>5.0</td>\n",
       "      <td>7</td>\n",
       "      <td>19000.0</td>\n",
       "      <td>5</td>\n",
       "      <td>Free</td>\n",
       "      <td>0</td>\n",
       "      <td>Everyone</td>\n",
       "      <td>Arcade</td>\n",
       "      <td>July 23, 2018</td>\n",
       "      <td>1.0</td>\n",
       "      <td>4.1 and up</td>\n",
       "    </tr>\n",
       "    <tr>\n",
       "      <th>7147</th>\n",
       "      <td>CB Heroes</td>\n",
       "      <td>SOCIAL</td>\n",
       "      <td>5.0</td>\n",
       "      <td>5</td>\n",
       "      <td>1800.0</td>\n",
       "      <td>5</td>\n",
       "      <td>Free</td>\n",
       "      <td>0</td>\n",
       "      <td>Everyone</td>\n",
       "      <td>Social</td>\n",
       "      <td>August 4, 2018</td>\n",
       "      <td>1.2.4</td>\n",
       "      <td>5.0 and up</td>\n",
       "    </tr>\n",
       "    <tr>\n",
       "      <th>7402</th>\n",
       "      <td>Trovami se ci riesci</td>\n",
       "      <td>GAME</td>\n",
       "      <td>5.0</td>\n",
       "      <td>11</td>\n",
       "      <td>6100.0</td>\n",
       "      <td>10</td>\n",
       "      <td>Free</td>\n",
       "      <td>0</td>\n",
       "      <td>Everyone</td>\n",
       "      <td>Arcade</td>\n",
       "      <td>March 11, 2017</td>\n",
       "      <td>0.1</td>\n",
       "      <td>2.3 and up</td>\n",
       "    </tr>\n",
       "    <tr>\n",
       "      <th>8591</th>\n",
       "      <td>DN Blog</td>\n",
       "      <td>SOCIAL</td>\n",
       "      <td>5.0</td>\n",
       "      <td>20</td>\n",
       "      <td>4200.0</td>\n",
       "      <td>10</td>\n",
       "      <td>Free</td>\n",
       "      <td>0</td>\n",
       "      <td>Teen</td>\n",
       "      <td>Social</td>\n",
       "      <td>July 23, 2018</td>\n",
       "      <td>1.0</td>\n",
       "      <td>4.0 and up</td>\n",
       "    </tr>\n",
       "    <tr>\n",
       "      <th>10697</th>\n",
       "      <td>Mu.F.O.</td>\n",
       "      <td>GAME</td>\n",
       "      <td>5.0</td>\n",
       "      <td>2</td>\n",
       "      <td>16000.0</td>\n",
       "      <td>1</td>\n",
       "      <td>Paid</td>\n",
       "      <td>0.99</td>\n",
       "      <td>Everyone</td>\n",
       "      <td>Arcade</td>\n",
       "      <td>March 3, 2017</td>\n",
       "      <td>1.0</td>\n",
       "      <td>2.3 and up</td>\n",
       "    </tr>\n",
       "  </tbody>\n",
       "</table>\n",
       "</div>"
      ],
      "text/plain": [
       "                        App            Category  Rating Reviews     Size  \\\n",
       "2454    KBA-EZ Health Guide             MEDICAL     5.0       4  25000.0   \n",
       "5917               Ra Ga Ba                GAME     5.0       2  20000.0   \n",
       "6183              Revita.bg  HEALTH_AND_FITNESS     4.8      10   4000.0   \n",
       "6700       Brick Breaker BR                GAME     5.0       7  19000.0   \n",
       "7147              CB Heroes              SOCIAL     5.0       5   1800.0   \n",
       "7402   Trovami se ci riesci                GAME     5.0      11   6100.0   \n",
       "8591                DN Blog              SOCIAL     5.0      20   4200.0   \n",
       "10697               Mu.F.O.                GAME     5.0       2  16000.0   \n",
       "\n",
       "       Installs  Type Price Content Rating            Genres  \\\n",
       "2454          1  Free     0       Everyone           Medical   \n",
       "5917          1  Paid  1.49       Everyone            Arcade   \n",
       "6183         10  Free     0       Everyone  Health & Fitness   \n",
       "6700          5  Free     0       Everyone            Arcade   \n",
       "7147          5  Free     0       Everyone            Social   \n",
       "7402         10  Free     0       Everyone            Arcade   \n",
       "8591         10  Free     0           Teen            Social   \n",
       "10697         1  Paid  0.99       Everyone            Arcade   \n",
       "\n",
       "           Last Updated Current Ver   Android Ver  \n",
       "2454     August 2, 2018      1.0.72  4.0.3 and up  \n",
       "5917   February 8, 2017       1.0.4    2.3 and up  \n",
       "6183      June 13, 2018        3.55    4.0 and up  \n",
       "6700      July 23, 2018         1.0    4.1 and up  \n",
       "7147     August 4, 2018       1.2.4    5.0 and up  \n",
       "7402     March 11, 2017         0.1    2.3 and up  \n",
       "8591      July 23, 2018         1.0    4.0 and up  \n",
       "10697     March 3, 2017         1.0    2.3 and up  "
      ]
     },
     "execution_count": 46,
     "metadata": {},
     "output_type": "execute_result"
    }
   ],
   "source": [
    "#Perform the sanity checks on the Reviews column\n",
    "df.loc[(df['Reviews'] >= df['Installs'])]"
   ]
  },
  {
   "cell_type": "code",
   "execution_count": 47,
   "metadata": {},
   "outputs": [],
   "source": [
    "df.loc[(df['Reviews'] >= df['Installs']) , 'Reviews'] = df.loc[(df['Reviews'] >= df['Installs']), 'Installs']"
   ]
  },
  {
   "cell_type": "code",
   "execution_count": 48,
   "metadata": {},
   "outputs": [
    {
     "data": {
      "text/plain": [
       "0"
      ]
     },
     "execution_count": 48,
     "metadata": {},
     "output_type": "execute_result"
    }
   ],
   "source": [
    "len(df.loc[(df['Reviews'] > df['Installs'])])"
   ]
  },
  {
   "cell_type": "code",
   "execution_count": 49,
   "metadata": {},
   "outputs": [
    {
     "data": {
      "text/plain": [
       "Series([], Name: Price, dtype: object)"
      ]
     },
     "execution_count": 49,
     "metadata": {},
     "output_type": "execute_result"
    }
   ],
   "source": [
    "#perform the sanity checks on prices of free apps \n",
    "df.loc[ (df['Price'] != 0) & (df['Type'] == 'Free'), 'Price']"
   ]
  },
  {
   "cell_type": "code",
   "execution_count": 54,
   "metadata": {},
   "outputs": [],
   "source": [
    "df['Price'] = df['Price'].astype(float)"
   ]
  },
  {
   "cell_type": "code",
   "execution_count": 55,
   "metadata": {},
   "outputs": [
    {
     "name": "stdout",
     "output_type": "stream",
     "text": [
      "<class 'pandas.core.frame.DataFrame'>\n",
      "Int64Index: 8048 entries, 0 to 10837\n",
      "Data columns (total 13 columns):\n",
      " #   Column          Non-Null Count  Dtype  \n",
      "---  ------          --------------  -----  \n",
      " 0   App             8048 non-null   object \n",
      " 1   Category        8048 non-null   object \n",
      " 2   Rating          8048 non-null   float64\n",
      " 3   Reviews         8048 non-null   object \n",
      " 4   Size            8048 non-null   float64\n",
      " 5   Installs        8048 non-null   int32  \n",
      " 6   Type            8048 non-null   object \n",
      " 7   Price           8048 non-null   float64\n",
      " 8   Content Rating  8047 non-null   object \n",
      " 9   Genres          8048 non-null   object \n",
      " 10  Last Updated    8048 non-null   object \n",
      " 11  Current Ver     8048 non-null   object \n",
      " 12  Android Ver     8048 non-null   object \n",
      "dtypes: float64(3), int32(1), object(9)\n",
      "memory usage: 848.8+ KB\n"
     ]
    }
   ],
   "source": [
    "df.info()"
   ]
  },
  {
   "cell_type": "markdown",
   "metadata": {},
   "source": [
    "#### Outliers Analysis Using Boxplot"
   ]
  },
  {
   "cell_type": "markdown",
   "metadata": {},
   "source": [
    "Now you need to start identifying and removing extreme values or __outliers__ from our dataset. These values can tilt our analysis and often provide us with a biased perspective of the data available. This is where you’ll start utilising visualisation to achieve your tasks. And the best visualisation to use here would be the box plot. Boxplots are one of the best ways of analysing the spread of a numeric variable\n",
    "\n",
    "\n",
    "Using a box plot you can identify the outliers as follows:"
   ]
  },
  {
   "cell_type": "markdown",
   "metadata": {},
   "source": [
    "![BoxPlots to Identify Outliers](D:\\Learning\\Case Study Notebook\\images\\Boxplot.png)"
   ]
  },
  {
   "cell_type": "markdown",
   "metadata": {},
   "source": [
    "- Outliers in data can arise due to genuine reasons or because of dubious entries. In the latter case, you should go ahead and remove such entries immediately. Use a boxplot to observe, analyse and remove them.\n",
    "- In the former case, you should determine whether or not removing them would add value to your analysis procedure."
   ]
  },
  {
   "cell_type": "markdown",
   "metadata": {},
   "source": [
    "- You can create a box plot directly from pandas dataframe or the matplotlib way as you learnt in the previous session. Check out their official documentation here:\n",
    "   - https://pandas.pydata.org/pandas-docs/stable/reference/api/pandas.DataFrame.boxplot.html\n",
    "   - https://matplotlib.org/3.1.1/api/_as_gen/matplotlib.pyplot.boxplot.html"
   ]
  },
  {
   "cell_type": "code",
   "execution_count": 50,
   "metadata": {},
   "outputs": [],
   "source": [
    "#import the plotting libraries\n",
    "import matplotlib.pyplot as plt\n",
    "%matplotlib inline"
   ]
  },
  {
   "cell_type": "code",
   "execution_count": 56,
   "metadata": {},
   "outputs": [
    {
     "data": {
      "image/png": "[encoded data removed]",
      "text/plain": [
       "<Figure size 432x288 with 1 Axes>"
      ]
     },
     "metadata": {
      "needs_background": "light"
     },
     "output_type": "display_data"
    }
   ],
   "source": [
    "#Create a box plot for the price column\n",
    "plt.boxplot(df.Price)\n",
    "plt.show()"
   ]
  },
  {
   "cell_type": "code",
   "execution_count": 61,
   "metadata": {},
   "outputs": [
    {
     "data": {
      "text/html": [
       "<div>\n",
       "<style scoped>\n",
       "    .dataframe tbody tr th:only-of-type {\n",
       "        vertical-align: middle;\n",
       "    }\n",
       "\n",
       "    .dataframe tbody tr th {\n",
       "        vertical-align: top;\n",
       "    }\n",
       "\n",
       "    .dataframe thead th {\n",
       "        text-align: right;\n",
       "    }\n",
       "</style>\n",
       "<table border=\"1\" class=\"dataframe\">\n",
       "  <thead>\n",
       "    <tr style=\"text-align: right;\">\n",
       "      <th></th>\n",
       "      <th>App</th>\n",
       "      <th>Category</th>\n",
       "      <th>Rating</th>\n",
       "      <th>Reviews</th>\n",
       "      <th>Size</th>\n",
       "      <th>Installs</th>\n",
       "      <th>Type</th>\n",
       "      <th>Price</th>\n",
       "      <th>Content Rating</th>\n",
       "      <th>Genres</th>\n",
       "      <th>Last Updated</th>\n",
       "      <th>Current Ver</th>\n",
       "      <th>Android Ver</th>\n",
       "    </tr>\n",
       "  </thead>\n",
       "  <tbody>\n",
       "    <tr>\n",
       "      <th>4197</th>\n",
       "      <td>most expensive app (H)</td>\n",
       "      <td>FAMILY</td>\n",
       "      <td>4.3</td>\n",
       "      <td>6</td>\n",
       "      <td>1500.0</td>\n",
       "      <td>100</td>\n",
       "      <td>Paid</td>\n",
       "      <td>399.99</td>\n",
       "      <td>Everyone</td>\n",
       "      <td>Entertainment</td>\n",
       "      <td>July 16, 2018</td>\n",
       "      <td>1.0</td>\n",
       "      <td>7.0 and up</td>\n",
       "    </tr>\n",
       "    <tr>\n",
       "      <th>4362</th>\n",
       "      <td>💎 I'm rich</td>\n",
       "      <td>LIFESTYLE</td>\n",
       "      <td>3.8</td>\n",
       "      <td>718</td>\n",
       "      <td>26000.0</td>\n",
       "      <td>10000</td>\n",
       "      <td>Paid</td>\n",
       "      <td>399.99</td>\n",
       "      <td>Everyone</td>\n",
       "      <td>Lifestyle</td>\n",
       "      <td>March 11, 2018</td>\n",
       "      <td>1.0.0</td>\n",
       "      <td>4.4 and up</td>\n",
       "    </tr>\n",
       "    <tr>\n",
       "      <th>4367</th>\n",
       "      <td>I'm Rich - Trump Edition</td>\n",
       "      <td>LIFESTYLE</td>\n",
       "      <td>3.6</td>\n",
       "      <td>275</td>\n",
       "      <td>7300.0</td>\n",
       "      <td>10000</td>\n",
       "      <td>Paid</td>\n",
       "      <td>400.00</td>\n",
       "      <td>Everyone</td>\n",
       "      <td>Lifestyle</td>\n",
       "      <td>May 3, 2018</td>\n",
       "      <td>1.0.1</td>\n",
       "      <td>4.1 and up</td>\n",
       "    </tr>\n",
       "    <tr>\n",
       "      <th>5351</th>\n",
       "      <td>I am rich</td>\n",
       "      <td>LIFESTYLE</td>\n",
       "      <td>3.8</td>\n",
       "      <td>3547</td>\n",
       "      <td>1800.0</td>\n",
       "      <td>100000</td>\n",
       "      <td>Paid</td>\n",
       "      <td>399.99</td>\n",
       "      <td>Everyone</td>\n",
       "      <td>Lifestyle</td>\n",
       "      <td>January 12, 2018</td>\n",
       "      <td>2.0</td>\n",
       "      <td>4.0.3 and up</td>\n",
       "    </tr>\n",
       "    <tr>\n",
       "      <th>5354</th>\n",
       "      <td>I am Rich Plus</td>\n",
       "      <td>FAMILY</td>\n",
       "      <td>4.0</td>\n",
       "      <td>856</td>\n",
       "      <td>8700.0</td>\n",
       "      <td>10000</td>\n",
       "      <td>Paid</td>\n",
       "      <td>399.99</td>\n",
       "      <td>Everyone</td>\n",
       "      <td>Entertainment</td>\n",
       "      <td>May 19, 2018</td>\n",
       "      <td>3.0</td>\n",
       "      <td>4.4 and up</td>\n",
       "    </tr>\n",
       "    <tr>\n",
       "      <th>5355</th>\n",
       "      <td>I am rich VIP</td>\n",
       "      <td>LIFESTYLE</td>\n",
       "      <td>3.8</td>\n",
       "      <td>411</td>\n",
       "      <td>2600.0</td>\n",
       "      <td>10000</td>\n",
       "      <td>Paid</td>\n",
       "      <td>299.99</td>\n",
       "      <td>Everyone</td>\n",
       "      <td>Lifestyle</td>\n",
       "      <td>July 21, 2018</td>\n",
       "      <td>1.1.1</td>\n",
       "      <td>4.3 and up</td>\n",
       "    </tr>\n",
       "    <tr>\n",
       "      <th>5356</th>\n",
       "      <td>I Am Rich Premium</td>\n",
       "      <td>FINANCE</td>\n",
       "      <td>4.1</td>\n",
       "      <td>1867</td>\n",
       "      <td>4700.0</td>\n",
       "      <td>50000</td>\n",
       "      <td>Paid</td>\n",
       "      <td>399.99</td>\n",
       "      <td>Everyone</td>\n",
       "      <td>Finance</td>\n",
       "      <td>November 12, 2017</td>\n",
       "      <td>1.6</td>\n",
       "      <td>4.0 and up</td>\n",
       "    </tr>\n",
       "    <tr>\n",
       "      <th>5357</th>\n",
       "      <td>I am extremely Rich</td>\n",
       "      <td>LIFESTYLE</td>\n",
       "      <td>2.9</td>\n",
       "      <td>41</td>\n",
       "      <td>2900.0</td>\n",
       "      <td>1000</td>\n",
       "      <td>Paid</td>\n",
       "      <td>379.99</td>\n",
       "      <td>Everyone</td>\n",
       "      <td>Lifestyle</td>\n",
       "      <td>July 1, 2018</td>\n",
       "      <td>1.0</td>\n",
       "      <td>4.0 and up</td>\n",
       "    </tr>\n",
       "    <tr>\n",
       "      <th>5358</th>\n",
       "      <td>I am Rich!</td>\n",
       "      <td>FINANCE</td>\n",
       "      <td>3.8</td>\n",
       "      <td>93</td>\n",
       "      <td>22000.0</td>\n",
       "      <td>1000</td>\n",
       "      <td>Paid</td>\n",
       "      <td>399.99</td>\n",
       "      <td>Everyone</td>\n",
       "      <td>Finance</td>\n",
       "      <td>December 11, 2017</td>\n",
       "      <td>1.0</td>\n",
       "      <td>4.1 and up</td>\n",
       "    </tr>\n",
       "    <tr>\n",
       "      <th>5359</th>\n",
       "      <td>I am rich(premium)</td>\n",
       "      <td>FINANCE</td>\n",
       "      <td>3.5</td>\n",
       "      <td>472</td>\n",
       "      <td>965.0</td>\n",
       "      <td>5000</td>\n",
       "      <td>Paid</td>\n",
       "      <td>399.99</td>\n",
       "      <td>Everyone</td>\n",
       "      <td>Finance</td>\n",
       "      <td>May 1, 2017</td>\n",
       "      <td>3.4</td>\n",
       "      <td>4.4 and up</td>\n",
       "    </tr>\n",
       "    <tr>\n",
       "      <th>5362</th>\n",
       "      <td>I Am Rich Pro</td>\n",
       "      <td>FAMILY</td>\n",
       "      <td>4.4</td>\n",
       "      <td>201</td>\n",
       "      <td>2700.0</td>\n",
       "      <td>5000</td>\n",
       "      <td>Paid</td>\n",
       "      <td>399.99</td>\n",
       "      <td>Everyone</td>\n",
       "      <td>Entertainment</td>\n",
       "      <td>May 30, 2017</td>\n",
       "      <td>1.54</td>\n",
       "      <td>1.6 and up</td>\n",
       "    </tr>\n",
       "    <tr>\n",
       "      <th>5364</th>\n",
       "      <td>I am rich (Most expensive app)</td>\n",
       "      <td>FINANCE</td>\n",
       "      <td>4.1</td>\n",
       "      <td>129</td>\n",
       "      <td>2700.0</td>\n",
       "      <td>1000</td>\n",
       "      <td>Paid</td>\n",
       "      <td>399.99</td>\n",
       "      <td>Teen</td>\n",
       "      <td>Finance</td>\n",
       "      <td>December 6, 2017</td>\n",
       "      <td>2</td>\n",
       "      <td>4.0.3 and up</td>\n",
       "    </tr>\n",
       "    <tr>\n",
       "      <th>5366</th>\n",
       "      <td>I Am Rich</td>\n",
       "      <td>FAMILY</td>\n",
       "      <td>3.6</td>\n",
       "      <td>217</td>\n",
       "      <td>4900.0</td>\n",
       "      <td>10000</td>\n",
       "      <td>Paid</td>\n",
       "      <td>389.99</td>\n",
       "      <td>Everyone</td>\n",
       "      <td>Entertainment</td>\n",
       "      <td>June 22, 2018</td>\n",
       "      <td>1.5</td>\n",
       "      <td>4.2 and up</td>\n",
       "    </tr>\n",
       "    <tr>\n",
       "      <th>5369</th>\n",
       "      <td>I am Rich</td>\n",
       "      <td>FINANCE</td>\n",
       "      <td>4.3</td>\n",
       "      <td>180</td>\n",
       "      <td>3800.0</td>\n",
       "      <td>5000</td>\n",
       "      <td>Paid</td>\n",
       "      <td>399.99</td>\n",
       "      <td>Everyone</td>\n",
       "      <td>Finance</td>\n",
       "      <td>March 22, 2018</td>\n",
       "      <td>1.0</td>\n",
       "      <td>4.2 and up</td>\n",
       "    </tr>\n",
       "    <tr>\n",
       "      <th>5373</th>\n",
       "      <td>I AM RICH PRO PLUS</td>\n",
       "      <td>FINANCE</td>\n",
       "      <td>4.0</td>\n",
       "      <td>36</td>\n",
       "      <td>41000.0</td>\n",
       "      <td>1000</td>\n",
       "      <td>Paid</td>\n",
       "      <td>399.99</td>\n",
       "      <td>Everyone</td>\n",
       "      <td>Finance</td>\n",
       "      <td>June 25, 2018</td>\n",
       "      <td>1.0.2</td>\n",
       "      <td>4.1 and up</td>\n",
       "    </tr>\n",
       "  </tbody>\n",
       "</table>\n",
       "</div>"
      ],
      "text/plain": [
       "                                 App   Category  Rating Reviews     Size  \\\n",
       "4197          most expensive app (H)     FAMILY     4.3       6   1500.0   \n",
       "4362                      💎 I'm rich  LIFESTYLE     3.8     718  26000.0   \n",
       "4367        I'm Rich - Trump Edition  LIFESTYLE     3.6     275   7300.0   \n",
       "5351                       I am rich  LIFESTYLE     3.8    3547   1800.0   \n",
       "5354                  I am Rich Plus     FAMILY     4.0     856   8700.0   \n",
       "5355                   I am rich VIP  LIFESTYLE     3.8     411   2600.0   \n",
       "5356               I Am Rich Premium    FINANCE     4.1    1867   4700.0   \n",
       "5357             I am extremely Rich  LIFESTYLE     2.9      41   2900.0   \n",
       "5358                      I am Rich!    FINANCE     3.8      93  22000.0   \n",
       "5359              I am rich(premium)    FINANCE     3.5     472    965.0   \n",
       "5362                   I Am Rich Pro     FAMILY     4.4     201   2700.0   \n",
       "5364  I am rich (Most expensive app)    FINANCE     4.1     129   2700.0   \n",
       "5366                       I Am Rich     FAMILY     3.6     217   4900.0   \n",
       "5369                       I am Rich    FINANCE     4.3     180   3800.0   \n",
       "5373              I AM RICH PRO PLUS    FINANCE     4.0      36  41000.0   \n",
       "\n",
       "      Installs  Type   Price Content Rating         Genres       Last Updated  \\\n",
       "4197       100  Paid  399.99       Everyone  Entertainment      July 16, 2018   \n",
       "4362     10000  Paid  399.99       Everyone      Lifestyle     March 11, 2018   \n",
       "4367     10000  Paid  400.00       Everyone      Lifestyle        May 3, 2018   \n",
       "5351    100000  Paid  399.99       Everyone      Lifestyle   January 12, 2018   \n",
       "5354     10000  Paid  399.99       Everyone  Entertainment       May 19, 2018   \n",
       "5355     10000  Paid  299.99       Everyone      Lifestyle      July 21, 2018   \n",
       "5356     50000  Paid  399.99       Everyone        Finance  November 12, 2017   \n",
       "5357      1000  Paid  379.99       Everyone      Lifestyle       July 1, 2018   \n",
       "5358      1000  Paid  399.99       Everyone        Finance  December 11, 2017   \n",
       "5359      5000  Paid  399.99       Everyone        Finance        May 1, 2017   \n",
       "5362      5000  Paid  399.99       Everyone  Entertainment       May 30, 2017   \n",
       "5364      1000  Paid  399.99           Teen        Finance   December 6, 2017   \n",
       "5366     10000  Paid  389.99       Everyone  Entertainment      June 22, 2018   \n",
       "5369      5000  Paid  399.99       Everyone        Finance     March 22, 2018   \n",
       "5373      1000  Paid  399.99       Everyone        Finance      June 25, 2018   \n",
       "\n",
       "     Current Ver   Android Ver  \n",
       "4197         1.0    7.0 and up  \n",
       "4362       1.0.0    4.4 and up  \n",
       "4367       1.0.1    4.1 and up  \n",
       "5351         2.0  4.0.3 and up  \n",
       "5354         3.0    4.4 and up  \n",
       "5355       1.1.1    4.3 and up  \n",
       "5356         1.6    4.0 and up  \n",
       "5357         1.0    4.0 and up  \n",
       "5358         1.0    4.1 and up  \n",
       "5359         3.4    4.4 and up  \n",
       "5362        1.54    1.6 and up  \n",
       "5364           2  4.0.3 and up  \n",
       "5366         1.5    4.2 and up  \n",
       "5369         1.0    4.2 and up  \n",
       "5373       1.0.2    4.1 and up  "
      ]
     },
     "execution_count": 61,
     "metadata": {},
     "output_type": "execute_result"
    }
   ],
   "source": [
    "#Check the apps with price more than 200\n",
    "df[df.Price > 200]"
   ]
  },
  {
   "cell_type": "code",
   "execution_count": 62,
   "metadata": {},
   "outputs": [],
   "source": [
    "#Clean the Price column\n",
    "df = df[df.Price < 200]"
   ]
  },
  {
   "cell_type": "code",
   "execution_count": 63,
   "metadata": {},
   "outputs": [
    {
     "data": {
      "text/plain": [
       "<AxesSubplot:>"
      ]
     },
     "execution_count": 63,
     "metadata": {},
     "output_type": "execute_result"
    },
    {
     "data": {
      "image/png": "[encoded data removed]",
      "text/plain": [
       "<Figure size 432x288 with 1 Axes>"
      ]
     },
     "metadata": {
      "needs_background": "light"
     },
     "output_type": "display_data"
    }
   ],
   "source": [
    "#Create a box plot for paid apps\n",
    "df[df.Price>0].Price.plot.box()"
   ]
  },
  {
   "cell_type": "code",
   "execution_count": 64,
   "metadata": {},
   "outputs": [
    {
     "data": {
      "text/html": [
       "<div>\n",
       "<style scoped>\n",
       "    .dataframe tbody tr th:only-of-type {\n",
       "        vertical-align: middle;\n",
       "    }\n",
       "\n",
       "    .dataframe tbody tr th {\n",
       "        vertical-align: top;\n",
       "    }\n",
       "\n",
       "    .dataframe thead th {\n",
       "        text-align: right;\n",
       "    }\n",
       "</style>\n",
       "<table border=\"1\" class=\"dataframe\">\n",
       "  <thead>\n",
       "    <tr style=\"text-align: right;\">\n",
       "      <th></th>\n",
       "      <th>App</th>\n",
       "      <th>Category</th>\n",
       "      <th>Rating</th>\n",
       "      <th>Reviews</th>\n",
       "      <th>Size</th>\n",
       "      <th>Installs</th>\n",
       "      <th>Type</th>\n",
       "      <th>Price</th>\n",
       "      <th>Content Rating</th>\n",
       "      <th>Genres</th>\n",
       "      <th>Last Updated</th>\n",
       "      <th>Current Ver</th>\n",
       "      <th>Android Ver</th>\n",
       "    </tr>\n",
       "  </thead>\n",
       "  <tbody>\n",
       "    <tr>\n",
       "      <th>2253</th>\n",
       "      <td>Vargo Anesthesia Mega App</td>\n",
       "      <td>MEDICAL</td>\n",
       "      <td>4.6</td>\n",
       "      <td>92</td>\n",
       "      <td>32000.0</td>\n",
       "      <td>1000</td>\n",
       "      <td>Paid</td>\n",
       "      <td>79.99</td>\n",
       "      <td>Everyone</td>\n",
       "      <td>Medical</td>\n",
       "      <td>June 18, 2018</td>\n",
       "      <td>19.0</td>\n",
       "      <td>4.0.3 and up</td>\n",
       "    </tr>\n",
       "    <tr>\n",
       "      <th>2301</th>\n",
       "      <td>A Manual of Acupuncture</td>\n",
       "      <td>MEDICAL</td>\n",
       "      <td>3.5</td>\n",
       "      <td>214</td>\n",
       "      <td>68000.0</td>\n",
       "      <td>1000</td>\n",
       "      <td>Paid</td>\n",
       "      <td>33.99</td>\n",
       "      <td>Everyone</td>\n",
       "      <td>Medical</td>\n",
       "      <td>October 2, 2017</td>\n",
       "      <td>2.1.35</td>\n",
       "      <td>4.0 and up</td>\n",
       "    </tr>\n",
       "    <tr>\n",
       "      <th>2365</th>\n",
       "      <td>Vargo Anesthesia Mega App</td>\n",
       "      <td>MEDICAL</td>\n",
       "      <td>4.6</td>\n",
       "      <td>92</td>\n",
       "      <td>32000.0</td>\n",
       "      <td>1000</td>\n",
       "      <td>Paid</td>\n",
       "      <td>79.99</td>\n",
       "      <td>Everyone</td>\n",
       "      <td>Medical</td>\n",
       "      <td>June 18, 2018</td>\n",
       "      <td>19.0</td>\n",
       "      <td>4.0.3 and up</td>\n",
       "    </tr>\n",
       "    <tr>\n",
       "      <th>2402</th>\n",
       "      <td>A Manual of Acupuncture</td>\n",
       "      <td>MEDICAL</td>\n",
       "      <td>3.5</td>\n",
       "      <td>214</td>\n",
       "      <td>68000.0</td>\n",
       "      <td>1000</td>\n",
       "      <td>Paid</td>\n",
       "      <td>33.99</td>\n",
       "      <td>Everyone</td>\n",
       "      <td>Medical</td>\n",
       "      <td>October 2, 2017</td>\n",
       "      <td>2.1.35</td>\n",
       "      <td>4.0 and up</td>\n",
       "    </tr>\n",
       "    <tr>\n",
       "      <th>2414</th>\n",
       "      <td>LTC AS Legal</td>\n",
       "      <td>MEDICAL</td>\n",
       "      <td>4.0</td>\n",
       "      <td>6</td>\n",
       "      <td>1300.0</td>\n",
       "      <td>100</td>\n",
       "      <td>Paid</td>\n",
       "      <td>39.99</td>\n",
       "      <td>Everyone</td>\n",
       "      <td>Medical</td>\n",
       "      <td>April 4, 2018</td>\n",
       "      <td>3.0.1</td>\n",
       "      <td>4.1 and up</td>\n",
       "    </tr>\n",
       "    <tr>\n",
       "      <th>5360</th>\n",
       "      <td>I am Rich Person</td>\n",
       "      <td>LIFESTYLE</td>\n",
       "      <td>4.2</td>\n",
       "      <td>134</td>\n",
       "      <td>1800.0</td>\n",
       "      <td>1000</td>\n",
       "      <td>Paid</td>\n",
       "      <td>37.99</td>\n",
       "      <td>Everyone</td>\n",
       "      <td>Lifestyle</td>\n",
       "      <td>July 18, 2017</td>\n",
       "      <td>1.0</td>\n",
       "      <td>4.0.3 and up</td>\n",
       "    </tr>\n",
       "  </tbody>\n",
       "</table>\n",
       "</div>"
      ],
      "text/plain": [
       "                            App   Category  Rating Reviews     Size  Installs  \\\n",
       "2253  Vargo Anesthesia Mega App    MEDICAL     4.6      92  32000.0      1000   \n",
       "2301    A Manual of Acupuncture    MEDICAL     3.5     214  68000.0      1000   \n",
       "2365  Vargo Anesthesia Mega App    MEDICAL     4.6      92  32000.0      1000   \n",
       "2402    A Manual of Acupuncture    MEDICAL     3.5     214  68000.0      1000   \n",
       "2414               LTC AS Legal    MEDICAL     4.0       6   1300.0       100   \n",
       "5360           I am Rich Person  LIFESTYLE     4.2     134   1800.0      1000   \n",
       "\n",
       "      Type  Price Content Rating     Genres     Last Updated Current Ver  \\\n",
       "2253  Paid  79.99       Everyone    Medical    June 18, 2018        19.0   \n",
       "2301  Paid  33.99       Everyone    Medical  October 2, 2017      2.1.35   \n",
       "2365  Paid  79.99       Everyone    Medical    June 18, 2018        19.0   \n",
       "2402  Paid  33.99       Everyone    Medical  October 2, 2017      2.1.35   \n",
       "2414  Paid  39.99       Everyone    Medical    April 4, 2018       3.0.1   \n",
       "5360  Paid  37.99       Everyone  Lifestyle    July 18, 2017         1.0   \n",
       "\n",
       "       Android Ver  \n",
       "2253  4.0.3 and up  \n",
       "2301    4.0 and up  \n",
       "2365  4.0.3 and up  \n",
       "2402    4.0 and up  \n",
       "2414    4.1 and up  \n",
       "5360  4.0.3 and up  "
      ]
     },
     "execution_count": 64,
     "metadata": {},
     "output_type": "execute_result"
    }
   ],
   "source": [
    "#Check the apps with price more than 30\n",
    "df[df.Price>30]"
   ]
  },
  {
   "cell_type": "code",
   "execution_count": 65,
   "metadata": {},
   "outputs": [],
   "source": [
    "#Clean the Price column again\n",
    "df = df[df.Price<=30]"
   ]
  },
  {
   "cell_type": "markdown",
   "metadata": {},
   "source": [
    "### Histograms\n",
    "\n",
    "Histograms can also be used in conjuction with boxplots for data cleaning and data handling purposes. You can use it to check the spread of a numeric variable. Histograms generally work by bucketing the entire range of values that a particular variable takes to specific __bins__. After that, it uses vertical bars to denote the total number of records in a specific bin, which is also known as its __frequency__.\n"
   ]
  },
  {
   "cell_type": "markdown",
   "metadata": {},
   "source": [
    "![Histogram](images\\Histogram.png)"
   ]
  },
  {
   "cell_type": "markdown",
   "metadata": {},
   "source": [
    "You can adjust the number of bins to improve its granularity"
   ]
  },
  {
   "cell_type": "markdown",
   "metadata": {},
   "source": [
    "![Bins change](images\\Granular.png)"
   ]
  },
  {
   "cell_type": "markdown",
   "metadata": {},
   "source": [
    "You'll be using plt.hist() to plot a histogram. Check out its official documentation:https://matplotlib.org/3.1.1/api/_as_gen/matplotlib.pyplot.hist.html"
   ]
  },
  {
   "cell_type": "code",
   "execution_count": 67,
   "metadata": {},
   "outputs": [
    {
     "data": {
      "image/png": "[encoded data removed]",
      "text/plain": [
       "<Figure size 432x288 with 1 Axes>"
      ]
     },
     "metadata": {
      "needs_background": "light"
     },
     "output_type": "display_data"
    }
   ],
   "source": [
    "#Create a histogram of the Reviews\n",
    "plt.hist(df.Reviews)\n",
    "plt.show()"
   ]
  },
  {
   "cell_type": "code",
   "execution_count": 68,
   "metadata": {},
   "outputs": [
    {
     "data": {
      "text/plain": [
       "<AxesSubplot:>"
      ]
     },
     "execution_count": 68,
     "metadata": {},
     "output_type": "execute_result"
    },
    {
     "data": {
      "image/png": "[encoded data removed]",
      "text/plain": [
       "<Figure size 432x288 with 1 Axes>"
      ]
     },
     "metadata": {
      "needs_background": "light"
     },
     "output_type": "display_data"
    }
   ],
   "source": [
    "#Create a boxplot of the Reviews column\n",
    "df.Reviews.plot.box()\n"
   ]
  },
  {
   "cell_type": "code",
   "execution_count": 69,
   "metadata": {},
   "outputs": [
    {
     "data": {
      "text/html": [
       "<div>\n",
       "<style scoped>\n",
       "    .dataframe tbody tr th:only-of-type {\n",
       "        vertical-align: middle;\n",
       "    }\n",
       "\n",
       "    .dataframe tbody tr th {\n",
       "        vertical-align: top;\n",
       "    }\n",
       "\n",
       "    .dataframe thead th {\n",
       "        text-align: right;\n",
       "    }\n",
       "</style>\n",
       "<table border=\"1\" class=\"dataframe\">\n",
       "  <thead>\n",
       "    <tr style=\"text-align: right;\">\n",
       "      <th></th>\n",
       "      <th>App</th>\n",
       "      <th>Category</th>\n",
       "      <th>Rating</th>\n",
       "      <th>Reviews</th>\n",
       "      <th>Size</th>\n",
       "      <th>Installs</th>\n",
       "      <th>Type</th>\n",
       "      <th>Price</th>\n",
       "      <th>Content Rating</th>\n",
       "      <th>Genres</th>\n",
       "      <th>Last Updated</th>\n",
       "      <th>Current Ver</th>\n",
       "      <th>Android Ver</th>\n",
       "    </tr>\n",
       "  </thead>\n",
       "  <tbody>\n",
       "    <tr>\n",
       "      <th>194</th>\n",
       "      <td>OfficeSuite : Free Office + PDF Editor</td>\n",
       "      <td>BUSINESS</td>\n",
       "      <td>4.3</td>\n",
       "      <td>1.00286e+06</td>\n",
       "      <td>35000.000000</td>\n",
       "      <td>100000000</td>\n",
       "      <td>Free</td>\n",
       "      <td>0.0</td>\n",
       "      <td>Everyone</td>\n",
       "      <td>Business</td>\n",
       "      <td>August 2, 2018</td>\n",
       "      <td>9.7.14188</td>\n",
       "      <td>4.1 and up</td>\n",
       "    </tr>\n",
       "    <tr>\n",
       "      <th>293</th>\n",
       "      <td>OfficeSuite : Free Office + PDF Editor</td>\n",
       "      <td>BUSINESS</td>\n",
       "      <td>4.3</td>\n",
       "      <td>1.00286e+06</td>\n",
       "      <td>35000.000000</td>\n",
       "      <td>100000000</td>\n",
       "      <td>Free</td>\n",
       "      <td>0.0</td>\n",
       "      <td>Everyone</td>\n",
       "      <td>Business</td>\n",
       "      <td>August 2, 2018</td>\n",
       "      <td>9.7.14188</td>\n",
       "      <td>4.1 and up</td>\n",
       "    </tr>\n",
       "    <tr>\n",
       "      <th>339</th>\n",
       "      <td>Messenger Lite: Free Calls &amp; Messages</td>\n",
       "      <td>COMMUNICATION</td>\n",
       "      <td>4.4</td>\n",
       "      <td>1.42904e+06</td>\n",
       "      <td>21516.529524</td>\n",
       "      <td>100000000</td>\n",
       "      <td>Free</td>\n",
       "      <td>0.0</td>\n",
       "      <td>Everyone</td>\n",
       "      <td>Communication</td>\n",
       "      <td>July 25, 2018</td>\n",
       "      <td>37.0.0.7.163</td>\n",
       "      <td>2.3 and up</td>\n",
       "    </tr>\n",
       "    <tr>\n",
       "      <th>345</th>\n",
       "      <td>Yahoo Mail – Stay Organized</td>\n",
       "      <td>COMMUNICATION</td>\n",
       "      <td>4.3</td>\n",
       "      <td>4.188e+06</td>\n",
       "      <td>16000.000000</td>\n",
       "      <td>100000000</td>\n",
       "      <td>Free</td>\n",
       "      <td>0.0</td>\n",
       "      <td>Everyone</td>\n",
       "      <td>Communication</td>\n",
       "      <td>July 18, 2018</td>\n",
       "      <td>5.29.3</td>\n",
       "      <td>4.4 and up</td>\n",
       "    </tr>\n",
       "    <tr>\n",
       "      <th>347</th>\n",
       "      <td>imo free video calls and chat</td>\n",
       "      <td>COMMUNICATION</td>\n",
       "      <td>4.3</td>\n",
       "      <td>4.78589e+06</td>\n",
       "      <td>11000.000000</td>\n",
       "      <td>500000000</td>\n",
       "      <td>Free</td>\n",
       "      <td>0.0</td>\n",
       "      <td>Everyone</td>\n",
       "      <td>Communication</td>\n",
       "      <td>June 8, 2018</td>\n",
       "      <td>9.8.000000010501</td>\n",
       "      <td>4.0 and up</td>\n",
       "    </tr>\n",
       "    <tr>\n",
       "      <th>...</th>\n",
       "      <td>...</td>\n",
       "      <td>...</td>\n",
       "      <td>...</td>\n",
       "      <td>...</td>\n",
       "      <td>...</td>\n",
       "      <td>...</td>\n",
       "      <td>...</td>\n",
       "      <td>...</td>\n",
       "      <td>...</td>\n",
       "      <td>...</td>\n",
       "      <td>...</td>\n",
       "      <td>...</td>\n",
       "      <td>...</td>\n",
       "    </tr>\n",
       "    <tr>\n",
       "      <th>9860</th>\n",
       "      <td>Voice changer with effects</td>\n",
       "      <td>FAMILY</td>\n",
       "      <td>4.2</td>\n",
       "      <td>1.2609e+06</td>\n",
       "      <td>8700.000000</td>\n",
       "      <td>50000000</td>\n",
       "      <td>Free</td>\n",
       "      <td>0.0</td>\n",
       "      <td>Everyone</td>\n",
       "      <td>Entertainment</td>\n",
       "      <td>August 2, 2018</td>\n",
       "      <td>3.4.8</td>\n",
       "      <td>4.1 and up</td>\n",
       "    </tr>\n",
       "    <tr>\n",
       "      <th>10186</th>\n",
       "      <td>Farm Heroes Saga</td>\n",
       "      <td>FAMILY</td>\n",
       "      <td>4.4</td>\n",
       "      <td>7.61565e+06</td>\n",
       "      <td>71000.000000</td>\n",
       "      <td>100000000</td>\n",
       "      <td>Free</td>\n",
       "      <td>0.0</td>\n",
       "      <td>Everyone</td>\n",
       "      <td>Casual</td>\n",
       "      <td>August 7, 2018</td>\n",
       "      <td>5.2.6</td>\n",
       "      <td>2.3 and up</td>\n",
       "    </tr>\n",
       "    <tr>\n",
       "      <th>10190</th>\n",
       "      <td>Fallout Shelter</td>\n",
       "      <td>FAMILY</td>\n",
       "      <td>4.6</td>\n",
       "      <td>2.72192e+06</td>\n",
       "      <td>25000.000000</td>\n",
       "      <td>10000000</td>\n",
       "      <td>Free</td>\n",
       "      <td>0.0</td>\n",
       "      <td>Teen</td>\n",
       "      <td>Simulation</td>\n",
       "      <td>June 11, 2018</td>\n",
       "      <td>1.13.12</td>\n",
       "      <td>4.1 and up</td>\n",
       "    </tr>\n",
       "    <tr>\n",
       "      <th>10327</th>\n",
       "      <td>Garena Free Fire</td>\n",
       "      <td>GAME</td>\n",
       "      <td>4.5</td>\n",
       "      <td>5.53411e+06</td>\n",
       "      <td>53000.000000</td>\n",
       "      <td>100000000</td>\n",
       "      <td>Free</td>\n",
       "      <td>0.0</td>\n",
       "      <td>Teen</td>\n",
       "      <td>Action</td>\n",
       "      <td>August 3, 2018</td>\n",
       "      <td>1.21.0</td>\n",
       "      <td>4.0.3 and up</td>\n",
       "    </tr>\n",
       "    <tr>\n",
       "      <th>10636</th>\n",
       "      <td>FRONTLINE COMMANDO</td>\n",
       "      <td>GAME</td>\n",
       "      <td>4.4</td>\n",
       "      <td>1.35183e+06</td>\n",
       "      <td>12000.000000</td>\n",
       "      <td>10000000</td>\n",
       "      <td>Free</td>\n",
       "      <td>0.0</td>\n",
       "      <td>Teen</td>\n",
       "      <td>Action</td>\n",
       "      <td>October 28, 2013</td>\n",
       "      <td>3.0.3</td>\n",
       "      <td>2.1 and up</td>\n",
       "    </tr>\n",
       "  </tbody>\n",
       "</table>\n",
       "<p>410 rows × 13 columns</p>\n",
       "</div>"
      ],
      "text/plain": [
       "                                          App       Category  Rating  \\\n",
       "194    OfficeSuite : Free Office + PDF Editor       BUSINESS     4.3   \n",
       "293    OfficeSuite : Free Office + PDF Editor       BUSINESS     4.3   \n",
       "339     Messenger Lite: Free Calls & Messages  COMMUNICATION     4.4   \n",
       "345               Yahoo Mail – Stay Organized  COMMUNICATION     4.3   \n",
       "347             imo free video calls and chat  COMMUNICATION     4.3   \n",
       "...                                       ...            ...     ...   \n",
       "9860               Voice changer with effects         FAMILY     4.2   \n",
       "10186                        Farm Heroes Saga         FAMILY     4.4   \n",
       "10190                         Fallout Shelter         FAMILY     4.6   \n",
       "10327                        Garena Free Fire           GAME     4.5   \n",
       "10636                      FRONTLINE COMMANDO           GAME     4.4   \n",
       "\n",
       "           Reviews          Size   Installs  Type  Price Content Rating  \\\n",
       "194    1.00286e+06  35000.000000  100000000  Free    0.0       Everyone   \n",
       "293    1.00286e+06  35000.000000  100000000  Free    0.0       Everyone   \n",
       "339    1.42904e+06  21516.529524  100000000  Free    0.0       Everyone   \n",
       "345      4.188e+06  16000.000000  100000000  Free    0.0       Everyone   \n",
       "347    4.78589e+06  11000.000000  500000000  Free    0.0       Everyone   \n",
       "...            ...           ...        ...   ...    ...            ...   \n",
       "9860    1.2609e+06   8700.000000   50000000  Free    0.0       Everyone   \n",
       "10186  7.61565e+06  71000.000000  100000000  Free    0.0       Everyone   \n",
       "10190  2.72192e+06  25000.000000   10000000  Free    0.0           Teen   \n",
       "10327  5.53411e+06  53000.000000  100000000  Free    0.0           Teen   \n",
       "10636  1.35183e+06  12000.000000   10000000  Free    0.0           Teen   \n",
       "\n",
       "              Genres      Last Updated       Current Ver   Android Ver  \n",
       "194         Business    August 2, 2018         9.7.14188    4.1 and up  \n",
       "293         Business    August 2, 2018         9.7.14188    4.1 and up  \n",
       "339    Communication     July 25, 2018      37.0.0.7.163    2.3 and up  \n",
       "345    Communication     July 18, 2018            5.29.3    4.4 and up  \n",
       "347    Communication      June 8, 2018  9.8.000000010501    4.0 and up  \n",
       "...              ...               ...               ...           ...  \n",
       "9860   Entertainment    August 2, 2018             3.4.8    4.1 and up  \n",
       "10186         Casual    August 7, 2018             5.2.6    2.3 and up  \n",
       "10190     Simulation     June 11, 2018           1.13.12    4.1 and up  \n",
       "10327         Action    August 3, 2018            1.21.0  4.0.3 and up  \n",
       "10636         Action  October 28, 2013             3.0.3    2.1 and up  \n",
       "\n",
       "[410 rows x 13 columns]"
      ]
     },
     "execution_count": 69,
     "metadata": {},
     "output_type": "execute_result"
    }
   ],
   "source": [
    "#Check records with 1 million reviews\n",
    "df[df.Reviews >= 1000000]"
   ]
  },
  {
   "cell_type": "code",
   "execution_count": 70,
   "metadata": {},
   "outputs": [
    {
     "data": {
      "text/plain": [
       "(7617, 13)"
      ]
     },
     "execution_count": 70,
     "metadata": {},
     "output_type": "execute_result"
    }
   ],
   "source": [
    "#Drop the above records\n",
    "df = df[df.Reviews < 1000000]\n",
    "df.shape"
   ]
  },
  {
   "cell_type": "code",
   "execution_count": 71,
   "metadata": {},
   "outputs": [
    {
     "data": {
      "image/png": "[encoded data removed]",
      "text/plain": [
       "<Figure size 432x288 with 1 Axes>"
      ]
     },
     "metadata": {
      "needs_background": "light"
     },
     "output_type": "display_data"
    }
   ],
   "source": [
    "#Question - Create a histogram again and check the peaks\n",
    "plt.hist(df.Reviews)\n",
    "plt.show()"
   ]
  },
  {
   "cell_type": "code",
   "execution_count": 72,
   "metadata": {},
   "outputs": [
    {
     "data": {
      "image/png": "[encoded data removed]",
      "text/plain": [
       "<Figure size 432x288 with 1 Axes>"
      ]
     },
     "metadata": {
      "needs_background": "light"
     },
     "output_type": "display_data"
    }
   ],
   "source": [
    "#Question - Create a box plot for the Installs column and report back the IQR\n",
    "plt.boxplot(df.Installs)\n",
    "plt.show()"
   ]
  },
  {
   "cell_type": "code",
   "execution_count": 73,
   "metadata": {},
   "outputs": [],
   "source": [
    "#Question - CLean the Installs by removing all the apps having more than or equal to 100 million installs\n",
    "df = df[df.Installs < 100000000]"
   ]
  },
  {
   "cell_type": "code",
   "execution_count": 74,
   "metadata": {},
   "outputs": [
    {
     "data": {
      "image/png": "[encoded data removed]",
      "text/plain": [
       "<Figure size 432x288 with 1 Axes>"
      ]
     },
     "metadata": {
      "needs_background": "light"
     },
     "output_type": "display_data"
    }
   ],
   "source": [
    "#Plot a histogram for Size as well.\n",
    "df.Size.plot.hist()\n",
    "plt.show()"
   ]
  },
  {
   "cell_type": "code",
   "execution_count": 75,
   "metadata": {},
   "outputs": [
    {
     "data": {
      "text/plain": [
       "count      7591.000000\n",
       "mean      21649.309399\n",
       "std       21965.559980\n",
       "min           8.500000\n",
       "25%        5300.000000\n",
       "50%       14000.000000\n",
       "75%       29000.000000\n",
       "max      100000.000000\n",
       "Name: Size, dtype: float64"
      ]
     },
     "execution_count": 75,
     "metadata": {},
     "output_type": "execute_result"
    }
   ],
   "source": [
    "df.Size.describe()"
   ]
  },
  {
   "cell_type": "code",
   "execution_count": 76,
   "metadata": {},
   "outputs": [
    {
     "data": {
      "image/png": "[encoded data removed]",
      "text/plain": [
       "<Figure size 432x288 with 1 Axes>"
      ]
     },
     "metadata": {
      "needs_background": "light"
     },
     "output_type": "display_data"
    }
   ],
   "source": [
    "#Question - Create a boxplot for the Size column and report back the median value\n",
    "plt.boxplot(df.Size)\n",
    "plt.show()"
   ]
  },
  {
   "cell_type": "markdown",
   "metadata": {},
   "source": [
    "### Session 2 - Data Visualisation with Seaborn"
   ]
  },
  {
   "cell_type": "markdown",
   "metadata": {},
   "source": [
    "Seaborn is Python library to create statistical graphs easily. It is built on top of matplotlib and closely integrated with pandas.\n",
    "\n",
    "_Functionalities of Seaborn_ :\n",
    "\n",
    "- Dataset oriented API\n",
    "- Analysing univariate and bivariate distributions\n",
    "- Automatic estimation and plotting of  linear regression models\n",
    "- Convenient views for complex datasets\n",
    "- Concise control over style\n",
    "- Colour palettes\n"
   ]
  },
  {
   "cell_type": "code",
   "execution_count": 77,
   "metadata": {},
   "outputs": [],
   "source": [
    "#import the necessary libraries\n",
    "import warnings\n",
    "warnings.filterwarnings(\"ignore\")\n",
    "import seaborn as sns"
   ]
  },
  {
   "cell_type": "markdown",
   "metadata": {},
   "source": [
    "#### Distribution Plots"
   ]
  },
  {
   "cell_type": "markdown",
   "metadata": {},
   "source": [
    "A distribution plot is pretty similar to the histogram functionality in matplotlib. Instead of a frequency plot, it plots an approximate probability density for that rating bucket. And the curve (or the __KDE__) that gets drawn over the distribution is the approximate probability density curve. \n",
    "\n",
    "The following is an example of a distribution plot. Notice that now instead of frequency on the left axis, it has the density for each bin or bucket."
   ]
  },
  {
   "cell_type": "markdown",
   "metadata": {},
   "source": [
    "![Distplot](images\\Distplot.png)"
   ]
  },
  {
   "cell_type": "markdown",
   "metadata": {},
   "source": [
    "You'll be using sns.distplot for plotting a distribution plot. Check out its official documentation: https://seaborn.pydata.org/generated/seaborn.distplot.html"
   ]
  },
  {
   "cell_type": "code",
   "execution_count": 19,
   "metadata": {},
   "outputs": [],
   "source": [
    "#Create a distribution plot for rating\n"
   ]
  },
  {
   "cell_type": "code",
   "execution_count": 20,
   "metadata": {},
   "outputs": [],
   "source": [
    "#Change the number of bins\n",
    "\n"
   ]
  },
  {
   "cell_type": "code",
   "execution_count": 21,
   "metadata": {},
   "outputs": [],
   "source": [
    "#Change the colour of bins to green\n"
   ]
  },
  {
   "cell_type": "code",
   "execution_count": 22,
   "metadata": {},
   "outputs": [],
   "source": [
    "#Apply matplotlib functionalities\n",
    "\n"
   ]
  },
  {
   "cell_type": "markdown",
   "metadata": {},
   "source": [
    "#### Styling Options\n",
    "\n",
    "One of the biggest advantages of using Seaborn is that you can retain its aesthetic properties and also the Matplotlib functionalities to perform additional customisations. Before we continue with our case study analysis, let’s study some styling options that are available in Seaborn."
   ]
  },
  {
   "cell_type": "markdown",
   "metadata": {},
   "source": [
    "-  Check out the official documentation:https://seaborn.pydata.org/generated/seaborn.set_style.html"
   ]
  },
  {
   "cell_type": "code",
   "execution_count": 23,
   "metadata": {},
   "outputs": [],
   "source": [
    "#Check all the styling options"
   ]
  },
  {
   "cell_type": "code",
   "execution_count": 24,
   "metadata": {},
   "outputs": [],
   "source": [
    "#Change the number of bins to 20\n"
   ]
  },
  {
   "cell_type": "markdown",
   "metadata": {},
   "source": [
    "#### Pie-Chart and Bar Chart"
   ]
  },
  {
   "cell_type": "markdown",
   "metadata": {},
   "source": [
    "For analysing how a numeric variable changes across several categories of a categorical variable you utilise either a pie chart or a box plot"
   ]
  },
  {
   "cell_type": "markdown",
   "metadata": {},
   "source": [
    "For example, if you want to visualise the responses of a marketing campaign, you can use the following views:"
   ]
  },
  {
   "cell_type": "markdown",
   "metadata": {},
   "source": [
    "![PieChart](images\\pie.png)"
   ]
  },
  {
   "cell_type": "markdown",
   "metadata": {},
   "source": [
    "![barChart](images\\bar.png)"
   ]
  },
  {
   "cell_type": "markdown",
   "metadata": {},
   "source": [
    "- You'll be using the pandas method of plotting both a pie chart and a bar chart. Check out their official documentations:\n",
    "   - https://pandas.pydata.org/pandas-docs/stable/reference/api/pandas.DataFrame.plot.bar.html\n",
    "   - https://pandas.pydata.org/pandas-docs/stable/reference/api/pandas.DataFrame.plot.pie.html"
   ]
  },
  {
   "cell_type": "code",
   "execution_count": 25,
   "metadata": {},
   "outputs": [],
   "source": [
    "#Analyse the Content Rating column\n"
   ]
  },
  {
   "cell_type": "code",
   "execution_count": 26,
   "metadata": {},
   "outputs": [],
   "source": [
    "#Remove the rows with values which are less represented \n"
   ]
  },
  {
   "cell_type": "code",
   "execution_count": 27,
   "metadata": {},
   "outputs": [],
   "source": [
    "#Reset the index\n"
   ]
  },
  {
   "cell_type": "code",
   "execution_count": 28,
   "metadata": {},
   "outputs": [],
   "source": [
    "#Check the apps belonging to different categories of Content Rating \n"
   ]
  },
  {
   "cell_type": "code",
   "execution_count": 29,
   "metadata": {},
   "outputs": [],
   "source": [
    "#Plot a pie chart\n",
    "\n"
   ]
  },
  {
   "cell_type": "code",
   "execution_count": 30,
   "metadata": {},
   "outputs": [],
   "source": [
    "#Plot a bar chart\n"
   ]
  },
  {
   "cell_type": "code",
   "execution_count": 31,
   "metadata": {},
   "outputs": [],
   "source": [
    "#Question - Plot a bar plot for checking the 4th highest Android version type\n"
   ]
  },
  {
   "cell_type": "markdown",
   "metadata": {},
   "source": [
    "#### Scatter Plots"
   ]
  },
  {
   "cell_type": "markdown",
   "metadata": {},
   "source": [
    "Scatterplots are perhaps one of the most commonly used as well one of the most powerful visualisations you can use in the field of machine learning. They are pretty crucial in revealing relationships between the data points and you can generally deduce some sort of trends in the data with the help of a scatter plot. "
   ]
  },
  {
   "cell_type": "markdown",
   "metadata": {},
   "source": [
    "![Scatterplot](images\\scatter.png)"
   ]
  },
  {
   "cell_type": "markdown",
   "metadata": {},
   "source": [
    "- They're pretty useful in regression problems to check whether a linear trend exists in the data or not. For example, in the image below, creating a linear model in the first case makes far more sense since a clear straight line trend is visible."
   ]
  },
  {
   "cell_type": "markdown",
   "metadata": {},
   "source": [
    "![Scatterplot-Reg](images\\regression3.png)"
   ]
  },
  {
   "cell_type": "markdown",
   "metadata": {},
   "source": [
    "- Also, they help in observing __naturally occuring clusters__. In the following image, the marks of students in Maths and Biology has been plotted.You can clearly group the students to 4 clusters now. Cluster 1 are students who score very well in Biology but very poorly in Maths, Cluster 2 are students who score equally well in both the subjects and so on."
   ]
  },
  {
   "cell_type": "markdown",
   "metadata": {},
   "source": [
    "![Scatter-Clusters](images\\Clusters.png)"
   ]
  },
  {
   "cell_type": "markdown",
   "metadata": {},
   "source": [
    "**Note**: You'll be studying about both Regression and Clustering in greater detail in the machine learning modules"
   ]
  },
  {
   "cell_type": "markdown",
   "metadata": {},
   "source": [
    "You'll be using **sns.jointplot()** for creating a scatter plot. Check out its documentation:\n",
    "https://seaborn.pydata.org/generated/seaborn.jointplot.html"
   ]
  },
  {
   "cell_type": "code",
   "execution_count": 32,
   "metadata": {},
   "outputs": [],
   "source": [
    "###Size vs Rating\n",
    "\n",
    "##Plot a scatter-plot in the matplotlib way between Size and Rating\n"
   ]
  },
  {
   "cell_type": "code",
   "execution_count": 33,
   "metadata": {},
   "outputs": [],
   "source": [
    "### Plot the same thing now using a jointplot\n"
   ]
  },
  {
   "cell_type": "code",
   "execution_count": 34,
   "metadata": {},
   "outputs": [],
   "source": [
    "## Plot a jointplot for Price and Rating\n"
   ]
  },
  {
   "cell_type": "markdown",
   "metadata": {},
   "source": [
    "**Reg Plots**\n",
    "\n",
    "- These are an extension to the jointplots, where a regression line is added to the view "
   ]
  },
  {
   "cell_type": "code",
   "execution_count": 35,
   "metadata": {},
   "outputs": [],
   "source": [
    "##Plot a reg plot for Price and Rating and observe the trend\n",
    "\n"
   ]
  },
  {
   "cell_type": "code",
   "execution_count": 36,
   "metadata": {},
   "outputs": [],
   "source": [
    "## Question - Plot a reg plot for Price and Rating again for only the paid apps.\n"
   ]
  },
  {
   "cell_type": "markdown",
   "metadata": {},
   "source": [
    "**Pair Plots**"
   ]
  },
  {
   "cell_type": "markdown",
   "metadata": {},
   "source": [
    " - When you have several numeric variables, making multiple scatter plots becomes rather tedious. Therefore, a pair plot visualisation is preferred where all the scatter plots are in a single view in the form of a matrix\n",
    " - For the non-diagonal views, it plots a **scatter plot** between 2 numeric variables\n",
    " - For the diagonal views, it plots a **histogram**"
   ]
  },
  {
   "cell_type": "markdown",
   "metadata": {},
   "source": [
    "Pair Plots help in identifying the trends between a target variable and the predictor variables pretty quickly. For example, say you want to predict how your company’s profits are affected by three different factors. In order to choose which you created a pair plot containing profits and the three different factors as the variables. Here are the scatterplots of profits vs the three variables that you obtained from the pair plot."
   ]
  },
  {
   "cell_type": "markdown",
   "metadata": {},
   "source": [
    "![Pairplots](images\\pairplots2.png)"
   ]
  },
  {
   "cell_type": "markdown",
   "metadata": {},
   "source": [
    "It is clearly visible that the left-most factor is the most prominently related to the profits, given how linearly scattered the points are and how randomly scattered the rest two factors are."
   ]
  },
  {
   "cell_type": "markdown",
   "metadata": {},
   "source": [
    "You'll be using **sns.pairplot()** for this visualisation. Check out its official documentation:https://seaborn.pydata.org/generated/seaborn.pairplot.html"
   ]
  },
  {
   "cell_type": "code",
   "execution_count": 37,
   "metadata": {},
   "outputs": [],
   "source": [
    "## Create a pair plot for Reviews, Size, Price and Rating\n",
    "\n"
   ]
  },
  {
   "cell_type": "markdown",
   "metadata": {},
   "source": [
    "**Bar Charts Revisited**"
   ]
  },
  {
   "cell_type": "markdown",
   "metadata": {},
   "source": [
    "- Here, you'll be using bar charts once again, this time using the **sns.barplot()** function. Check out its official documentation:https://seaborn.pydata.org/generated/seaborn.barplot.html\n",
    "- You can modify the **estimator** parameter to change the aggregation value of your barplot"
   ]
  },
  {
   "cell_type": "code",
   "execution_count": 38,
   "metadata": {},
   "outputs": [],
   "source": [
    "##Plot a bar plot of Content Rating vs Average Rating \n"
   ]
  },
  {
   "cell_type": "code",
   "execution_count": 39,
   "metadata": {},
   "outputs": [],
   "source": [
    "##Plot the bar plot again with Median Rating\n"
   ]
  },
  {
   "cell_type": "code",
   "execution_count": 40,
   "metadata": {},
   "outputs": [],
   "source": [
    "##Plot the above bar plot using the estimator parameter\n",
    "\n"
   ]
  },
  {
   "cell_type": "code",
   "execution_count": 41,
   "metadata": {},
   "outputs": [],
   "source": [
    "##Plot the bar plot with only the 5th percentile of Ratings\n"
   ]
  },
  {
   "cell_type": "code",
   "execution_count": 42,
   "metadata": {},
   "outputs": [],
   "source": [
    "##Question - Plot the bar plot with the minimum Rating\n"
   ]
  },
  {
   "cell_type": "markdown",
   "metadata": {},
   "source": [
    "__Box Plots Revisited__\n",
    "\n",
    "- Apart from outlier analysis, box plots are great at comparing the spread and analysing a numerical variable across several categories\n",
    "- Here you'll be using **sns.boxplot()** function to plot the visualisation. Check out its documentation: https://seaborn.pydata.org/generated/seaborn.boxplot.html\n",
    "\n",
    "\n"
   ]
  },
  {
   "cell_type": "code",
   "execution_count": 43,
   "metadata": {},
   "outputs": [],
   "source": [
    "##Plot a box plot of Rating vs Content Rating\n"
   ]
  },
  {
   "cell_type": "code",
   "execution_count": 44,
   "metadata": {},
   "outputs": [],
   "source": [
    "##Question - Plot a box plot for the Rating column only\n"
   ]
  },
  {
   "cell_type": "code",
   "execution_count": 45,
   "metadata": {},
   "outputs": [],
   "source": [
    "##Question - Plot a box plot of Ratings across the 4 most popular Genres\n"
   ]
  },
  {
   "cell_type": "markdown",
   "metadata": {},
   "source": [
    "#### Heat Maps"
   ]
  },
  {
   "cell_type": "markdown",
   "metadata": {},
   "source": [
    "Heat mapsutilise the concept of using colours and colour intensities to visualise a range of values. You must have seen heat maps in cricket or football broadcasts on television to denote the players’ areas of strength and weakness."
   ]
  },
  {
   "cell_type": "markdown",
   "metadata": {},
   "source": [
    "![HeatMap](images\\heatmap1.png)"
   ]
  },
  {
   "cell_type": "markdown",
   "metadata": {},
   "source": [
    "- In python, you can create a heat map whenever you have a rectangular grid or table of numbers analysing any two features"
   ]
  },
  {
   "cell_type": "markdown",
   "metadata": {},
   "source": [
    "![heatmap2](images\\heatmap2.png)"
   ]
  },
  {
   "cell_type": "markdown",
   "metadata": {},
   "source": [
    "- You'll be using **sns.heatmap()** to plot the visualisation. Checkout its official documentation :https://seaborn.pydata.org/generated/seaborn.heatmap.html"
   ]
  },
  {
   "cell_type": "code",
   "execution_count": 46,
   "metadata": {},
   "outputs": [],
   "source": [
    "##Ratings vs Size vs Content Rating\n",
    "\n",
    "##Prepare buckets for the Size column using pd.qcut\n",
    "\n"
   ]
  },
  {
   "cell_type": "code",
   "execution_count": 47,
   "metadata": {},
   "outputs": [],
   "source": [
    "##Create a pivot table for Size_buckets and Content Rating with values set to Rating\n"
   ]
  },
  {
   "cell_type": "code",
   "execution_count": 48,
   "metadata": {},
   "outputs": [],
   "source": [
    "##Change the aggregation to median\n"
   ]
  },
  {
   "cell_type": "code",
   "execution_count": 49,
   "metadata": {},
   "outputs": [],
   "source": [
    "##Change the aggregation to 20th percentile\n"
   ]
  },
  {
   "cell_type": "code",
   "execution_count": 50,
   "metadata": {},
   "outputs": [],
   "source": [
    "##Store the pivot table in a separate variable\n"
   ]
  },
  {
   "cell_type": "code",
   "execution_count": 51,
   "metadata": {},
   "outputs": [],
   "source": [
    "##Plot a heat map\n"
   ]
  },
  {
   "cell_type": "code",
   "execution_count": 52,
   "metadata": {},
   "outputs": [],
   "source": [
    "##Apply customisations\n"
   ]
  },
  {
   "cell_type": "code",
   "execution_count": 53,
   "metadata": {},
   "outputs": [],
   "source": [
    "##Question - Replace Content Rating with Review_buckets in the above heat map\n",
    "##Keep the aggregation at minimum value for Rating\n"
   ]
  },
  {
   "cell_type": "markdown",
   "metadata": {},
   "source": [
    "### Session 3: Additional Visualisations"
   ]
  },
  {
   "cell_type": "markdown",
   "metadata": {},
   "source": [
    "#### Line Plots"
   ]
  },
  {
   "cell_type": "markdown",
   "metadata": {},
   "source": [
    "- A line plot tries to observe trends using time dependent data.\n",
    "-  For this part, you'll be using **pd.to_datetime()** function. Check out its documentation:https://pandas.pydata.org/pandas-docs/stable/reference/api/pandas.to_datetime.html\n"
   ]
  },
  {
   "cell_type": "code",
   "execution_count": 54,
   "metadata": {},
   "outputs": [],
   "source": [
    "## Extract the month from the Last Updated Date\n",
    "\n"
   ]
  },
  {
   "cell_type": "code",
   "execution_count": 55,
   "metadata": {},
   "outputs": [],
   "source": [
    "## Find the average Rating across all the months\n",
    "\n"
   ]
  },
  {
   "cell_type": "code",
   "execution_count": 56,
   "metadata": {},
   "outputs": [],
   "source": [
    "## Plot a line graph\n",
    "\n"
   ]
  },
  {
   "cell_type": "markdown",
   "metadata": {},
   "source": [
    "#### Stacked Bar Charts"
   ]
  },
  {
   "cell_type": "markdown",
   "metadata": {},
   "source": [
    "- A stacked bar chart breaks down each bar of the bar chart on the basis of a different category\n",
    "- For example, for the Campaign Response bar chart you saw earlier, the stacked bar chart is also showing the Gender bifurcation as well"
   ]
  },
  {
   "cell_type": "markdown",
   "metadata": {},
   "source": [
    "![Stacked](images\\stacked.png)"
   ]
  },
  {
   "cell_type": "code",
   "execution_count": 57,
   "metadata": {},
   "outputs": [],
   "source": [
    "## Create a pivot table for Content Rating and updated Month with the values set to Installs\n"
   ]
  },
  {
   "cell_type": "code",
   "execution_count": 58,
   "metadata": {},
   "outputs": [],
   "source": [
    "##Store the table in a separate variable\n"
   ]
  },
  {
   "cell_type": "code",
   "execution_count": 59,
   "metadata": {},
   "outputs": [],
   "source": [
    "##Plot the stacked bar chart.\n"
   ]
  },
  {
   "cell_type": "code",
   "execution_count": 60,
   "metadata": {},
   "outputs": [],
   "source": [
    "##Plot the stacked bar chart again wrt to the proportions.\n",
    "\n"
   ]
  },
  {
   "cell_type": "markdown",
   "metadata": {},
   "source": [
    "#### Plotly"
   ]
  },
  {
   "cell_type": "markdown",
   "metadata": {},
   "source": [
    "Plotly is a Python library used for creating interactive visual charts. You can take a look at how you can use it to create aesthetic looking plots with a lot of user-friendly functionalities like hover, zoom, etc."
   ]
  },
  {
   "cell_type": "markdown",
   "metadata": {},
   "source": [
    "Check out this link for installation and documentation:https://plot.ly/python/getting-started/"
   ]
  },
  {
   "cell_type": "code",
   "execution_count": 61,
   "metadata": {},
   "outputs": [],
   "source": [
    "#Install plotly\n"
   ]
  },
  {
   "cell_type": "code",
   "execution_count": 62,
   "metadata": {},
   "outputs": [],
   "source": [
    "#Take the table you want to plot in a separate variable\n"
   ]
  },
  {
   "cell_type": "code",
   "execution_count": 63,
   "metadata": {},
   "outputs": [],
   "source": [
    "#Import the plotly libraries\n"
   ]
  },
  {
   "cell_type": "code",
   "execution_count": 64,
   "metadata": {},
   "outputs": [],
   "source": [
    "#Prepare the plot\n"
   ]
  }
 ],
 "metadata": {
  "kernelspec": {
   "display_name": "Python 3",
   "language": "python",
   "name": "python3"
  },
  "language_info": {
   "codemirror_mode": {
    "name": "ipython",
    "version": 3
   },
   "file_extension": ".py",
   "mimetype": "text/x-python",
   "name": "python",
   "nbconvert_exporter": "python",
   "pygments_lexer": "ipython3",
   "version": "3.7.9"
  }
 },
 "nbformat": 4,
 "nbformat_minor": 2
}
